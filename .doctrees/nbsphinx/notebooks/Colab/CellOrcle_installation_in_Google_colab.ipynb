{
 "cells": [
  {
   "cell_type": "code",
   "execution_count": 1,
   "metadata": {
    "id": "nh2EXA7bWiwh"
   },
   "outputs": [
    {
     "name": "stdout",
     "output_type": "stream",
     "text": [
      "Collecting git+https://github.com/morris-lab/CellOracle.git\r\n",
      "  Cloning https://github.com/morris-lab/CellOracle.git to /tmp/pip-req-build-n4jpaqro\r\n"
     ]
    },
    {
     "name": "stdout",
     "output_type": "stream",
     "text": [
      "Requirement already satisfied (use --upgrade to upgrade): celloracle==0.6.11 from git+https://github.com/morris-lab/CellOracle.git in /home/k/anaconda3/envs/pandas1/lib/python3.6/site-packages\r\n",
      "Requirement already satisfied: numpy in /home/k/anaconda3/envs/pandas1/lib/python3.6/site-packages (from celloracle==0.6.11) (1.17.5)\r\n",
      "Requirement already satisfied: scipy in /home/k/anaconda3/envs/pandas1/lib/python3.6/site-packages (from celloracle==0.6.11) (1.4.1)\r\n",
      "Requirement already satisfied: cython in /home/k/anaconda3/envs/pandas1/lib/python3.6/site-packages (from celloracle==0.6.11) (0.29.20)\r\n",
      "Requirement already satisfied: numba==0.50.1 in /home/k/anaconda3/envs/pandas1/lib/python3.6/site-packages (from celloracle==0.6.11) (0.50.1)\r\n",
      "Requirement already satisfied: matplotlib in /home/k/anaconda3/envs/pandas1/lib/python3.6/site-packages (from celloracle==0.6.11) (3.2.2)\r\n",
      "Requirement already satisfied: seaborn in /home/k/anaconda3/envs/pandas1/lib/python3.6/site-packages (from celloracle==0.6.11) (0.10.1)\r\n",
      "Requirement already satisfied: scikit-learn in /home/k/anaconda3/envs/pandas1/lib/python3.6/site-packages (from celloracle==0.6.11) (0.24.2)\r\n"
     ]
    },
    {
     "name": "stdout",
     "output_type": "stream",
     "text": [
      "Requirement already satisfied: h5py>=3.1.0 in /home/k/anaconda3/envs/pandas1/lib/python3.6/site-packages (from celloracle==0.6.11) (3.1.0)\r\n",
      "Requirement already satisfied: pandas>=1.0.3 in /home/k/anaconda3/envs/pandas1/lib/python3.6/site-packages (from celloracle==0.6.11) (1.0.5)\r\n",
      "Requirement already satisfied: velocyto>=0.17 in /home/k/anaconda3/envs/pandas1/lib/python3.6/site-packages (from celloracle==0.6.11) (0.17.17)\r\n",
      "Requirement already satisfied: umap-learn in /home/k/anaconda3/envs/pandas1/lib/python3.6/site-packages (from celloracle==0.6.11) (0.4.6)\r\n",
      "Requirement already satisfied: pyarrow>=0.17 in /home/k/anaconda3/envs/pandas1/lib/python3.6/site-packages (from celloracle==0.6.11) (1.0.0)\r\n",
      "Requirement already satisfied: jupyter in /home/k/anaconda3/envs/pandas1/lib/python3.6/site-packages (from celloracle==0.6.11) (1.0.0)\r\n",
      "Requirement already satisfied: tqdm>=4.45 in /home/k/anaconda3/envs/pandas1/lib/python3.6/site-packages (from celloracle==0.6.11) (4.48.2)\r\n"
     ]
    },
    {
     "name": "stdout",
     "output_type": "stream",
     "text": [
      "Requirement already satisfied: python-igraph in /home/k/anaconda3/envs/pandas1/lib/python3.6/site-packages (from celloracle==0.6.11) (0.8.2)\r\n",
      "Requirement already satisfied: louvain in /home/k/anaconda3/envs/pandas1/lib/python3.6/site-packages (from celloracle==0.6.11) (0.7.0)\r\n",
      "Requirement already satisfied: fa2 in /home/k/anaconda3/envs/pandas1/lib/python3.6/site-packages (from celloracle==0.6.11) (0.3.5)\r\n",
      "Requirement already satisfied: anndata>=0.7.5 in /home/k/anaconda3/envs/pandas1/lib/python3.6/site-packages (from celloracle==0.6.11) (0.7.5)\r\n",
      "Requirement already satisfied: scanpy>=1.6 in /home/k/anaconda3/envs/pandas1/lib/python3.6/site-packages (from celloracle==0.6.11) (1.7.2)\r\n"
     ]
    },
    {
     "name": "stdout",
     "output_type": "stream",
     "text": [
      "Requirement already satisfied: joblib in /home/k/anaconda3/envs/pandas1/lib/python3.6/site-packages (from celloracle==0.6.11) (0.15.1)\r\n",
      "Requirement already satisfied: goatools in /home/k/anaconda3/envs/pandas1/lib/python3.6/site-packages (from celloracle==0.6.11) (1.0.5)\r\n",
      "Requirement already satisfied: genomepy==0.8.4 in /home/k/anaconda3/envs/pandas1/lib/python3.6/site-packages (from celloracle==0.6.11) (0.8.4)\r\n",
      "Requirement already satisfied: gimmemotifs==0.14.4 in /home/k/anaconda3/envs/pandas1/lib/python3.6/site-packages (from celloracle==0.6.11) (0.14.4)\r\n",
      "Requirement already satisfied: setuptools in /home/k/anaconda3/envs/pandas1/lib/python3.6/site-packages (from numba==0.50.1->celloracle==0.6.11) (49.2.1.post20200802)\r\n",
      "Requirement already satisfied: llvmlite<0.34,>=0.33.0.dev0 in /home/k/anaconda3/envs/pandas1/lib/python3.6/site-packages (from numba==0.50.1->celloracle==0.6.11) (0.33.0)\r\n",
      "Requirement already satisfied: kiwisolver>=1.0.1 in /home/k/anaconda3/envs/pandas1/lib/python3.6/site-packages (from matplotlib->celloracle==0.6.11) (1.2.0)\r\n",
      "Requirement already satisfied: python-dateutil>=2.1 in /home/k/anaconda3/envs/pandas1/lib/python3.6/site-packages (from matplotlib->celloracle==0.6.11) (2.8.1)\r\n",
      "Requirement already satisfied: cycler>=0.10 in /home/k/anaconda3/envs/pandas1/lib/python3.6/site-packages (from matplotlib->celloracle==0.6.11) (0.10.0)\r\n",
      "Requirement already satisfied: pyparsing!=2.0.4,!=2.1.2,!=2.1.6,>=2.0.1 in /home/k/anaconda3/envs/pandas1/lib/python3.6/site-packages (from matplotlib->celloracle==0.6.11) (2.4.7)\r\n"
     ]
    },
    {
     "name": "stdout",
     "output_type": "stream",
     "text": [
      "Requirement already satisfied: threadpoolctl>=2.0.0 in /home/k/anaconda3/envs/pandas1/lib/python3.6/site-packages (from scikit-learn->celloracle==0.6.11) (2.1.0)\r\n",
      "Requirement already satisfied: cached-property; python_version < \"3.8\" in /home/k/anaconda3/envs/pandas1/lib/python3.6/site-packages (from h5py>=3.1.0->celloracle==0.6.11) (1.5.2)\r\n",
      "Requirement already satisfied: pytz>=2017.2 in /home/k/anaconda3/envs/pandas1/lib/python3.6/site-packages (from pandas>=1.0.3->celloracle==0.6.11) (2020.1)\r\n",
      "Requirement already satisfied: pysam in /home/k/anaconda3/envs/pandas1/lib/python3.6/site-packages (from velocyto>=0.17->celloracle==0.6.11) (0.16.0.1)\r\n",
      "Requirement already satisfied: loompy in /home/k/anaconda3/envs/pandas1/lib/python3.6/site-packages (from velocyto>=0.17->celloracle==0.6.11) (3.0.6)\r\n",
      "Requirement already satisfied: Click in /home/k/anaconda3/envs/pandas1/lib/python3.6/site-packages (from velocyto>=0.17->celloracle==0.6.11) (7.1.2)\r\n",
      "Requirement already satisfied: qtconsole in /home/k/anaconda3/envs/pandas1/lib/python3.6/site-packages (from jupyter->celloracle==0.6.11) (4.7.5)\r\n",
      "Requirement already satisfied: nbconvert in /home/k/anaconda3/envs/pandas1/lib/python3.6/site-packages (from jupyter->celloracle==0.6.11) (5.6.1)\r\n",
      "Requirement already satisfied: jupyter-console in /home/k/anaconda3/envs/pandas1/lib/python3.6/site-packages (from jupyter->celloracle==0.6.11) (6.1.0)\r\n",
      "Requirement already satisfied: notebook in /home/k/anaconda3/envs/pandas1/lib/python3.6/site-packages (from jupyter->celloracle==0.6.11) (6.1.0)\r\n"
     ]
    },
    {
     "name": "stdout",
     "output_type": "stream",
     "text": [
      "Requirement already satisfied: ipywidgets in /home/k/anaconda3/envs/pandas1/lib/python3.6/site-packages (from jupyter->celloracle==0.6.11) (7.5.1)\r\n",
      "Requirement already satisfied: ipykernel in /home/k/anaconda3/envs/pandas1/lib/python3.6/site-packages (from jupyter->celloracle==0.6.11) (5.3.4)\r\n",
      "Requirement already satisfied: texttable>=1.6.2 in /home/k/anaconda3/envs/pandas1/lib/python3.6/site-packages (from python-igraph->celloracle==0.6.11) (1.6.2)\r\n",
      "Requirement already satisfied: packaging in /home/k/anaconda3/envs/pandas1/lib/python3.6/site-packages (from anndata>=0.7.5->celloracle==0.6.11) (20.4)\r\n",
      "Requirement already satisfied: natsort in /home/k/anaconda3/envs/pandas1/lib/python3.6/site-packages (from anndata>=0.7.5->celloracle==0.6.11) (7.0.1)\r\n",
      "Requirement already satisfied: importlib-metadata>=0.7; python_version < \"3.8\" in /home/k/anaconda3/envs/pandas1/lib/python3.6/site-packages (from anndata>=0.7.5->celloracle==0.6.11) (1.7.0)\r\n",
      "Requirement already satisfied: tables in /home/k/anaconda3/envs/pandas1/lib/python3.6/site-packages (from scanpy>=1.6->celloracle==0.6.11) (3.6.1)\r\n",
      "Requirement already satisfied: patsy in /home/k/anaconda3/envs/pandas1/lib/python3.6/site-packages (from scanpy>=1.6->celloracle==0.6.11) (0.5.1)\r\n",
      "Requirement already satisfied: legacy-api-wrap in /home/k/anaconda3/envs/pandas1/lib/python3.6/site-packages (from scanpy>=1.6->celloracle==0.6.11) (0.0.0)\r\n"
     ]
    },
    {
     "name": "stdout",
     "output_type": "stream",
     "text": [
      "Requirement already satisfied: sinfo in /home/k/anaconda3/envs/pandas1/lib/python3.6/site-packages (from scanpy>=1.6->celloracle==0.6.11) (0.3.4)\r\n",
      "Requirement already satisfied: networkx>=2.3 in /home/k/anaconda3/envs/pandas1/lib/python3.6/site-packages (from scanpy>=1.6->celloracle==0.6.11) (2.4)\r\n",
      "Requirement already satisfied: statsmodels>=0.10.0rc2 in /home/k/anaconda3/envs/pandas1/lib/python3.6/site-packages (from scanpy>=1.6->celloracle==0.6.11) (0.11.1)\r\n",
      "Requirement already satisfied: wget in /home/k/anaconda3/envs/pandas1/lib/python3.6/site-packages (from goatools->celloracle==0.6.11) (3.2)\r\n",
      "Requirement already satisfied: pytest in /home/k/anaconda3/envs/pandas1/lib/python3.6/site-packages (from goatools->celloracle==0.6.11) (6.0.1)\r\n",
      "Requirement already satisfied: pydot in /home/k/anaconda3/envs/pandas1/lib/python3.6/site-packages (from goatools->celloracle==0.6.11) (1.4.1)\r\n",
      "Requirement already satisfied: pytest-cov in /home/k/anaconda3/envs/pandas1/lib/python3.6/site-packages (from goatools->celloracle==0.6.11) (2.10.0)\r\n",
      "Requirement already satisfied: nose in /home/k/anaconda3/envs/pandas1/lib/python3.6/site-packages (from goatools->celloracle==0.6.11) (1.3.7)\r\n"
     ]
    },
    {
     "name": "stdout",
     "output_type": "stream",
     "text": [
      "Requirement already satisfied: xlsxwriter in /home/k/anaconda3/envs/pandas1/lib/python3.6/site-packages (from goatools->celloracle==0.6.11) (1.3.0)\r\n",
      "Requirement already satisfied: xlrd in /home/k/anaconda3/envs/pandas1/lib/python3.6/site-packages (from goatools->celloracle==0.6.11) (1.2.0)\r\n",
      "Requirement already satisfied: docopt in /home/k/anaconda3/envs/pandas1/lib/python3.6/site-packages (from goatools->celloracle==0.6.11) (0.6.2)\r\n",
      "Requirement already satisfied: requests in /home/k/anaconda3/envs/pandas1/lib/python3.6/site-packages (from goatools->celloracle==0.6.11) (2.24.0)\r\n",
      "Requirement already satisfied: psutil in /home/k/anaconda3/envs/pandas1/lib/python3.6/site-packages (from genomepy==0.8.4->celloracle==0.6.11) (5.7.2)\r\n",
      "Requirement already satisfied: bucketcache in /home/k/anaconda3/envs/pandas1/lib/python3.6/site-packages (from genomepy==0.8.4->celloracle==0.6.11) (0.12.1)\r\n",
      "Requirement already satisfied: colorama in /home/k/anaconda3/envs/pandas1/lib/python3.6/site-packages (from genomepy==0.8.4->celloracle==0.6.11) (0.4.3)\r\n",
      "Requirement already satisfied: norns>=0.1.5 in /home/k/anaconda3/envs/pandas1/lib/python3.6/site-packages (from genomepy==0.8.4->celloracle==0.6.11) (0.1.5)\r\n",
      "Requirement already satisfied: biopython>=1.73 in /home/k/anaconda3/envs/pandas1/lib/python3.6/site-packages (from genomepy==0.8.4->celloracle==0.6.11) (1.77)\r\n",
      "Requirement already satisfied: pyfaidx>=0.5.7 in /home/k/anaconda3/envs/pandas1/lib/python3.6/site-packages (from genomepy==0.8.4->celloracle==0.6.11) (0.5.9.1)\r\n",
      "Requirement already satisfied: appdirs in /home/k/anaconda3/envs/pandas1/lib/python3.6/site-packages (from genomepy==0.8.4->celloracle==0.6.11) (1.4.4)\r\n",
      "Requirement already satisfied: diskcache in /home/k/anaconda3/envs/pandas1/lib/python3.6/site-packages (from gimmemotifs==0.14.4->celloracle==0.6.11) (4.1.0)\r\n",
      "Requirement already satisfied: pillow in /home/k/anaconda3/envs/pandas1/lib/python3.6/site-packages (from gimmemotifs==0.14.4->celloracle==0.6.11) (7.2.0)\r\n",
      "Requirement already satisfied: pybedtools in /home/k/anaconda3/envs/pandas1/lib/python3.6/site-packages (from gimmemotifs==0.14.4->celloracle==0.6.11) (0.8.1)\r\n",
      "Requirement already satisfied: pyyaml>=3.10 in /home/k/anaconda3/envs/pandas1/lib/python3.6/site-packages (from gimmemotifs==0.14.4->celloracle==0.6.11) (5.3.1)\r\n",
      "Requirement already satisfied: sklearn-contrib-lightning in /home/k/anaconda3/envs/pandas1/lib/python3.6/site-packages (from gimmemotifs==0.14.4->celloracle==0.6.11) (0.5.0)\r\n",
      "Requirement already satisfied: xgboost>=0.71 in /home/k/anaconda3/envs/pandas1/lib/python3.6/site-packages (from gimmemotifs==0.14.4->celloracle==0.6.11) (1.1.1)\r\n"
     ]
    },
    {
     "name": "stdout",
     "output_type": "stream",
     "text": [
      "Requirement already satisfied: xxhash in /home/k/anaconda3/envs/pandas1/lib/python3.6/site-packages (from gimmemotifs==0.14.4->celloracle==0.6.11) (1.4.4)\r\n",
      "Requirement already satisfied: xdg in /home/k/anaconda3/envs/pandas1/lib/python3.6/site-packages (from gimmemotifs==0.14.4->celloracle==0.6.11) (4.0.1)\r\n",
      "Requirement already satisfied: configparser in /home/k/anaconda3/envs/pandas1/lib/python3.6/site-packages (from gimmemotifs==0.14.4->celloracle==0.6.11) (5.0.0)\r\n",
      "Requirement already satisfied: future in /home/k/anaconda3/envs/pandas1/lib/python3.6/site-packages (from gimmemotifs==0.14.4->celloracle==0.6.11) (0.18.2)\r\n",
      "Requirement already satisfied: jinja2 in /home/k/anaconda3/envs/pandas1/lib/python3.6/site-packages (from gimmemotifs==0.14.4->celloracle==0.6.11) (2.11.2)\r\n",
      "Requirement already satisfied: logomaker in /home/k/anaconda3/envs/pandas1/lib/python3.6/site-packages (from gimmemotifs==0.14.4->celloracle==0.6.11) (0.8)\r\n",
      "Requirement already satisfied: six in /home/k/anaconda3/envs/pandas1/lib/python3.6/site-packages (from gimmemotifs==0.14.4->celloracle==0.6.11) (1.15.0)\r\n",
      "Requirement already satisfied: numpy-groupies in /home/k/anaconda3/envs/pandas1/lib/python3.6/site-packages (from loompy->velocyto>=0.17->celloracle==0.6.11) (0+unknown)\r\n",
      "Requirement already satisfied: jupyter-client>=4.1 in /home/k/anaconda3/envs/pandas1/lib/python3.6/site-packages (from qtconsole->jupyter->celloracle==0.6.11) (6.1.6)\r\n",
      "Requirement already satisfied: jupyter-core in /home/k/anaconda3/envs/pandas1/lib/python3.6/site-packages (from qtconsole->jupyter->celloracle==0.6.11) (4.6.3)\r\n",
      "Requirement already satisfied: ipython-genutils in /home/k/anaconda3/envs/pandas1/lib/python3.6/site-packages (from qtconsole->jupyter->celloracle==0.6.11) (0.2.0)\r\n",
      "Requirement already satisfied: pygments in /home/k/anaconda3/envs/pandas1/lib/python3.6/site-packages (from qtconsole->jupyter->celloracle==0.6.11) (2.6.1)\r\n",
      "Requirement already satisfied: qtpy in /home/k/anaconda3/envs/pandas1/lib/python3.6/site-packages (from qtconsole->jupyter->celloracle==0.6.11) (1.9.0)\r\n",
      "Requirement already satisfied: traitlets in /home/k/anaconda3/envs/pandas1/lib/python3.6/site-packages (from qtconsole->jupyter->celloracle==0.6.11) (4.3.3)\r\n",
      "Requirement already satisfied: pyzmq>=17.1 in /home/k/anaconda3/envs/pandas1/lib/python3.6/site-packages (from qtconsole->jupyter->celloracle==0.6.11) (19.0.2)\r\n",
      "Requirement already satisfied: nbformat>=4.4 in /home/k/anaconda3/envs/pandas1/lib/python3.6/site-packages (from nbconvert->jupyter->celloracle==0.6.11) (5.0.7)\r\n"
     ]
    },
    {
     "name": "stdout",
     "output_type": "stream",
     "text": [
      "Requirement already satisfied: mistune<2,>=0.8.1 in /home/k/anaconda3/envs/pandas1/lib/python3.6/site-packages (from nbconvert->jupyter->celloracle==0.6.11) (0.8.4)\r\n",
      "Requirement already satisfied: pandocfilters>=1.4.1 in /home/k/anaconda3/envs/pandas1/lib/python3.6/site-packages (from nbconvert->jupyter->celloracle==0.6.11) (1.4.2)\r\n",
      "Requirement already satisfied: bleach in /home/k/anaconda3/envs/pandas1/lib/python3.6/site-packages (from nbconvert->jupyter->celloracle==0.6.11) (3.1.5)\r\n",
      "Requirement already satisfied: testpath in /home/k/anaconda3/envs/pandas1/lib/python3.6/site-packages (from nbconvert->jupyter->celloracle==0.6.11) (0.4.4)\r\n",
      "Requirement already satisfied: entrypoints>=0.2.2 in /home/k/anaconda3/envs/pandas1/lib/python3.6/site-packages (from nbconvert->jupyter->celloracle==0.6.11) (0.3)\r\n",
      "Requirement already satisfied: defusedxml in /home/k/anaconda3/envs/pandas1/lib/python3.6/site-packages (from nbconvert->jupyter->celloracle==0.6.11) (0.6.0)\r\n",
      "Requirement already satisfied: prompt-toolkit!=3.0.0,!=3.0.1,<3.1.0,>=2.0.0 in /home/k/anaconda3/envs/pandas1/lib/python3.6/site-packages (from jupyter-console->jupyter->celloracle==0.6.11) (3.0.5)\r\n",
      "Requirement already satisfied: ipython in /home/k/anaconda3/envs/pandas1/lib/python3.6/site-packages (from jupyter-console->jupyter->celloracle==0.6.11) (7.16.1)\r\n",
      "Requirement already satisfied: prometheus-client in /home/k/anaconda3/envs/pandas1/lib/python3.6/site-packages (from notebook->jupyter->celloracle==0.6.11) (0.8.0)\r\n",
      "Requirement already satisfied: terminado>=0.8.3 in /home/k/anaconda3/envs/pandas1/lib/python3.6/site-packages (from notebook->jupyter->celloracle==0.6.11) (0.8.3)\r\n",
      "Requirement already satisfied: argon2-cffi in /home/k/anaconda3/envs/pandas1/lib/python3.6/site-packages (from notebook->jupyter->celloracle==0.6.11) (20.1.0)\r\n"
     ]
    },
    {
     "name": "stdout",
     "output_type": "stream",
     "text": [
      "Requirement already satisfied: tornado>=5.0 in /home/k/anaconda3/envs/pandas1/lib/python3.6/site-packages (from notebook->jupyter->celloracle==0.6.11) (6.0.4)\r\n",
      "Requirement already satisfied: Send2Trash in /home/k/anaconda3/envs/pandas1/lib/python3.6/site-packages (from notebook->jupyter->celloracle==0.6.11) (1.5.0)\r\n",
      "Requirement already satisfied: widgetsnbextension~=3.5.0 in /home/k/anaconda3/envs/pandas1/lib/python3.6/site-packages (from ipywidgets->jupyter->celloracle==0.6.11) (3.5.1)\r\n",
      "Requirement already satisfied: zipp>=0.5 in /home/k/anaconda3/envs/pandas1/lib/python3.6/site-packages (from importlib-metadata>=0.7; python_version < \"3.8\"->anndata>=0.7.5->celloracle==0.6.11) (3.1.0)\r\n",
      "Requirement already satisfied: numexpr>=2.6.2 in /home/k/anaconda3/envs/pandas1/lib/python3.6/site-packages (from tables->scanpy>=1.6->celloracle==0.6.11) (2.7.1)\r\n",
      "Requirement already satisfied: get-version>=2.0.4 in /home/k/anaconda3/envs/pandas1/lib/python3.6/site-packages (from legacy-api-wrap->scanpy>=1.6->celloracle==0.6.11) (2.1)\r\n",
      "Requirement already satisfied: stdlib-list in /home/k/anaconda3/envs/pandas1/lib/python3.6/site-packages (from sinfo->scanpy>=1.6->celloracle==0.6.11) (0.8.0)\r\n",
      "Requirement already satisfied: decorator>=4.3.0 in /home/k/anaconda3/envs/pandas1/lib/python3.6/site-packages (from networkx>=2.3->scanpy>=1.6->celloracle==0.6.11) (4.4.2)\r\n",
      "Requirement already satisfied: py>=1.8.2 in /home/k/anaconda3/envs/pandas1/lib/python3.6/site-packages (from pytest->goatools->celloracle==0.6.11) (1.9.0)\r\n",
      "Requirement already satisfied: toml in /home/k/anaconda3/envs/pandas1/lib/python3.6/site-packages (from pytest->goatools->celloracle==0.6.11) (0.10.1)\r\n",
      "Requirement already satisfied: pluggy<1.0,>=0.12 in /home/k/anaconda3/envs/pandas1/lib/python3.6/site-packages (from pytest->goatools->celloracle==0.6.11) (0.13.1)\r\n",
      "Requirement already satisfied: attrs>=17.4.0 in /home/k/anaconda3/envs/pandas1/lib/python3.6/site-packages (from pytest->goatools->celloracle==0.6.11) (19.3.0)\r\n",
      "Requirement already satisfied: iniconfig in /home/k/anaconda3/envs/pandas1/lib/python3.6/site-packages (from pytest->goatools->celloracle==0.6.11) (1.0.1)\r\n",
      "Requirement already satisfied: more-itertools>=4.0.0 in /home/k/anaconda3/envs/pandas1/lib/python3.6/site-packages (from pytest->goatools->celloracle==0.6.11) (8.4.0)\r\n",
      "Requirement already satisfied: coverage>=4.4 in /home/k/anaconda3/envs/pandas1/lib/python3.6/site-packages (from pytest-cov->goatools->celloracle==0.6.11) (5.1)\r\n"
     ]
    },
    {
     "name": "stdout",
     "output_type": "stream",
     "text": [
      "Requirement already satisfied: certifi>=2017.4.17 in /home/k/anaconda3/envs/pandas1/lib/python3.6/site-packages (from requests->goatools->celloracle==0.6.11) (2020.12.5)\r\n",
      "Requirement already satisfied: idna<3,>=2.5 in /home/k/anaconda3/envs/pandas1/lib/python3.6/site-packages (from requests->goatools->celloracle==0.6.11) (2.10)\r\n",
      "Requirement already satisfied: urllib3!=1.25.0,!=1.25.1,<1.26,>=1.21.1 in /home/k/anaconda3/envs/pandas1/lib/python3.6/site-packages (from requests->goatools->celloracle==0.6.11) (1.25.10)\r\n",
      "Requirement already satisfied: chardet<4,>=3.0.2 in /home/k/anaconda3/envs/pandas1/lib/python3.6/site-packages (from requests->goatools->celloracle==0.6.11) (3.0.4)\r\n",
      "Requirement already satisfied: boltons in /home/k/anaconda3/envs/pandas1/lib/python3.6/site-packages (from bucketcache->genomepy==0.8.4->celloracle==0.6.11) (20.2.0)\r\n",
      "Requirement already satisfied: logbook>=0.12.5 in /home/k/anaconda3/envs/pandas1/lib/python3.6/site-packages (from bucketcache->genomepy==0.8.4->celloracle==0.6.11) (1.5.3)\r\n",
      "Requirement already satisfied: represent>=1.5.1 in /home/k/anaconda3/envs/pandas1/lib/python3.6/site-packages (from bucketcache->genomepy==0.8.4->celloracle==0.6.11) (1.6.0)\r\n",
      "Requirement already satisfied: MarkupSafe>=0.23 in /home/k/anaconda3/envs/pandas1/lib/python3.6/site-packages (from jinja2->gimmemotifs==0.14.4->celloracle==0.6.11) (1.1.1)\r\n",
      "Requirement already satisfied: jsonschema!=2.5.0,>=2.4 in /home/k/anaconda3/envs/pandas1/lib/python3.6/site-packages (from nbformat>=4.4->nbconvert->jupyter->celloracle==0.6.11) (3.2.0)\r\n",
      "Requirement already satisfied: webencodings in /home/k/anaconda3/envs/pandas1/lib/python3.6/site-packages (from bleach->nbconvert->jupyter->celloracle==0.6.11) (0.5.1)\r\n",
      "Requirement already satisfied: wcwidth in /home/k/anaconda3/envs/pandas1/lib/python3.6/site-packages (from prompt-toolkit!=3.0.0,!=3.0.1,<3.1.0,>=2.0.0->jupyter-console->jupyter->celloracle==0.6.11) (0.2.5)\r\n",
      "Requirement already satisfied: backcall in /home/k/anaconda3/envs/pandas1/lib/python3.6/site-packages (from ipython->jupyter-console->jupyter->celloracle==0.6.11) (0.2.0)\r\n"
     ]
    },
    {
     "name": "stdout",
     "output_type": "stream",
     "text": [
      "Requirement already satisfied: pexpect; sys_platform != \"win32\" in /home/k/anaconda3/envs/pandas1/lib/python3.6/site-packages (from ipython->jupyter-console->jupyter->celloracle==0.6.11) (4.8.0)\r\n",
      "Requirement already satisfied: pickleshare in /home/k/anaconda3/envs/pandas1/lib/python3.6/site-packages (from ipython->jupyter-console->jupyter->celloracle==0.6.11) (0.7.5)\r\n",
      "Requirement already satisfied: jedi>=0.10 in /home/k/anaconda3/envs/pandas1/lib/python3.6/site-packages (from ipython->jupyter-console->jupyter->celloracle==0.6.11) (0.17.2)\r\n",
      "Requirement already satisfied: cffi>=1.0.0 in /home/k/anaconda3/envs/pandas1/lib/python3.6/site-packages (from argon2-cffi->notebook->jupyter->celloracle==0.6.11) (1.14.1)\r\n",
      "Requirement already satisfied: pyrsistent>=0.14.0 in /home/k/anaconda3/envs/pandas1/lib/python3.6/site-packages (from jsonschema!=2.5.0,>=2.4->nbformat>=4.4->nbconvert->jupyter->celloracle==0.6.11) (0.16.0)\r\n",
      "Requirement already satisfied: ptyprocess>=0.5 in /home/k/anaconda3/envs/pandas1/lib/python3.6/site-packages (from pexpect; sys_platform != \"win32\"->ipython->jupyter-console->jupyter->celloracle==0.6.11) (0.6.0)\r\n",
      "Requirement already satisfied: parso<0.8.0,>=0.7.0 in /home/k/anaconda3/envs/pandas1/lib/python3.6/site-packages (from jedi>=0.10->ipython->jupyter-console->jupyter->celloracle==0.6.11) (0.7.1)\r\n",
      "Requirement already satisfied: pycparser in /home/k/anaconda3/envs/pandas1/lib/python3.6/site-packages (from cffi>=1.0.0->argon2-cffi->notebook->jupyter->celloracle==0.6.11) (2.20)\r\n",
      "Building wheels for collected packages: celloracle\r\n"
     ]
    },
    {
     "name": "stdout",
     "output_type": "stream",
     "text": [
      "  Building wheel for celloracle (setup.py) ... \u001b[?25l-"
     ]
    },
    {
     "name": "stdout",
     "output_type": "stream",
     "text": [
      "\b \b\\"
     ]
    },
    {
     "name": "stdout",
     "output_type": "stream",
     "text": [
      "\b \b|"
     ]
    },
    {
     "name": "stdout",
     "output_type": "stream",
     "text": [
      "\b \b/"
     ]
    },
    {
     "name": "stdout",
     "output_type": "stream",
     "text": [
      "\b \b-"
     ]
    },
    {
     "name": "stdout",
     "output_type": "stream",
     "text": [
      "\b \b\\"
     ]
    },
    {
     "name": "stdout",
     "output_type": "stream",
     "text": [
      "\b \b|"
     ]
    },
    {
     "name": "stdout",
     "output_type": "stream",
     "text": [
      "\b \b/"
     ]
    },
    {
     "name": "stdout",
     "output_type": "stream",
     "text": [
      "\b \b-"
     ]
    },
    {
     "name": "stdout",
     "output_type": "stream",
     "text": [
      "\b \b\\"
     ]
    },
    {
     "name": "stdout",
     "output_type": "stream",
     "text": [
      "\b \b|"
     ]
    },
    {
     "name": "stdout",
     "output_type": "stream",
     "text": [
      "\b \b/"
     ]
    },
    {
     "name": "stdout",
     "output_type": "stream",
     "text": [
      "\b \b-"
     ]
    },
    {
     "name": "stdout",
     "output_type": "stream",
     "text": [
      "\b \b\\"
     ]
    },
    {
     "name": "stdout",
     "output_type": "stream",
     "text": [
      "\b \b|"
     ]
    },
    {
     "name": "stdout",
     "output_type": "stream",
     "text": [
      "\b \b/"
     ]
    },
    {
     "name": "stdout",
     "output_type": "stream",
     "text": [
      "\b \b-"
     ]
    },
    {
     "name": "stdout",
     "output_type": "stream",
     "text": [
      "\b \b\\"
     ]
    },
    {
     "name": "stdout",
     "output_type": "stream",
     "text": [
      "\b \b|"
     ]
    },
    {
     "name": "stdout",
     "output_type": "stream",
     "text": [
      "\b \b/"
     ]
    },
    {
     "name": "stdout",
     "output_type": "stream",
     "text": [
      "\b \b-"
     ]
    },
    {
     "name": "stdout",
     "output_type": "stream",
     "text": [
      "\b \b\\"
     ]
    },
    {
     "name": "stdout",
     "output_type": "stream",
     "text": [
      "\b \b|"
     ]
    },
    {
     "name": "stdout",
     "output_type": "stream",
     "text": [
      "\b \b/"
     ]
    },
    {
     "name": "stdout",
     "output_type": "stream",
     "text": [
      "\b \b-"
     ]
    },
    {
     "name": "stdout",
     "output_type": "stream",
     "text": [
      "\b \b\\"
     ]
    },
    {
     "name": "stdout",
     "output_type": "stream",
     "text": [
      "\b \b|"
     ]
    },
    {
     "name": "stdout",
     "output_type": "stream",
     "text": [
      "\b \b/"
     ]
    },
    {
     "name": "stdout",
     "output_type": "stream",
     "text": [
      "\b \b-"
     ]
    },
    {
     "name": "stdout",
     "output_type": "stream",
     "text": [
      "\b \b\\"
     ]
    },
    {
     "name": "stdout",
     "output_type": "stream",
     "text": [
      "\b \b|"
     ]
    },
    {
     "name": "stdout",
     "output_type": "stream",
     "text": [
      "\b \b/"
     ]
    },
    {
     "name": "stdout",
     "output_type": "stream",
     "text": [
      "\b \b-"
     ]
    },
    {
     "name": "stdout",
     "output_type": "stream",
     "text": [
      "\b \b\\"
     ]
    },
    {
     "name": "stdout",
     "output_type": "stream",
     "text": [
      "\b \b|"
     ]
    },
    {
     "name": "stdout",
     "output_type": "stream",
     "text": [
      "\b \b/"
     ]
    },
    {
     "name": "stdout",
     "output_type": "stream",
     "text": [
      "\b \b-"
     ]
    },
    {
     "name": "stdout",
     "output_type": "stream",
     "text": [
      "\b \b\\"
     ]
    },
    {
     "name": "stdout",
     "output_type": "stream",
     "text": [
      "\b \b|"
     ]
    },
    {
     "name": "stdout",
     "output_type": "stream",
     "text": [
      "\b \b/"
     ]
    },
    {
     "name": "stdout",
     "output_type": "stream",
     "text": [
      "\b \bdone\r\n"
     ]
    },
    {
     "name": "stdout",
     "output_type": "stream",
     "text": [
      "\u001b[?25h  Created wheel for celloracle: filename=celloracle-0.6.11-py3-none-any.whl size=212624340 sha256=856f8b54548ceb236fc7cb95dc3dd5c83421d0e50ba4fb3526cc988a35377898\r\n",
      "  Stored in directory: /tmp/pip-ephem-wheel-cache-60nfjeaj/wheels/61/1c/d4/ddf7ffaf2722290ecc124290240d783aec2b6b4919149f0b34\r\n",
      "Successfully built celloracle\r\n"
     ]
    }
   ],
   "source": [
    "!pip install git+https://github.com/morris-lab/CellOracle.git\n"
   ]
  },
  {
   "cell_type": "code",
   "execution_count": 2,
   "metadata": {
    "id": "JKu93I1GYe4H"
   },
   "outputs": [
    {
     "name": "stdout",
     "output_type": "stream",
     "text": [
      "Collecting PyYAML==5.4.1\r\n",
      "  Using cached PyYAML-5.4.1-cp36-cp36m-manylinux1_x86_64.whl (640 kB)\r\n"
     ]
    },
    {
     "name": "stdout",
     "output_type": "stream",
     "text": [
      "Installing collected packages: PyYAML\r\n",
      "  Attempting uninstall: PyYAML\r\n"
     ]
    },
    {
     "name": "stdout",
     "output_type": "stream",
     "text": [
      "    Found existing installation: PyYAML 5.3.1\r\n",
      "\u001b[31mERROR: Cannot uninstall 'PyYAML'. It is a distutils installed project and thus we cannot accurately determine which files belong to it which would lead to only a partial uninstall.\u001b[0m\r\n"
     ]
    }
   ],
   "source": [
    "!pip install PyYAML==5.4.1"
   ]
  },
  {
   "cell_type": "code",
   "execution_count": 3,
   "metadata": {
    "id": "bRimci2fgOG5"
   },
   "outputs": [
    {
     "name": "stdout",
     "output_type": "stream",
     "text": [
      "E: Could not open lock file /var/lib/dpkg/lock-frontend - open (13: Permission denied)\r\n",
      "E: Unable to acquire the dpkg frontend lock (/var/lib/dpkg/lock-frontend), are you root?\r\n"
     ]
    }
   ],
   "source": [
    "!apt-get install libgsl-dev"
   ]
  },
  {
   "cell_type": "code",
   "execution_count": 4,
   "metadata": {
    "id": "Cy6kToqBbCk5"
   },
   "outputs": [
    {
     "ename": "ModuleNotFoundError",
     "evalue": "No module named 'rpy2'",
     "output_type": "error",
     "traceback": [
      "\u001b[0;31m---------------------------------------------------------------------------\u001b[0m",
      "\u001b[0;31mModuleNotFoundError\u001b[0m                       Traceback (most recent call last)",
      "\u001b[0;32m<ipython-input-4-fb23c6edefe4>\u001b[0m in \u001b[0;36m<module>\u001b[0;34m\u001b[0m\n\u001b[0;32m----> 1\u001b[0;31m \u001b[0mget_ipython\u001b[0m\u001b[0;34m(\u001b[0m\u001b[0;34m)\u001b[0m\u001b[0;34m.\u001b[0m\u001b[0mrun_line_magic\u001b[0m\u001b[0;34m(\u001b[0m\u001b[0;34m'load_ext'\u001b[0m\u001b[0;34m,\u001b[0m \u001b[0;34m'rpy2.ipython'\u001b[0m\u001b[0;34m)\u001b[0m\u001b[0;34m\u001b[0m\u001b[0;34m\u001b[0m\u001b[0m\n\u001b[0m",
      "\u001b[0;32m~/anaconda3/envs/pandas1/lib/python3.6/site-packages/IPython/core/interactiveshell.py\u001b[0m in \u001b[0;36mrun_line_magic\u001b[0;34m(self, magic_name, line, _stack_depth)\u001b[0m\n\u001b[1;32m   2324\u001b[0m                 \u001b[0mkwargs\u001b[0m\u001b[0;34m[\u001b[0m\u001b[0;34m'local_ns'\u001b[0m\u001b[0;34m]\u001b[0m \u001b[0;34m=\u001b[0m \u001b[0msys\u001b[0m\u001b[0;34m.\u001b[0m\u001b[0m_getframe\u001b[0m\u001b[0;34m(\u001b[0m\u001b[0mstack_depth\u001b[0m\u001b[0;34m)\u001b[0m\u001b[0;34m.\u001b[0m\u001b[0mf_locals\u001b[0m\u001b[0;34m\u001b[0m\u001b[0;34m\u001b[0m\u001b[0m\n\u001b[1;32m   2325\u001b[0m             \u001b[0;32mwith\u001b[0m \u001b[0mself\u001b[0m\u001b[0;34m.\u001b[0m\u001b[0mbuiltin_trap\u001b[0m\u001b[0;34m:\u001b[0m\u001b[0;34m\u001b[0m\u001b[0;34m\u001b[0m\u001b[0m\n\u001b[0;32m-> 2326\u001b[0;31m                 \u001b[0mresult\u001b[0m \u001b[0;34m=\u001b[0m \u001b[0mfn\u001b[0m\u001b[0;34m(\u001b[0m\u001b[0;34m*\u001b[0m\u001b[0margs\u001b[0m\u001b[0;34m,\u001b[0m \u001b[0;34m**\u001b[0m\u001b[0mkwargs\u001b[0m\u001b[0;34m)\u001b[0m\u001b[0;34m\u001b[0m\u001b[0;34m\u001b[0m\u001b[0m\n\u001b[0m\u001b[1;32m   2327\u001b[0m             \u001b[0;32mreturn\u001b[0m \u001b[0mresult\u001b[0m\u001b[0;34m\u001b[0m\u001b[0;34m\u001b[0m\u001b[0m\n\u001b[1;32m   2328\u001b[0m \u001b[0;34m\u001b[0m\u001b[0m\n",
      "\u001b[0;32m<decorator-gen-64>\u001b[0m in \u001b[0;36mload_ext\u001b[0;34m(self, module_str)\u001b[0m\n",
      "\u001b[0;32m~/anaconda3/envs/pandas1/lib/python3.6/site-packages/IPython/core/magic.py\u001b[0m in \u001b[0;36m<lambda>\u001b[0;34m(f, *a, **k)\u001b[0m\n\u001b[1;32m    185\u001b[0m     \u001b[0;31m# but it's overkill for just that one bit of state.\u001b[0m\u001b[0;34m\u001b[0m\u001b[0;34m\u001b[0m\u001b[0;34m\u001b[0m\u001b[0m\n\u001b[1;32m    186\u001b[0m     \u001b[0;32mdef\u001b[0m \u001b[0mmagic_deco\u001b[0m\u001b[0;34m(\u001b[0m\u001b[0marg\u001b[0m\u001b[0;34m)\u001b[0m\u001b[0;34m:\u001b[0m\u001b[0;34m\u001b[0m\u001b[0;34m\u001b[0m\u001b[0m\n\u001b[0;32m--> 187\u001b[0;31m         \u001b[0mcall\u001b[0m \u001b[0;34m=\u001b[0m \u001b[0;32mlambda\u001b[0m \u001b[0mf\u001b[0m\u001b[0;34m,\u001b[0m \u001b[0;34m*\u001b[0m\u001b[0ma\u001b[0m\u001b[0;34m,\u001b[0m \u001b[0;34m**\u001b[0m\u001b[0mk\u001b[0m\u001b[0;34m:\u001b[0m \u001b[0mf\u001b[0m\u001b[0;34m(\u001b[0m\u001b[0;34m*\u001b[0m\u001b[0ma\u001b[0m\u001b[0;34m,\u001b[0m \u001b[0;34m**\u001b[0m\u001b[0mk\u001b[0m\u001b[0;34m)\u001b[0m\u001b[0;34m\u001b[0m\u001b[0;34m\u001b[0m\u001b[0m\n\u001b[0m\u001b[1;32m    188\u001b[0m \u001b[0;34m\u001b[0m\u001b[0m\n\u001b[1;32m    189\u001b[0m         \u001b[0;32mif\u001b[0m \u001b[0mcallable\u001b[0m\u001b[0;34m(\u001b[0m\u001b[0marg\u001b[0m\u001b[0;34m)\u001b[0m\u001b[0;34m:\u001b[0m\u001b[0;34m\u001b[0m\u001b[0;34m\u001b[0m\u001b[0m\n",
      "\u001b[0;32m~/anaconda3/envs/pandas1/lib/python3.6/site-packages/IPython/core/magics/extension.py\u001b[0m in \u001b[0;36mload_ext\u001b[0;34m(self, module_str)\u001b[0m\n\u001b[1;32m     31\u001b[0m         \u001b[0;32mif\u001b[0m \u001b[0;32mnot\u001b[0m \u001b[0mmodule_str\u001b[0m\u001b[0;34m:\u001b[0m\u001b[0;34m\u001b[0m\u001b[0;34m\u001b[0m\u001b[0m\n\u001b[1;32m     32\u001b[0m             \u001b[0;32mraise\u001b[0m \u001b[0mUsageError\u001b[0m\u001b[0;34m(\u001b[0m\u001b[0;34m'Missing module name.'\u001b[0m\u001b[0;34m)\u001b[0m\u001b[0;34m\u001b[0m\u001b[0;34m\u001b[0m\u001b[0m\n\u001b[0;32m---> 33\u001b[0;31m         \u001b[0mres\u001b[0m \u001b[0;34m=\u001b[0m \u001b[0mself\u001b[0m\u001b[0;34m.\u001b[0m\u001b[0mshell\u001b[0m\u001b[0;34m.\u001b[0m\u001b[0mextension_manager\u001b[0m\u001b[0;34m.\u001b[0m\u001b[0mload_extension\u001b[0m\u001b[0;34m(\u001b[0m\u001b[0mmodule_str\u001b[0m\u001b[0;34m)\u001b[0m\u001b[0;34m\u001b[0m\u001b[0;34m\u001b[0m\u001b[0m\n\u001b[0m\u001b[1;32m     34\u001b[0m \u001b[0;34m\u001b[0m\u001b[0m\n\u001b[1;32m     35\u001b[0m         \u001b[0;32mif\u001b[0m \u001b[0mres\u001b[0m \u001b[0;34m==\u001b[0m \u001b[0;34m'already loaded'\u001b[0m\u001b[0;34m:\u001b[0m\u001b[0;34m\u001b[0m\u001b[0;34m\u001b[0m\u001b[0m\n",
      "\u001b[0;32m~/anaconda3/envs/pandas1/lib/python3.6/site-packages/IPython/core/extensions.py\u001b[0m in \u001b[0;36mload_extension\u001b[0;34m(self, module_str)\u001b[0m\n\u001b[1;32m     78\u001b[0m             \u001b[0;32mif\u001b[0m \u001b[0mmodule_str\u001b[0m \u001b[0;32mnot\u001b[0m \u001b[0;32min\u001b[0m \u001b[0msys\u001b[0m\u001b[0;34m.\u001b[0m\u001b[0mmodules\u001b[0m\u001b[0;34m:\u001b[0m\u001b[0;34m\u001b[0m\u001b[0;34m\u001b[0m\u001b[0m\n\u001b[1;32m     79\u001b[0m                 \u001b[0;32mwith\u001b[0m \u001b[0mprepended_to_syspath\u001b[0m\u001b[0;34m(\u001b[0m\u001b[0mself\u001b[0m\u001b[0;34m.\u001b[0m\u001b[0mipython_extension_dir\u001b[0m\u001b[0;34m)\u001b[0m\u001b[0;34m:\u001b[0m\u001b[0;34m\u001b[0m\u001b[0;34m\u001b[0m\u001b[0m\n\u001b[0;32m---> 80\u001b[0;31m                     \u001b[0mmod\u001b[0m \u001b[0;34m=\u001b[0m \u001b[0mimport_module\u001b[0m\u001b[0;34m(\u001b[0m\u001b[0mmodule_str\u001b[0m\u001b[0;34m)\u001b[0m\u001b[0;34m\u001b[0m\u001b[0;34m\u001b[0m\u001b[0m\n\u001b[0m\u001b[1;32m     81\u001b[0m                     \u001b[0;32mif\u001b[0m \u001b[0mmod\u001b[0m\u001b[0;34m.\u001b[0m\u001b[0m__file__\u001b[0m\u001b[0;34m.\u001b[0m\u001b[0mstartswith\u001b[0m\u001b[0;34m(\u001b[0m\u001b[0mself\u001b[0m\u001b[0;34m.\u001b[0m\u001b[0mipython_extension_dir\u001b[0m\u001b[0;34m)\u001b[0m\u001b[0;34m:\u001b[0m\u001b[0;34m\u001b[0m\u001b[0;34m\u001b[0m\u001b[0m\n\u001b[1;32m     82\u001b[0m                         print((\"Loading extensions from {dir} is deprecated. \"\n",
      "\u001b[0;32m~/anaconda3/envs/pandas1/lib/python3.6/importlib/__init__.py\u001b[0m in \u001b[0;36mimport_module\u001b[0;34m(name, package)\u001b[0m\n\u001b[1;32m    124\u001b[0m                 \u001b[0;32mbreak\u001b[0m\u001b[0;34m\u001b[0m\u001b[0;34m\u001b[0m\u001b[0m\n\u001b[1;32m    125\u001b[0m             \u001b[0mlevel\u001b[0m \u001b[0;34m+=\u001b[0m \u001b[0;36m1\u001b[0m\u001b[0;34m\u001b[0m\u001b[0;34m\u001b[0m\u001b[0m\n\u001b[0;32m--> 126\u001b[0;31m     \u001b[0;32mreturn\u001b[0m \u001b[0m_bootstrap\u001b[0m\u001b[0;34m.\u001b[0m\u001b[0m_gcd_import\u001b[0m\u001b[0;34m(\u001b[0m\u001b[0mname\u001b[0m\u001b[0;34m[\u001b[0m\u001b[0mlevel\u001b[0m\u001b[0;34m:\u001b[0m\u001b[0;34m]\u001b[0m\u001b[0;34m,\u001b[0m \u001b[0mpackage\u001b[0m\u001b[0;34m,\u001b[0m \u001b[0mlevel\u001b[0m\u001b[0;34m)\u001b[0m\u001b[0;34m\u001b[0m\u001b[0;34m\u001b[0m\u001b[0m\n\u001b[0m\u001b[1;32m    127\u001b[0m \u001b[0;34m\u001b[0m\u001b[0m\n\u001b[1;32m    128\u001b[0m \u001b[0;34m\u001b[0m\u001b[0m\n",
      "\u001b[0;32m~/anaconda3/envs/pandas1/lib/python3.6/importlib/_bootstrap.py\u001b[0m in \u001b[0;36m_gcd_import\u001b[0;34m(name, package, level)\u001b[0m\n",
      "\u001b[0;32m~/anaconda3/envs/pandas1/lib/python3.6/importlib/_bootstrap.py\u001b[0m in \u001b[0;36m_find_and_load\u001b[0;34m(name, import_)\u001b[0m\n",
      "\u001b[0;32m~/anaconda3/envs/pandas1/lib/python3.6/importlib/_bootstrap.py\u001b[0m in \u001b[0;36m_find_and_load_unlocked\u001b[0;34m(name, import_)\u001b[0m\n",
      "\u001b[0;32m~/anaconda3/envs/pandas1/lib/python3.6/importlib/_bootstrap.py\u001b[0m in \u001b[0;36m_call_with_frames_removed\u001b[0;34m(f, *args, **kwds)\u001b[0m\n",
      "\u001b[0;32m~/anaconda3/envs/pandas1/lib/python3.6/importlib/_bootstrap.py\u001b[0m in \u001b[0;36m_gcd_import\u001b[0;34m(name, package, level)\u001b[0m\n",
      "\u001b[0;32m~/anaconda3/envs/pandas1/lib/python3.6/importlib/_bootstrap.py\u001b[0m in \u001b[0;36m_find_and_load\u001b[0;34m(name, import_)\u001b[0m\n",
      "\u001b[0;32m~/anaconda3/envs/pandas1/lib/python3.6/importlib/_bootstrap.py\u001b[0m in \u001b[0;36m_find_and_load_unlocked\u001b[0;34m(name, import_)\u001b[0m\n",
      "\u001b[0;31mModuleNotFoundError\u001b[0m: No module named 'rpy2'"
     ]
    }
   ],
   "source": [
    "%load_ext rpy2.ipython"
   ]
  },
  {
   "cell_type": "code",
   "execution_count": 5,
   "metadata": {
    "id": "VJV-XjXJb6S5"
   },
   "outputs": [
    {
     "name": "stderr",
     "output_type": "stream",
     "text": [
      "UsageError: Cell magic `%%R` not found.\n"
     ]
    }
   ],
   "source": [
    "%%R\n",
    "install.packages(\"rnetcarto\")"
   ]
  },
  {
   "cell_type": "code",
   "execution_count": 6,
   "metadata": {
    "id": "GFP66kIebTdp"
   },
   "outputs": [
    {
     "name": "stderr",
     "output_type": "stream",
     "text": [
      "UsageError: Cell magic `%%R` not found.\n"
     ]
    }
   ],
   "source": [
    "%%R\n",
    "install.packages(\"linkcomm\")"
   ]
  },
  {
   "cell_type": "code",
   "execution_count": 7,
   "metadata": {
    "id": "U0yr3dq4Yh-H"
   },
   "outputs": [
    {
     "name": "stderr",
     "output_type": "stream",
     "text": [
      "UsageError: Cell magic `%%R` not found.\n"
     ]
    }
   ],
   "source": [
    "%%R\n",
    "install.packages(\"igraph\")"
   ]
  },
  {
   "cell_type": "code",
   "execution_count": 8,
   "metadata": {
    "id": "87MzxilRggkg"
   },
   "outputs": [
    {
     "data": {
      "text/html": [
       "<div>\n",
       "<style scoped>\n",
       "    .dataframe tbody tr th:only-of-type {\n",
       "        vertical-align: middle;\n",
       "    }\n",
       "\n",
       "    .dataframe tbody tr th {\n",
       "        vertical-align: top;\n",
       "    }\n",
       "\n",
       "    .dataframe thead th {\n",
       "        text-align: right;\n",
       "    }\n",
       "</style>\n",
       "<table border=\"1\" class=\"dataframe\">\n",
       "  <thead>\n",
       "    <tr style=\"text-align: right;\">\n",
       "      <th></th>\n",
       "      <th>package_name</th>\n",
       "      <th>installed_version</th>\n",
       "      <th>required_version</th>\n",
       "      <th>requirement_satisfied</th>\n",
       "    </tr>\n",
       "  </thead>\n",
       "  <tbody>\n",
       "    <tr>\n",
       "      <th>0</th>\n",
       "      <td>numpy</td>\n",
       "      <td>1.17.5</td>\n",
       "      <td>auto</td>\n",
       "      <td>True</td>\n",
       "    </tr>\n",
       "    <tr>\n",
       "      <th>1</th>\n",
       "      <td>scipy</td>\n",
       "      <td>1.4.1</td>\n",
       "      <td>auto</td>\n",
       "      <td>True</td>\n",
       "    </tr>\n",
       "    <tr>\n",
       "      <th>2</th>\n",
       "      <td>cython</td>\n",
       "      <td>0.29.20</td>\n",
       "      <td>auto</td>\n",
       "      <td>True</td>\n",
       "    </tr>\n",
       "    <tr>\n",
       "      <th>3</th>\n",
       "      <td>numba</td>\n",
       "      <td>0.50.1</td>\n",
       "      <td>0.49.1</td>\n",
       "      <td>True</td>\n",
       "    </tr>\n",
       "    <tr>\n",
       "      <th>4</th>\n",
       "      <td>matplotlib</td>\n",
       "      <td>3.2.2</td>\n",
       "      <td>auto</td>\n",
       "      <td>True</td>\n",
       "    </tr>\n",
       "    <tr>\n",
       "      <th>5</th>\n",
       "      <td>seaborn</td>\n",
       "      <td>0.10.1</td>\n",
       "      <td>auto</td>\n",
       "      <td>True</td>\n",
       "    </tr>\n",
       "    <tr>\n",
       "      <th>6</th>\n",
       "      <td>scikit-learn</td>\n",
       "      <td>0.24.2</td>\n",
       "      <td>auto</td>\n",
       "      <td>True</td>\n",
       "    </tr>\n",
       "    <tr>\n",
       "      <th>7</th>\n",
       "      <td>h5py</td>\n",
       "      <td>3.1.0</td>\n",
       "      <td>3.1.0</td>\n",
       "      <td>True</td>\n",
       "    </tr>\n",
       "    <tr>\n",
       "      <th>8</th>\n",
       "      <td>pandas</td>\n",
       "      <td>1.0.5</td>\n",
       "      <td>1.0.3</td>\n",
       "      <td>True</td>\n",
       "    </tr>\n",
       "    <tr>\n",
       "      <th>9</th>\n",
       "      <td>velocyto</td>\n",
       "      <td>0.17.17</td>\n",
       "      <td>0.17</td>\n",
       "      <td>True</td>\n",
       "    </tr>\n",
       "    <tr>\n",
       "      <th>10</th>\n",
       "      <td>umap-learn</td>\n",
       "      <td>0.4.6</td>\n",
       "      <td>auto</td>\n",
       "      <td>True</td>\n",
       "    </tr>\n",
       "    <tr>\n",
       "      <th>11</th>\n",
       "      <td>pyarrow</td>\n",
       "      <td>1.0.0</td>\n",
       "      <td>0.17</td>\n",
       "      <td>True</td>\n",
       "    </tr>\n",
       "    <tr>\n",
       "      <th>12</th>\n",
       "      <td>jupyter</td>\n",
       "      <td>1.0.0</td>\n",
       "      <td>auto</td>\n",
       "      <td>True</td>\n",
       "    </tr>\n",
       "    <tr>\n",
       "      <th>13</th>\n",
       "      <td>tqdm</td>\n",
       "      <td>4.48.2</td>\n",
       "      <td>4.45</td>\n",
       "      <td>True</td>\n",
       "    </tr>\n",
       "    <tr>\n",
       "      <th>14</th>\n",
       "      <td>python-igraph</td>\n",
       "      <td>0.8.2</td>\n",
       "      <td>auto</td>\n",
       "      <td>True</td>\n",
       "    </tr>\n",
       "    <tr>\n",
       "      <th>15</th>\n",
       "      <td>louvain</td>\n",
       "      <td>0.7.0</td>\n",
       "      <td>auto</td>\n",
       "      <td>True</td>\n",
       "    </tr>\n",
       "    <tr>\n",
       "      <th>16</th>\n",
       "      <td>fa2</td>\n",
       "      <td>0.3.5</td>\n",
       "      <td>auto</td>\n",
       "      <td>True</td>\n",
       "    </tr>\n",
       "    <tr>\n",
       "      <th>17</th>\n",
       "      <td>anndata</td>\n",
       "      <td>0.7.5</td>\n",
       "      <td>0.7.5</td>\n",
       "      <td>True</td>\n",
       "    </tr>\n",
       "    <tr>\n",
       "      <th>18</th>\n",
       "      <td>scanpy</td>\n",
       "      <td>1.7.2</td>\n",
       "      <td>1.6</td>\n",
       "      <td>True</td>\n",
       "    </tr>\n",
       "    <tr>\n",
       "      <th>19</th>\n",
       "      <td>joblib</td>\n",
       "      <td>0.15.1</td>\n",
       "      <td>auto</td>\n",
       "      <td>True</td>\n",
       "    </tr>\n",
       "    <tr>\n",
       "      <th>20</th>\n",
       "      <td>goatools</td>\n",
       "      <td>1.0.5</td>\n",
       "      <td>auto</td>\n",
       "      <td>True</td>\n",
       "    </tr>\n",
       "    <tr>\n",
       "      <th>21</th>\n",
       "      <td>genomepy</td>\n",
       "      <td>0.8.4</td>\n",
       "      <td>0.8.4</td>\n",
       "      <td>True</td>\n",
       "    </tr>\n",
       "    <tr>\n",
       "      <th>22</th>\n",
       "      <td>gimmemotifs</td>\n",
       "      <td>0.14.4</td>\n",
       "      <td>0.14.4</td>\n",
       "      <td>True</td>\n",
       "    </tr>\n",
       "  </tbody>\n",
       "</table>\n",
       "</div>"
      ],
      "text/plain": [
       "     package_name installed_version required_version  requirement_satisfied\n",
       "0           numpy            1.17.5             auto                   True\n",
       "1           scipy             1.4.1             auto                   True\n",
       "2          cython           0.29.20             auto                   True\n",
       "3           numba            0.50.1           0.49.1                   True\n",
       "4      matplotlib             3.2.2             auto                   True\n",
       "5         seaborn            0.10.1             auto                   True\n",
       "6    scikit-learn            0.24.2             auto                   True\n",
       "7            h5py             3.1.0            3.1.0                   True\n",
       "8          pandas             1.0.5            1.0.3                   True\n",
       "9        velocyto           0.17.17             0.17                   True\n",
       "10     umap-learn             0.4.6             auto                   True\n",
       "11        pyarrow             1.0.0             0.17                   True\n",
       "12        jupyter             1.0.0             auto                   True\n",
       "13           tqdm            4.48.2             4.45                   True\n",
       "14  python-igraph             0.8.2             auto                   True\n",
       "15        louvain             0.7.0             auto                   True\n",
       "16            fa2             0.3.5             auto                   True\n",
       "17        anndata             0.7.5            0.7.5                   True\n",
       "18         scanpy             1.7.2              1.6                   True\n",
       "19         joblib            0.15.1             auto                   True\n",
       "20       goatools             1.0.5             auto                   True\n",
       "21       genomepy             0.8.4            0.8.4                   True\n",
       "22    gimmemotifs            0.14.4           0.14.4                   True"
      ]
     },
     "execution_count": 8,
     "metadata": {},
     "output_type": "execute_result"
    }
   ],
   "source": [
    "# Check python dependent package installation status \n",
    "import celloracle as co\n",
    "co.check_python_requirements()"
   ]
  },
  {
   "cell_type": "code",
   "execution_count": 9,
   "metadata": {
    "id": "b-IE00WXZkUo"
   },
   "outputs": [
    {
     "name": "stdout",
     "output_type": "stream",
     "text": [
      "R path: /usr/bin/R\n",
      "checking R library installation: igraph -> OK\n"
     ]
    },
    {
     "name": "stdout",
     "output_type": "stream",
     "text": [
      "checking R library installation: linkcomm -> OK\n",
      "checking R library installation: rnetcarto -> OK\n"
     ]
    }
   ],
   "source": [
    "# Check R dependent package installation status \n",
    "co.network_analysis.test_R_libraries_installation()"
   ]
  },
  {
   "cell_type": "code",
   "execution_count": null,
   "metadata": {
    "id": "zouCW5Gjgdqa"
   },
   "outputs": [],
   "source": []
  }
 ],
 "metadata": {
  "colab": {
   "collapsed_sections": [],
   "name": "CellOrcle installation in Google colab.ipynb",
   "provenance": []
  },
  "kernelspec": {
   "display_name": "Python 3",
   "name": "python3"
  },
  "language_info": {
   "codemirror_mode": {
    "name": "ipython",
    "version": 3
   },
   "file_extension": ".py",
   "mimetype": "text/x-python",
   "name": "python",
   "nbconvert_exporter": "python",
   "pygments_lexer": "ipython3",
   "version": "3.6.10"
  }
 },
 "nbformat": 4,
 "nbformat_minor": 0
}
