{
 "cells": [
  {
   "cell_type": "markdown",
   "metadata": {},
   "source": [
    "# Overview\n",
    "\n",
    "\n",
    "In this notebook, we will make TSS annotation data that are used for the scATAC-seq peak annotation.\n",
    "\n",
    "\n",
    "- First, we download gene annotation gff3 file from Ensembl database.\n",
    "- Second, we convert gff3 file into bed file. During this process, the TSS information is extracted.\n",
    "\n",
    "\n",
    "# !! Caution!!  \n",
    "\n",
    "## 1) This is NOT part of CellOracle tutorial. \n",
    "- This notebook includes unusual usage of CellOracle. \n",
    "- The analysis might require expertise of python and DNA sequence analysis, but this notebook does not aim to explain them all, and please use this notebook by your responsibility.\n",
    "\n",
    "## 2) This notebook was tested with Ensembl Guinea Pig data, but we do not guarantee the function works with other species or other database. \n",
    "\n",
    "- Please let us know using git hub issue if you have problem with this notebook.\n",
    "- We can construct TSS annotation data and add them to CellOracle package. Please just let us know if you have a request for new reference genome."
   ]
  },
  {
   "cell_type": "markdown",
   "metadata": {},
   "source": [
    "# 0. Import libraries"
   ]
  },
  {
   "cell_type": "code",
   "execution_count": 1,
   "metadata": {},
   "outputs": [
    {
     "name": "stderr",
     "output_type": "stream",
     "text": [
      "2022-12-27 16:40:15,172 [11281] WARNING  py.warnings:99: [JupyterRequire] /home/k/anaconda3/envs/pandas1/lib/python3.6/site-packages/requests/__init__.py:91: RequestsDependencyWarning: urllib3 (1.26.9) or chardet (3.0.4) doesn't match a supported version!\n",
      "  RequestsDependencyWarning)\n",
      "\n"
     ]
    }
   ],
   "source": [
    "import pandas as pd\n",
    "import numpy as np\n",
    "\n",
    "import os, sys\n",
    "from tqdm.notebook import  tqdm\n",
    "\n",
    "from pybedtools import BedTool\n",
    "import genomepy"
   ]
  },
  {
   "cell_type": "code",
   "execution_count": 2,
   "metadata": {},
   "outputs": [
    {
     "data": {
      "text/plain": [
       "'0.10.13'"
      ]
     },
     "execution_count": 2,
     "metadata": {},
     "output_type": "execute_result"
    }
   ],
   "source": [
    "import celloracle as co\n",
    "from celloracle import motif_analysis as ma\n",
    "\n",
    "co.__version__"
   ]
  },
  {
   "cell_type": "markdown",
   "metadata": {},
   "source": [
    "# 1. Define custom functions to process gene annotation data.\n",
    "\n",
    "Extract TSS information from gff3 file and get a bed file."
   ]
  },
  {
   "cell_type": "code",
   "execution_count": 14,
   "metadata": {},
   "outputs": [],
   "source": [
    "def parse_ens(x):\n",
    "    dic = {}\n",
    "    if \";\" in str(x):\n",
    "        for i in x.split(\";\"):\n",
    "            key, val = i.split(\"=\")\n",
    "            dic[key] = val\n",
    "    return dic\n",
    "\n",
    "def get_tss_and_promoter_candidate_locus(data, n_downstream=500, n_upstream=500, clip_negative=True):\n",
    "    data[\"TSS\"] = data[\"start\"]\n",
    "    \n",
    "    mRNA_in_reversed_strand = data.index[data[\"strand\"] == \"-\"]\n",
    "    data.loc[mRNA_in_reversed_strand, \"TSS\"] = \\\n",
    "        data.loc[mRNA_in_reversed_strand, \"end\"]\n",
    "    \n",
    "    data[\"promTSS_left\"] = data[\"TSS\"] - n_upstream\n",
    "    data[\"promTSS_right\"] = data[\"TSS\"] + n_downstream\n",
    "    \n",
    "    data.loc[mRNA_in_reversed_strand, \"promTSS_left\"] = \\\n",
    "        data.loc[mRNA_in_reversed_strand, \"TSS\"] - n_downstream\n",
    "    data.loc[mRNA_in_reversed_strand, \"promTSS_right\"] = \\\n",
    "        data.loc[mRNA_in_reversed_strand, \"TSS\"] + n_upstream\n",
    "    \n",
    "    if clip_negative:\n",
    "        data.loc[data.index[data.promTSS_left < 0], \"promTSS_left\"] = 0\n",
    "    \n",
    "    return data\n",
    "\n",
    "def merge_overlapping_peaks(df_):\n",
    "    \n",
    "    gene_symbol = df_.gene_symbol.unique()\n",
    "    assert(len(gene_symbol) == 1)\n",
    "    \n",
    "    strand = df_.strand.unique()\n",
    "    assert(len(strand) == 1)\n",
    "\n",
    "    df_bt = BedTool.from_dataframe(df_).sort()\n",
    "    df_ = df_bt.merge(d=0).to_dataframe()\n",
    "    df_[\"gene_symbol\"] = gene_symbol[0]\n",
    "    df_[\"score\"] = \".\"\n",
    "    df_[\"strand\"] = strand[0]\n",
    "    df_ = df_.rename(columns={\"chrom\": \"seqname\", \"start\": \"promTSS_left\", \"end\":\"promTSS_right\"})\n",
    "    \n",
    "    return df_\n",
    "\n",
    "\n",
    "\n",
    "def load_and_process_ensembl_gff3_file(file, n_downstream=100, n_upstream=1000, transcript_filtering=\"auto\", clip_negative=True):\n",
    "    # Load gff file. Comments rows are skipped.\n",
    "    lines = []\n",
    "    with open(file, \"r\") as f:\n",
    "        for i, l in enumerate(f.readlines()):\n",
    "            if l.startswith(\"#\"):\n",
    "                pass\n",
    "            else:\n",
    "                lines.append(l.replace(\"\\n\", \"\").split(\"\\t\"))\n",
    "    df = pd.DataFrame(lines)\n",
    "\n",
    "\n",
    "    # Data format adjustment 1\n",
    "    df.columns = [\"seqname\", \"source\", \"feature\", \"start\", \"end\", \"score\",\n",
    "                  \"strand\", \"frame\", \"attribute\"]\n",
    "\n",
    "    df[\"start\"] = df[\"start\"].astype(\"int\")\n",
    "    df[\"end\"] = df[\"end\"].astype(\"int\")\n",
    "\n",
    "    # Data format adjustment 2\n",
    "    ## The attribute column includes detailed information. Let's extract information and store them as new columns. \n",
    "    annot = pd.DataFrame([parse_ens(i) for i in tqdm(df[\"attribute\"])])\n",
    "    df = pd.concat([df, annot], axis=1)\n",
    "    \n",
    "    # Data format adjustment 2\n",
    "    df[\"Parent_feature\"] = [i.split(\":\")[0] for i in df.Parent.fillna(\"na:na\")]\n",
    "    df[\"Parent_id\"] = [i.split(\":\")[1] for i in df.Parent.fillna(\"na:na\")]\n",
    "\n",
    "\n",
    "    # Data format adjustment 3\n",
    "    df[\"gene_id_unified\"] = df[\"gene_id\"].values\n",
    "    rows_non_gene = df[\"gene_id\"].isna()\n",
    "    df.loc[df.index[rows_non_gene], \"gene_id_unified\"] = df[rows_non_gene][\"Parent_id\"].values\n",
    "    \n",
    "    #return df\n",
    "    # Split data into gene entry and transcript entry.\n",
    "    df_gene = df[~rows_non_gene]\n",
    "    df_gene = df_gene[[\"Name\", \"gene_id\"]].rename(columns={\"Name\": \"gene_symbol\", \"gene_id\": \"gene_id_unified\"})\n",
    "    df_transcript = df[df.Parent_feature == \"gene\"]\n",
    "    df_transcript = pd.merge(df_transcript, df_gene, on=\"gene_id_unified\", how=\"left\")\n",
    "            \n",
    "    # We only use basic transcript, major mRNA isoform.\n",
    "    \n",
    "    if transcript_filtering == \"auto\":\n",
    "        if \"tag\" in df.columns: # We only use basic transcript, major mRNA isoform.\n",
    "            df_transcript = df_transcript[df_transcript.tag == \"basic\"]\n",
    "            print(\"Found transcriptome tag information. Only 'basic' transcripts are used.\")\n",
    "        else:\n",
    "            print(\"No transcriptome tag information found. Transfript filtering step is skipped. All transcripts are used.\")\n",
    "    \n",
    "    elif transcript_filtering == \"basic\":\n",
    "        if \"tag\" in df.columns: # We only use basic transcript, major mRNA isoform.\n",
    "            df_transcript = df_transcript[df_transcript.tag == \"basic\"]\n",
    "            print(\"Found transcriptome tag information. Only 'basic' transcripts are used.\")\n",
    "        else:\n",
    "            ValueError(\"Could not perform basic transcript filtering because the gff3 file not contain 'tag' information. \\n\\\n",
    "                  Please set transcript_filtering='auto'.\\n\\\n",
    "                  With this mode, transcript filtering is not performed and all transcripts are used.\")\n",
    "    else:\n",
    "        ValueError(f\"transcript_filtering, {transcript_filtering} is not implemented\")\n",
    "    \n",
    "\n",
    "    # Remove transcripts that are not annotated gene name.\n",
    "    df_transcript = df_transcript[~df_transcript.gene_symbol.isna()]\n",
    "\n",
    "\n",
    "    # Add PromoterTSS location. \n",
    "    df_transcript = get_tss_and_promoter_candidate_locus(df_transcript, \n",
    "                                         n_downstream=n_downstream, n_upstream=n_upstream, clip_negative=clip_negative)\n",
    "\n",
    "    # Wrap up necessary information.\n",
    "    result = df_transcript[[\"seqname\", \"promTSS_left\", \"promTSS_right\",\n",
    "                        \"gene_symbol\", \"score\", \"strand\"]]\n",
    "    \n",
    "    \"\"\"# Merge overlapping peaks\n",
    "    li = []\n",
    "    for i in tqdm(result.gene_symbol.unique()):\n",
    "        df_ = result[result.gene_symbol == i]\n",
    "        if len(df_) == 1:\n",
    "            li.append(df_)\n",
    "        else:\n",
    "            li.append(merge_overlapping_peaks(df_))\n",
    "    result_merged = pd.concat(li, axis=0)\"\"\"\n",
    "\n",
    "    return result"
   ]
  },
  {
   "cell_type": "markdown",
   "metadata": {},
   "source": [
    "# 2. Install reference genome first.\n",
    "\n",
    "We use genomepy to get genomic DNA sequence.\n",
    "The first step is to install reference genome data.\n",
    "\n",
    "We will use the genomepy function.\n",
    "`genomepy.install_genome()`\n",
    "\n",
    "We need (1) referenoce genome name and (2) provider.\n",
    "\n",
    "Please see genomepy's documentation for more information. https://pypi.org/project/genomepy/\n"
   ]
  },
  {
   "cell_type": "code",
   "execution_count": 4,
   "metadata": {},
   "outputs": [
    {
     "name": "stdout",
     "output_type": "stream",
     "text": [
      "\u001b[1mname         provider    accession          species            tax_id    other_info                                                  \u001b[0m\r\n",
      "\u001b[0mCavpor3.0    Ensembl     GCA_000151735.1    Cavia porcellus    10141     2016-12-ensembl/2017-07                                     \u001b[0m\r\n",
      "\u001b[0mcavPor3      UCSC        na                 Cavia porcellus    10141     Feb. 2008 (Broad/cavPor3)                                   \u001b[0m\r\n",
      "\u001b[0mCavpor3.0    NCBI        GCA_000151735.1    Cavia porcellus    10141     The Genome Sequencing Platform, The Genome Assembly Team    \u001b[0m\r\n",
      "\u001b[0m\u001b[32m ^\u001b[0m\r\n",
      "\u001b[0m\u001b[32m Use name for \u001b[36mgenomepy install\u001b[0m\r\n",
      "\u001b[0m\u001b[0m"
     ]
    }
   ],
   "source": [
    "# Search for reference genome name and provider\n",
    "!genomepy search \"Cavia porcellus\""
   ]
  },
  {
   "cell_type": "code",
   "execution_count": 7,
   "metadata": {},
   "outputs": [
    {
     "name": "stderr",
     "output_type": "stream",
     "text": [
      "Using version 108\n",
      "Downloading genome from http://ftp.ensembl.org/pub/release-108/fasta/cavia_porcellus/dna/Cavia_porcellus.Cavpor3.0.dna_sm.toplevel.fa.gz...\n",
      "Genome download successful, starting post processing...\n",
      "\n",
      "name: Cavpor3.0\n",
      "local name: Cavpor3.0\n",
      "fasta: /home/k/.local/share/genomes/Cavpor3.0/Cavpor3.0.fa\n"
     ]
    }
   ],
   "source": [
    "# Install reference genome. You can skip this step if you already installed reference genome.\n",
    "ref_genome = \"Cavpor3.0\"\n",
    "provider = \"Ensembl\"\n",
    "genomepy.install_genome(ref_genome, provider)"
   ]
  },
  {
   "cell_type": "code",
   "execution_count": 8,
   "metadata": {},
   "outputs": [
    {
     "data": {
      "text/plain": [
       "True"
      ]
     },
     "execution_count": 8,
     "metadata": {},
     "output_type": "execute_result"
    }
   ],
   "source": [
    "# Check referenoce genome installation status\n",
    "genome_installation = ma.is_genome_installed(ref_genome=ref_genome)\n",
    "genome_installation"
   ]
  },
  {
   "cell_type": "markdown",
   "metadata": {},
   "source": [
    "# 3. Download genome annotation file; gff3 file, from Ensemble server. \n",
    "https://useast.ensembl.org/Cavia_porcellus/Info/Index?db=core\n",
    "    "
   ]
  },
  {
   "cell_type": "code",
   "execution_count": 9,
   "metadata": {},
   "outputs": [
    {
     "name": "stdout",
     "output_type": "stream",
     "text": [
      "--2022-12-27 17:04:32--  http://ftp.ensembl.org/pub/release-105/gff3/cavia_porcellus/Cavia_porcellus.Cavpor3.0.105.gff3.gz\n",
      "Resolving ftp.ensembl.org (ftp.ensembl.org)... 193.62.193.139\n",
      "Connecting to ftp.ensembl.org (ftp.ensembl.org)|193.62.193.139|:80... connected.\n",
      "HTTP request sent, awaiting response... 200 OK\n",
      "Length: 12447679 (12M) [application/x-gzip]\n",
      "Saving to: ‘Cavia_porcellus.Cavpor3.0.105.gff3.gz’\n",
      "\n",
      "Cavia_porcellus.Cav 100%[===================>]  11.87M   620KB/s    in 20s     \n",
      "\n",
      "2022-12-27 17:04:52 (617 KB/s) - ‘Cavia_porcellus.Cavpor3.0.105.gff3.gz’ saved [12447679/12447679]\n",
      "\n"
     ]
    }
   ],
   "source": [
    "!wget http://ftp.ensembl.org/pub/release-105/gff3/cavia_porcellus/Cavia_porcellus.Cavpor3.0.105.gff3.gz"
   ]
  },
  {
   "cell_type": "code",
   "execution_count": 10,
   "metadata": {},
   "outputs": [],
   "source": [
    "!gunzip Cavia_porcellus.Cavpor3.0.105.gff3.gz"
   ]
  },
  {
   "cell_type": "markdown",
   "metadata": {},
   "source": [
    "# 4. Process data to get TSS file."
   ]
  },
  {
   "cell_type": "code",
   "execution_count": 15,
   "metadata": {},
   "outputs": [
    {
     "data": {
      "application/vnd.jupyter.widget-view+json": {
       "model_id": "a7d7f67eca244dc2be62ce78f2d9b4b4",
       "version_major": 2,
       "version_minor": 0
      },
      "text/plain": [
       "HBox(children=(FloatProgress(value=0.0, max=886278.0), HTML(value='')))"
      ]
     },
     "metadata": {},
     "output_type": "display_data"
    },
    {
     "name": "stdout",
     "output_type": "stream",
     "text": [
      "\n",
      "No transcriptome tag information found. Transfript filtering step is skipped. All transcripts are used.\n"
     ]
    }
   ],
   "source": [
    "# Load and process gff3 file.\n",
    "\n",
    "file = \"Cavia_porcellus.Cavpor3.0.105.gff3\"\n",
    "result = load_and_process_ensembl_gff3_file(file, n_downstream=100, \n",
    "                                            n_upstream=1000, \n",
    "                                            transcript_filtering=\"auto\")"
   ]
  },
  {
   "cell_type": "code",
   "execution_count": 15,
   "metadata": {},
   "outputs": [
    {
     "data": {
      "text/html": [
       "<div>\n",
       "<style scoped>\n",
       "    .dataframe tbody tr th:only-of-type {\n",
       "        vertical-align: middle;\n",
       "    }\n",
       "\n",
       "    .dataframe tbody tr th {\n",
       "        vertical-align: top;\n",
       "    }\n",
       "\n",
       "    .dataframe thead th {\n",
       "        text-align: right;\n",
       "    }\n",
       "</style>\n",
       "<table border=\"1\" class=\"dataframe\">\n",
       "  <thead>\n",
       "    <tr style=\"text-align: right;\">\n",
       "      <th></th>\n",
       "      <th>seqname</th>\n",
       "      <th>promTSS_left</th>\n",
       "      <th>promTSS_right</th>\n",
       "      <th>gene_symbol</th>\n",
       "      <th>score</th>\n",
       "      <th>strand</th>\n",
       "    </tr>\n",
       "  </thead>\n",
       "  <tbody>\n",
       "    <tr>\n",
       "      <th>4</th>\n",
       "      <td>DS562855.1</td>\n",
       "      <td>546865</td>\n",
       "      <td>547965</td>\n",
       "      <td>TMEM74</td>\n",
       "      <td>.</td>\n",
       "      <td>+</td>\n",
       "    </tr>\n",
       "    <tr>\n",
       "      <th>6</th>\n",
       "      <td>DS562855.1</td>\n",
       "      <td>867637</td>\n",
       "      <td>868737</td>\n",
       "      <td>EMC2</td>\n",
       "      <td>.</td>\n",
       "      <td>-</td>\n",
       "    </tr>\n",
       "    <tr>\n",
       "      <th>7</th>\n",
       "      <td>DS562855.1</td>\n",
       "      <td>849313</td>\n",
       "      <td>850413</td>\n",
       "      <td>EMC2</td>\n",
       "      <td>.</td>\n",
       "      <td>-</td>\n",
       "    </tr>\n",
       "    <tr>\n",
       "      <th>8</th>\n",
       "      <td>DS562855.1</td>\n",
       "      <td>933093</td>\n",
       "      <td>934193</td>\n",
       "      <td>5S_rRNA</td>\n",
       "      <td>.</td>\n",
       "      <td>+</td>\n",
       "    </tr>\n",
       "    <tr>\n",
       "      <th>10</th>\n",
       "      <td>DS562855.1</td>\n",
       "      <td>1132436</td>\n",
       "      <td>1133536</td>\n",
       "      <td>RSPO2</td>\n",
       "      <td>.</td>\n",
       "      <td>+</td>\n",
       "    </tr>\n",
       "    <tr>\n",
       "      <th>...</th>\n",
       "      <td>...</td>\n",
       "      <td>...</td>\n",
       "      <td>...</td>\n",
       "      <td>...</td>\n",
       "      <td>...</td>\n",
       "      <td>...</td>\n",
       "    </tr>\n",
       "    <tr>\n",
       "      <th>34835</th>\n",
       "      <td>MT</td>\n",
       "      <td>8879</td>\n",
       "      <td>9979</td>\n",
       "      <td>ND4L</td>\n",
       "      <td>.</td>\n",
       "      <td>+</td>\n",
       "    </tr>\n",
       "    <tr>\n",
       "      <th>34836</th>\n",
       "      <td>MT</td>\n",
       "      <td>9169</td>\n",
       "      <td>10269</td>\n",
       "      <td>ND4</td>\n",
       "      <td>.</td>\n",
       "      <td>+</td>\n",
       "    </tr>\n",
       "    <tr>\n",
       "      <th>34840</th>\n",
       "      <td>MT</td>\n",
       "      <td>10748</td>\n",
       "      <td>11848</td>\n",
       "      <td>ND5</td>\n",
       "      <td>.</td>\n",
       "      <td>+</td>\n",
       "    </tr>\n",
       "    <tr>\n",
       "      <th>34841</th>\n",
       "      <td>MT</td>\n",
       "      <td>13986</td>\n",
       "      <td>15086</td>\n",
       "      <td>ND6</td>\n",
       "      <td>.</td>\n",
       "      <td>-</td>\n",
       "    </tr>\n",
       "    <tr>\n",
       "      <th>34843</th>\n",
       "      <td>MT</td>\n",
       "      <td>13164</td>\n",
       "      <td>14264</td>\n",
       "      <td>CYTB</td>\n",
       "      <td>.</td>\n",
       "      <td>+</td>\n",
       "    </tr>\n",
       "  </tbody>\n",
       "</table>\n",
       "<p>24875 rows × 6 columns</p>\n",
       "</div>"
      ],
      "text/plain": [
       "          seqname  promTSS_left  promTSS_right gene_symbol score strand\n",
       "4      DS562855.1        546865         547965      TMEM74     .      +\n",
       "6      DS562855.1        867637         868737        EMC2     .      -\n",
       "7      DS562855.1        849313         850413        EMC2     .      -\n",
       "8      DS562855.1        933093         934193     5S_rRNA     .      +\n",
       "10     DS562855.1       1132436        1133536       RSPO2     .      +\n",
       "...           ...           ...            ...         ...   ...    ...\n",
       "34835          MT          8879           9979        ND4L     .      +\n",
       "34836          MT          9169          10269         ND4     .      +\n",
       "34840          MT         10748          11848         ND5     .      +\n",
       "34841          MT         13986          15086         ND6     .      -\n",
       "34843          MT         13164          14264        CYTB     .      +\n",
       "\n",
       "[24875 rows x 6 columns]"
      ]
     },
     "execution_count": 15,
     "metadata": {},
     "output_type": "execute_result"
    }
   ],
   "source": [
    "# Check result\n",
    "result"
   ]
  },
  {
   "cell_type": "code",
   "execution_count": 16,
   "metadata": {},
   "outputs": [],
   "source": [
    "# Save as bed file\n",
    "result.to_csv(f\"{ref_genome}_tss_info.bed\", sep='\\t', header=False, index=False)"
   ]
  },
  {
   "cell_type": "code",
   "execution_count": null,
   "metadata": {},
   "outputs": [],
   "source": []
  },
  {
   "cell_type": "markdown",
   "metadata": {},
   "source": [
    "# Test\n",
    "Try to load DNA sequence using genomepy"
   ]
  },
  {
   "cell_type": "code",
   "execution_count": 17,
   "metadata": {
    "scrolled": true
   },
   "outputs": [
    {
     "data": {
      "text/html": [
       "<div>\n",
       "<style scoped>\n",
       "    .dataframe tbody tr th:only-of-type {\n",
       "        vertical-align: middle;\n",
       "    }\n",
       "\n",
       "    .dataframe tbody tr th {\n",
       "        vertical-align: top;\n",
       "    }\n",
       "\n",
       "    .dataframe thead th {\n",
       "        text-align: right;\n",
       "    }\n",
       "</style>\n",
       "<table border=\"1\" class=\"dataframe\">\n",
       "  <thead>\n",
       "    <tr style=\"text-align: right;\">\n",
       "      <th></th>\n",
       "      <th>chrom</th>\n",
       "      <th>start</th>\n",
       "      <th>end</th>\n",
       "      <th>name</th>\n",
       "      <th>score</th>\n",
       "      <th>strand</th>\n",
       "    </tr>\n",
       "  </thead>\n",
       "  <tbody>\n",
       "    <tr>\n",
       "      <th>0</th>\n",
       "      <td>DS562855.1</td>\n",
       "      <td>546865</td>\n",
       "      <td>547965</td>\n",
       "      <td>TMEM74</td>\n",
       "      <td>.</td>\n",
       "      <td>+</td>\n",
       "    </tr>\n",
       "    <tr>\n",
       "      <th>1</th>\n",
       "      <td>DS562855.1</td>\n",
       "      <td>867637</td>\n",
       "      <td>868737</td>\n",
       "      <td>EMC2</td>\n",
       "      <td>.</td>\n",
       "      <td>-</td>\n",
       "    </tr>\n",
       "    <tr>\n",
       "      <th>2</th>\n",
       "      <td>DS562855.1</td>\n",
       "      <td>849313</td>\n",
       "      <td>850413</td>\n",
       "      <td>EMC2</td>\n",
       "      <td>.</td>\n",
       "      <td>-</td>\n",
       "    </tr>\n",
       "    <tr>\n",
       "      <th>3</th>\n",
       "      <td>DS562855.1</td>\n",
       "      <td>933093</td>\n",
       "      <td>934193</td>\n",
       "      <td>5S_rRNA</td>\n",
       "      <td>.</td>\n",
       "      <td>+</td>\n",
       "    </tr>\n",
       "    <tr>\n",
       "      <th>4</th>\n",
       "      <td>DS562855.1</td>\n",
       "      <td>1132436</td>\n",
       "      <td>1133536</td>\n",
       "      <td>RSPO2</td>\n",
       "      <td>.</td>\n",
       "      <td>+</td>\n",
       "    </tr>\n",
       "  </tbody>\n",
       "</table>\n",
       "</div>"
      ],
      "text/plain": [
       "        chrom    start      end     name score strand\n",
       "0  DS562855.1   546865   547965   TMEM74     .      +\n",
       "1  DS562855.1   867637   868737     EMC2     .      -\n",
       "2  DS562855.1   849313   850413     EMC2     .      -\n",
       "3  DS562855.1   933093   934193  5S_rRNA     .      +\n",
       "4  DS562855.1  1132436  1133536    RSPO2     .      +"
      ]
     },
     "execution_count": 17,
     "metadata": {},
     "output_type": "execute_result"
    }
   ],
   "source": [
    "# Load file\n",
    "tss_file = BedTool(f\"{ref_genome}_tss_info.bed\").to_dataframe()\n",
    "tss_file.head()"
   ]
  },
  {
   "cell_type": "code",
   "execution_count": 18,
   "metadata": {},
   "outputs": [
    {
     "data": {
      "text/plain": [
       "(24875, 6)"
      ]
     },
     "execution_count": 18,
     "metadata": {},
     "output_type": "execute_result"
    }
   ],
   "source": [
    "tss_file.shape"
   ]
  },
  {
   "cell_type": "code",
   "execution_count": 19,
   "metadata": {},
   "outputs": [
    {
     "data": {
      "text/plain": [
       "24875 sequences"
      ]
     },
     "execution_count": 19,
     "metadata": {},
     "output_type": "execute_result"
    }
   ],
   "source": [
    "# Get DNA sequence\n",
    "\n",
    "peak_ids = tss_file[\"chrom\"] + \"_\" + tss_file[\"start\"].astype(\"str\") + \"_\" + tss_file[\"end\"].astype(\"str\")\n",
    "peak_ids = peak_ids.to_list()\n",
    "\n",
    "fa = ma.peak2fasta(peak_ids, ref_genome=ref_genome)\n",
    "fa"
   ]
  },
  {
   "cell_type": "code",
   "execution_count": 20,
   "metadata": {},
   "outputs": [
    {
     "name": "stdout",
     "output_type": "stream",
     "text": [
      "DS562855.1_546866_547965 \n",
      " TTTGACTGGCTAAAAGAAAAACATGGGAAGAGTCAGTTGTGgtaatcccagcactcacaagtttgaggcaggaggattacctcaacttcgaatccagcctgggatacacagtgcattcaaggccaggctgaactacatagtgagaccctatctcaaaaaacctgggagagaaagagagagggcaagacTAAAAAAGAGGAGAAGGAAACAGGAAAAAAGACTTTGAAGGGAACAGGTTGCAAAGTCCCCGGAACCATGAGCTTATGACCTCTGTCCAACATAAAGGAAAATCAATGCAATAGTTAGTATAGGAAAGACAAACAACGAAAACAAGAAACGGGAGCATTTATTGAAGCTACTCACAAGCAGCTGAgtaccagcaatcgaactcatgccctagtgcttgtcaggcaggcgcttatgccgctgattaaatccccagcccCCTCATACTGTTTTGACTCATTATCATTCCTGCATCCCACAGATATTGCACACTGCACTAAGCAGAGTAACTTGGTGGAAGGACAACTTCCTCCTCTGAGGTCACCTTCCCTCATCTATGGGGAAAGCAATGGCTTTGGAAGCAAATTCCTCGATGCCATTTTAGAAGTGGCCGTTCATTGACActgtacctttgcttcctcctctgaaaaatgaggattaataaaatcaatctattttgatgacttcttaactatgaagacaaaacatgcaaattacctggcaagttgttgtaactaaatacacactcCTTCCAGCCAGTCCCTCCCTCATTCTGTGACCACCCTTGAAGTTGCAGGACCCCAAGGCAAGAGAGAAGTCATGGCTTTCCCCAGTGTAGGTAGGATCTACAGTGCAAGAGGACGTAATCCTGCCCCCAGGAGCCAGGCGGGATGCTCGGCGCCCTAGACTACAACTCCCAGGATGCTCGGCGGGAGGGGCCTAAccccgccctcaggccccgccccccgtgcccagccacgcccggctcccggcctcgcccacccgCGGGCCCTGTCGCTGCCTGGTGAGTGCGGAACGTGCTCGGTTGCGGTGCTGCGCGGGCGCCTGGCGGAAGGTGAGTGCAAGAGCCGGCG \n",
      "\n",
      "DS562855.1_867638_868737 \n",
      " TGGGGCGGCGTGATCACGTGGCGTGAAGTGGGCAGGGCCTGTGACGAAATCGCTTCTTATTGGCCAAGTGGGCGGGGTCAGTGTCCACCGAGCACGTGCGCAGAGCTAAGCAGAGAGGATGGGAAAGGGGACGCAGCCGCGGGGCGGGGCTGCTGGAGCCCGGCTGACGGCGTTTGAAGGTGGAGGCGGCCCGGAGACCCGGCCCGCTGTAGGGGCGGGGCCTACGGTACTCCGCCCTGCGTCCGCCCCGTCGCTGTCCGCTTCCGGCACCAGTCGGTGCCGCGGGGTCCTTACCTGGCTAGCGGTCTTCTGCCGCTCCCAGTGATCTGCGAGGTCCGAGTCTACCGAAGCCGCCGTCTTGCTGGGTCTGGCGGAGTGCAGCGGCCGGCTCGGCCGAGGACCTCTTCGGCGTCGCCCCGGGCGTCTGCGCCTCCACCTCGCCGCACCACCAGCCTAGGACCCCAAAGCTGAGCTGCTGCGGACGGAGGGACGGGCCACAGCGCGGACTCAGCGCTTGGAGGCTGCAGCTTGTCCTCCACCCAGGTCTGCGGGAGCTACGGGGCCTGCCCGCGGCCCGCCTGACTCGGCCTCCTGCTCCATCTGTACAAGCTCCCGGGGTCCTCAGGACACACCGGGGTCAGCTGAGACCCGCGTCCTCTGCGTGGAACAATCCGGACATACAGGCTTACACCCTGCCCAGCCTCTCAGAAGCGTTGACACAGAGAGAGAAGGAGGGGGCAGGGAAGGAAAAAACGGGCTCAGTTGTGTCACGCCAGGCGCGTGAACACACCTACTGCACACATACTAATAAAATTTTAAGGGAGGAAAAAAGAGGCAAGTATTAGTGCTATCTGCCACAGGAAAGTCTTGCGAAAATAAAAGACTAGTGAATTTTTAGACTTAAGAGTCTGAATAAGTTTCATTCTCTCGAGACTAAACACAACTTTTTAAAGGAACATCAAATTCAAAACTTTAAAAATGCTCTGTAAAGAAACCCACACACTCTCCCAAGGCATCCGAGCCTGCGAGCCTGGGGTTCAGTGAGACTCAGGTTGGATCCGGGTCCCGTCCTTAAGAACTGGTGACTTTCTACAATTAGC \n",
      "\n",
      "DS562855.1_849314_850413 \n",
      " CCCCAGCCAACATCATCACTGCCCTGAAAAGCAGTGCAGGGCTCAGTCTGCAACAGCCCCTGAACCCATGGAAATGGTAGTTCTCCACTGTCTTTGCTGTTTTGGGAGGATATTGGCTATTTTTAGAGTTTGATAAAAGCTGGGGATTGTTTTCCCAGAATCCAGTAATATGGACAATTATATTCAGATATGTCAAAGTGTTCCTAAAGTTCACTCACTAATCCAAGAACATATAATTTTTATAATCAGAATATCACATATAGGTGATCCACACTAAAGGGATCCATCACAAACTTCCTTCATGACAGTGCTATGCAAAAAGAGTAAAAGAATTAAAGGAAAACTTTTTTATTATATTGAAACAAATAAGGAATAATATGAGTAATGTAAAATAAGATCAAGAACTCTGACAACATAAGTGAGCTATCACAGAACAAGGAATCATGCAAGTTTTAAGAACAGCACTAGACTAAAGCCATCTCCCACAAGGCACATGTTTGCAGTtgtctcggttactttcctctcattgctgggacaaaatacacaacactcaaaatgaaggaaagaaaggtttatttcttacagtttttggtggtttcagtccataaccaactggctccaaggcagtggggcacggcactggggcagcacttcacaaagcagcagccagagcaaagggggagtgaacaagccttttctcttggcttacactgtacacaaatcaccatctaccttcagggcaggtgtagcattcacaaaatctccttaccctcctttgtacaggatgaggatatttacaaagtaaaaacccaggctccctgctcaagtctgtcagcgactcaatttatcaagttgacacaatttatcaaccataacaAtccaccccttgtcaacttggcaaccagacatatttctttaaatcaGCCTCCAGATACAAAGGCATGCTCAAGCTTAATGTTTTGCAACTTGTACattataacacagcttaagaattataacaattcttaagaaACAGCATTAAATCTATCAATATTatattatattagaaacataacacttgtccttggacccccaaagactcatacacatccctttatgca \n",
      "\n"
     ]
    }
   ],
   "source": [
    "# Show 3 sequences\n",
    "n = 3\n",
    "\n",
    "for i, (k, v) in enumerate(fa.items()):\n",
    "    print(k, \"\\n\", v, \"\\n\")\n",
    "    \n",
    "    if i >= n - 1:\n",
    "        break"
   ]
  },
  {
   "cell_type": "markdown",
   "metadata": {},
   "source": [
    "Looks good"
   ]
  },
  {
   "cell_type": "code",
   "execution_count": 18,
   "metadata": {},
   "outputs": [
    {
     "name": "stdout",
     "output_type": "stream",
     "text": [
      "1_make_tss_referenece_from_ensemble_gff3_file.ipynb\r\n",
      "Cavpor3.0_tss_info.bed\r\n",
      "peaks_example.csv\r\n",
      "tss_annotation_using_custom_tss_data.ipynb\r\n"
     ]
    }
   ],
   "source": [
    "ls"
   ]
  },
  {
   "cell_type": "code",
   "execution_count": null,
   "metadata": {},
   "outputs": [],
   "source": []
  }
 ],
 "metadata": {
  "finalized": {
   "timestamp": 1657654327747,
   "trusted": false
  },
  "kernelspec": {
   "display_name": "Python 3",
   "language": "python",
   "name": "python3"
  },
  "language_info": {
   "codemirror_mode": {
    "name": "ipython",
    "version": 3
   },
   "file_extension": ".py",
   "mimetype": "text/x-python",
   "name": "python",
   "nbconvert_exporter": "python",
   "pygments_lexer": "ipython3",
   "version": "3.6.10"
  }
 },
 "nbformat": 4,
 "nbformat_minor": 2
}
