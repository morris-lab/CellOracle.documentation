{
 "cells": [
  {
   "cell_type": "code",
   "execution_count": 1,
   "metadata": {},
   "outputs": [],
   "source": [
    "import pandas as pd\n",
    "import numpy as np\n",
    "import matplotlib.pyplot as plt\n",
    "%matplotlib inline\n",
    "\n",
    "import seaborn as sns\n",
    "#import time\n",
    "\n",
    "import os, sys, shutil, importlib, glob, subprocess\n",
    "from tqdm.notebook import  tqdm\n",
    "\n",
    "%config InlineBackend.figure_format = 'retina'\n",
    "\n",
    "plt.rcParams['figure.figsize'] = (15,7)\n",
    "plt.rcParams[\"savefig.dpi\"] = 200\n"
   ]
  },
  {
   "cell_type": "code",
   "execution_count": 4,
   "metadata": {},
   "outputs": [],
   "source": [
    "tmp = \"./tmp\"\n",
    "output = \"./output\"\n",
    "\n",
    "os.makedirs(tmp, exist_ok=True)\n",
    "os.makedirs(output, exist_ok=True)"
   ]
  },
  {
   "cell_type": "code",
   "execution_count": 5,
   "metadata": {},
   "outputs": [],
   "source": [
    "# Please set reference genome name\n",
    "ref_genome = \"sacCer3\""
   ]
  },
  {
   "cell_type": "markdown",
   "metadata": {},
   "source": [
    "# 1. Download and unzip annotation data "
   ]
  },
  {
   "cell_type": "code",
   "execution_count": 6,
   "metadata": {},
   "outputs": [],
   "source": [
    "# URLs for genome annotation data\n",
    "url_dictionary = {\"mm10\": \"http://homer.ucsd.edu/homer/data/genomes/mm10.v6.0.zip\",\n",
    "                  \"mm9\": \"http://homer.ucsd.edu/homer/data/genomes/mm9.v6.0.zip\",\n",
    "                  \"hg19\": \"http://homer.ucsd.edu/homer/data/genomes/hg19.v6.0.zip\",\n",
    "                  \"hg38\": \"http://homer.ucsd.edu/homer/data/genomes/hg38.v6.0.zip\",\n",
    "                  \"sacCer2\": \"http://homer.ucsd.edu/homer/data/genomes/sacCer2.v6.4.zip\",\n",
    "                  \"sacCer3\": \"http://homer.ucsd.edu/homer/data/genomes/sacCer3.v6.4.zip\"#S.cerevisiae\n",
    "                 }\n"
   ]
  },
  {
   "cell_type": "code",
   "execution_count": 7,
   "metadata": {},
   "outputs": [
    {
     "data": {
      "text/plain": [
       "'http://homer.ucsd.edu/homer/data/genomes/sacCer3.v6.4.zip'"
      ]
     },
     "execution_count": 7,
     "metadata": {},
     "output_type": "execute_result"
    }
   ],
   "source": [
    "url_dictionary[ref_genome]"
   ]
  },
  {
   "cell_type": "code",
   "execution_count": 8,
   "metadata": {
    "scrolled": true
   },
   "outputs": [
    {
     "name": "stdout",
     "output_type": "stream",
     "text": [
      "--2020-07-06 16:10:30--  http://homer.ucsd.edu/homer/data/genomes/sacCer3.v6.4.zip\n",
      "Resolving homer.ucsd.edu (homer.ucsd.edu)... 169.228.63.226\n",
      "Connecting to homer.ucsd.edu (homer.ucsd.edu)|169.228.63.226|:80... connected.\n",
      "HTTP request sent, awaiting response... 200 OK\n",
      "Length: 5213978 (5.0M) [application/zip]\n",
      "Saving to: ‘sacCer3.v6.4.zip.1’\n",
      "\n",
      "sacCer3.v6.4.zip.1  100%[===================>]   4.97M  3.55MB/s    in 1.4s    \n",
      "\n",
      "2020-07-06 16:10:32 (3.55 MB/s) - ‘sacCer3.v6.4.zip.1’ saved [5213978/5213978]\n",
      "\n"
     ]
    }
   ],
   "source": [
    "# download data\n",
    "! wget http://homer.ucsd.edu/homer/data/genomes/sacCer3.v6.4.zip"
   ]
  },
  {
   "cell_type": "code",
   "execution_count": 9,
   "metadata": {
    "scrolled": true
   },
   "outputs": [
    {
     "name": "stdout",
     "output_type": "stream",
     "text": [
      "Archive:  sacCer3.v6.4.zip\n",
      "   creating: data/genomes/sacCer3/\n",
      "  inflating: data/genomes/sacCer3/chrV.fa  \n",
      "  inflating: data/genomes/sacCer3/chrII.fa  \n",
      "  inflating: data/genomes/sacCer3/sacCer3.basic.annotation  \n",
      "  inflating: data/genomes/sacCer3/chrXII.fa  \n",
      "  inflating: data/genomes/sacCer3/sacCer3.splice5p  \n",
      "  inflating: data/genomes/sacCer3/sacCer3.miRNA  \n",
      "  inflating: data/genomes/sacCer3/chrXIV.fa  \n",
      "  inflating: data/genomes/sacCer3/sacCer3.aug  \n",
      "  inflating: data/genomes/sacCer3/sacCer3.stop  \n",
      "  inflating: data/genomes/sacCer3/chrI.fa  \n",
      "  inflating: data/genomes/sacCer3/chrIII.fa  \n",
      "  inflating: data/genomes/sacCer3/chrVIII.fa  \n",
      "   creating: data/genomes/sacCer3/annotations/\n",
      "   creating: data/genomes/sacCer3/annotations/basic/\n",
      " extracting: data/genomes/sacCer3/annotations/basic/centromeres.ann.txt  \n",
      "  inflating: data/genomes/sacCer3/annotations/basic/introns.ann.txt  \n",
      "  inflating: data/genomes/sacCer3/annotations/basic/coding.ann.txt  \n",
      "  inflating: data/genomes/sacCer3/annotations/basic/miRNA.ann.txt  \n",
      "  inflating: data/genomes/sacCer3/annotations/basic/intergenic.ann.txt  \n",
      "  inflating: data/genomes/sacCer3/annotations/basic/tts.ann.txt  \n",
      " extracting: data/genomes/sacCer3/annotations/basic/gaps.ann.txt  \n",
      "  inflating: data/genomes/sacCer3/annotations/basic/utr5.ann.txt  \n",
      "  inflating: data/genomes/sacCer3/annotations/basic/exons.ann.txt  \n",
      "  inflating: data/genomes/sacCer3/annotations/basic/pseudo.ann.txt  \n",
      "  inflating: data/genomes/sacCer3/annotations/basic/promoters.ann.txt  \n",
      "  inflating: data/genomes/sacCer3/annotations/basic/protein-coding.ann.txt  \n",
      "  inflating: data/genomes/sacCer3/annotations/basic/utr3.ann.txt  \n",
      " extracting: data/genomes/sacCer3/annotations/basic/cpgIsland.ann.txt  \n",
      "   creating: data/genomes/sacCer3/annotations/repeats/\n",
      "   creating: data/genomes/sacCer3/annotations/custom/\n",
      " extracting: data/genomes/sacCer3/sacCer3.repeats  \n",
      "  inflating: data/genomes/sacCer3/sacCer3.full.annotation  \n",
      "  inflating: data/genomes/sacCer3/sacCer3.splice3p  \n",
      "  inflating: data/genomes/sacCer3/sacCer3.tss  \n",
      "  inflating: data/genomes/sacCer3/chrXI.fa  \n",
      "  inflating: data/genomes/sacCer3/chrXVI.fa  \n",
      "  inflating: data/genomes/sacCer3/sacCer3.rna  \n",
      "  inflating: data/genomes/sacCer3/chrX.fa  \n",
      "  inflating: data/genomes/sacCer3/chrVI.fa  \n",
      "  inflating: data/genomes/sacCer3/chrIV.fa  \n",
      "  inflating: data/genomes/sacCer3/chrXIII.fa  \n",
      "  inflating: data/genomes/sacCer3/chrIX.fa  \n",
      "  inflating: data/genomes/sacCer3/chrom.sizes  \n",
      "  inflating: data/genomes/sacCer3/sacCer3.tts  \n",
      "  inflating: data/genomes/sacCer3/chrVII.fa  \n",
      "  inflating: data/genomes/sacCer3/chrM.fa  \n",
      "  inflating: data/genomes/sacCer3/chrXV.fa  \n"
     ]
    }
   ],
   "source": [
    "# Unzip data\n",
    "! unzip sacCer3.v6.4.zip"
   ]
  },
  {
   "cell_type": "markdown",
   "metadata": {},
   "source": [
    "# 2. Make tss bed file"
   ]
  },
  {
   "cell_type": "code",
   "execution_count": 9,
   "metadata": {},
   "outputs": [
    {
     "name": "stdout",
     "output_type": "stream",
     "text": [
      "1. raw_tss_data\n",
      "                          0     1     2      3  4  5  6\n",
      "0    promoter-TSS (YAL069W)  chrI  -665    435  +  P  1\n",
      "1  promoter-TSS (YAL068W-A)  chrI   436    638  +  P  2\n",
      "3  promoter-TSS (YAL067W-A)  chrI  1480   2068  +  P  4\n",
      "4    promoter-TSS (YAL068C)  chrI  2069   3169  -  P  3\n",
      "9    promoter-TSS (YAL067C)  chrI  8916  10016  -  P  5\n",
      "2. save tss info as a bed file\n",
      " tss bed file was saved as ./tmp/sacCer3_tss.bed\n"
     ]
    }
   ],
   "source": [
    "def make_tss_bed_file(ref_genome):\n",
    "\n",
    "    tss = pd.read_csv(f\"data/genomes/{ref_genome}/{ref_genome}.basic.annotation\",\n",
    "                      header=None, delimiter=\"\\t\")\n",
    "    tss = tss[tss[5] == \"P\"]\n",
    "    print(\"1. raw_tss_data\")\n",
    "    print(tss.head())\n",
    "\n",
    "\n",
    "    print(\"2. save tss info as a bed file\")\n",
    "    tss = tss.reset_index(drop=False)\n",
    "    tss[[1, 2, 3, \"index\", 5, 4]].to_csv(os.path.join(tmp, f\"{ref_genome}_tss.bed\"), \n",
    "                                         sep='\\t', header=False, index=False)\n",
    "    \n",
    "    print(\" tss bed file was saved as \" + os.path.join(tmp, f\"{ref_genome}_tss.bed\"))\n",
    "\n",
    "\n",
    "make_tss_bed_file(ref_genome=ref_genome)"
   ]
  },
  {
   "cell_type": "markdown",
   "metadata": {},
   "source": [
    "# 2. Process peaks with homer"
   ]
  },
  {
   "cell_type": "code",
   "execution_count": 10,
   "metadata": {},
   "outputs": [
    {
     "name": "stdout",
     "output_type": "stream",
     "text": [
      "annotatePeaks.pl ./tmp/sacCer3_tss.bed sacCer3 >./tmp/sacCer3_tss_with_annot.bed\n"
     ]
    }
   ],
   "source": [
    "# command\n",
    "input_bed = os.path.join(tmp, f\"{ref_genome}_tss.bed\")\n",
    "out_bed = os.path.join(tmp, f\"{ref_genome}_tss_with_annot.bed\")\n",
    "command = f'annotatePeaks.pl {input_bed} {ref_genome} >{out_bed}'\n",
    "\n",
    "print(command)"
   ]
  },
  {
   "cell_type": "code",
   "execution_count": null,
   "metadata": {},
   "outputs": [],
   "source": [
    "# Install genome data"
   ]
  },
  {
   "cell_type": "code",
   "execution_count": 13,
   "metadata": {
    "scrolled": true
   },
   "outputs": [
    {
     "name": "stdout",
     "output_type": "stream",
     "text": [
      "\n",
      "\tCurrent base directory for HOMER is /home/k/anaconda3/envs/pandas1/share/homer-4.11-1/.//\n",
      "\n",
      "\tWill install sacCer3\n",
      "--2020-07-02 14:26:12--  http://homer.ucsd.edu/homer/update.txt\n",
      "Resolving homer.ucsd.edu (homer.ucsd.edu)... 169.228.63.226\n",
      "Connecting to homer.ucsd.edu (homer.ucsd.edu)|169.228.63.226|:80... connected.\n",
      "HTTP request sent, awaiting response... 200 OK\n",
      "Length: 17859 (17K) [text/plain]\n",
      "Saving to: ‘/home/k/anaconda3/envs/pandas1/share/homer-4.11-1/.///update.txt’\n",
      "\n",
      "/home/k/anaconda3/e 100%[===================>]  17.44K  --.-KB/s    in 0.05s   \n",
      "\n",
      "2020-07-02 14:26:12 (340 KB/s) - ‘/home/k/anaconda3/envs/pandas1/share/homer-4.11-1/.///update.txt’ saved [17859/17859]\n",
      "\n",
      "\tUpdating Settings...\n",
      "`wget -O 0.377529841455729.tmp http://homer.ucsd.edu/homer/configureHomer.pl`;\n",
      "--2020-07-02 14:26:12--  http://homer.ucsd.edu/homer/configureHomer.pl\n",
      "Resolving homer.ucsd.edu (homer.ucsd.edu)... 169.228.63.226\n",
      "Connecting to homer.ucsd.edu (homer.ucsd.edu)|169.228.63.226|:80... connected.\n",
      "HTTP request sent, awaiting response... 200 OK\n",
      "Length: 27477 (27K) [application/x-perl]\n",
      "Saving to: ‘0.377529841455729.tmp’\n",
      "\n",
      "0.377529841455729.t 100%[===================>]  26.83K  --.-KB/s    in 0.05s   \n",
      "\n",
      "2020-07-02 14:26:12 (522 KB/s) - ‘0.377529841455729.tmp’ saved [27477/27477]\n",
      "\n",
      "\tconfigureHomer.pl script is up-to-date\n",
      "\t\tInstalling/Updating Organism yeast (v6.3) for package sacCer3\n",
      "\tPackages to Install...\n",
      "\t\tyeast -> v6.3\n",
      "\t\tsacCer3 -> \n",
      "\tPausing for 3 seconds (hit ctrl-C to stop)\n",
      "\tInstalling: yeast\n",
      "\t\tDownloading...\n",
      "--2020-07-02 14:26:15--  http://homer.ucsd.edu/homer/data/organisms/yeast.v6.3.zip\n",
      "Resolving homer.ucsd.edu (homer.ucsd.edu)... 169.228.63.226\n",
      "Connecting to homer.ucsd.edu (homer.ucsd.edu)|169.228.63.226|:80... connected.\n",
      "HTTP request sent, awaiting response... 200 OK\n",
      "Length: 5700717 (5.4M) [application/zip]\n",
      "Saving to: ‘homer.package.zip’\n",
      "\n",
      "homer.package.zip   100%[===================>]   5.44M  4.37MB/s    in 1.2s    \n",
      "\n",
      "2020-07-02 14:26:17 (4.37 MB/s) - ‘homer.package.zip’ saved [5700717/5700717]\n",
      "\n",
      "\t\tUnzipping...\n",
      "\t\tFinished Installing yeast\n",
      "\n",
      "\tInstalling: sacCer3\n",
      "\t\tDownloading...\n",
      "--2020-07-02 14:26:17--  http://homer.ucsd.edu/homer/data/genomes/sacCer3.v6.4.zip\n",
      "Resolving homer.ucsd.edu (homer.ucsd.edu)... 169.228.63.226\n",
      "Connecting to homer.ucsd.edu (homer.ucsd.edu)|169.228.63.226|:80... connected.\n",
      "HTTP request sent, awaiting response... 200 OK\n",
      "Length: 5213978 (5.0M) [application/zip]\n",
      "Saving to: ‘homer.package.zip’\n",
      "\n",
      "homer.package.zip   100%[===================>]   4.97M  5.04MB/s    in 1.0s    \n",
      "\n",
      "2020-07-02 14:26:18 (5.04 MB/s) - ‘homer.package.zip’ saved [5213978/5213978]\n",
      "\n",
      "\t\tUnzipping...\n",
      "\t\tFinished Installing sacCer3\n",
      "\n"
     ]
    }
   ],
   "source": [
    "! perl /home/k/anaconda3/envs/pandas1/share/homer-4.11-1/.//configureHomer.pl -install sacCer3"
   ]
  },
  {
   "cell_type": "code",
   "execution_count": 14,
   "metadata": {},
   "outputs": [
    {
     "name": "stdout",
     "output_type": "stream",
     "text": [
      "\n",
      "\tPeak file = ./tmp/sacCer3_tss.bed\n",
      "\tGenome = sacCer3\n",
      "\tOrganism = yeast\n",
      "\tPeak/BED file conversion summary:\n",
      "\t\tBED/Header formatted lines: 6371\n",
      "\t\tpeakfile formatted lines: 0\n",
      "\t\tDuplicated Peak IDs: 0\n",
      "\n",
      "\tPeak File Statistics:\n",
      "\t\tTotal Peaks: 6371\n",
      "\t\tRedundant Peak IDs: 0\n",
      "\t\tPeaks lacking information: 0 (need at least 5 columns per peak)\n",
      "\t\tPeaks with misformatted coordinates: 0 (should be integer)\n",
      "\t\tPeaks with misformatted strand: 0 (should be either +/- or 0/1)\n",
      "\n",
      "\tPeak file looks good!\n",
      "\n",
      "\tReading Positions...\n",
      "\t-----------------------\n",
      "\tFinding Closest TSS...\n",
      "\tAnnotating:.................\n",
      "\t\tAnnotation\tNumber of peaks\tTotal size (bp)\tLog2 Ratio (obs/exp)\tLogP enrichment (+values depleted)\n",
      "\t\tTTS\t0.0\t2952159\t-10.998\t1773.286\n",
      "\t\tExon\t0.0\t3377468\t-11.261\t2074.881\n",
      "\t\tIntron\t0.0\t12503\t-2.919\t6.559\n",
      "\t\tIntergenic\t0.0\t227969\t-6.940\t120.665\n",
      "\t\tPromoter\t6371.0\t5580781\t1.123\t-4957.102\n",
      "\tNOTE: If this part takes more than 2 minutes, there is a good chance\n",
      "\t\tyour machine ran out of memory: consider hitting ctrl+C and rerunning\n",
      "\t\tthe command with \"-noann\"\n",
      "\tTo capture annotation stats in a file, use \"-annStats <filename>\" next time\n",
      "\tAnnotating:.................\n",
      "\t\tAnnotation\tNumber of peaks\tTotal size (bp)\tLog2 Ratio (obs/exp)\tLogP enrichment (+values depleted)\n",
      "\t\tTTS\t0.0\t2952159\t-10.998\t1773.286\n",
      "\t\tExon\t0.0\t3377468\t-11.261\t2074.881\n",
      "\t\tIntron\t0.0\t12503\t-2.919\t6.559\n",
      "\t\tIntergenic\t0.0\t227969\t-6.940\t120.665\n",
      "\t\tPromoter\t6371.0\t5580781\t1.123\t-4957.102\n",
      "\tCounting Tags in Peaks from each directory...\n",
      "\tOrganism: yeast\n",
      "\tLoading Gene Informaiton...\n",
      "\tOutputing Annotation File...\n",
      "\tDone annotating peaks file\n",
      "\n"
     ]
    }
   ],
   "source": [
    "# process tss file with homer\n",
    "!annotatePeaks.pl ./tmp/sacCer3_tss.bed sacCer3 >./tmp/sacCer3_tss_with_annot.bed"
   ]
  },
  {
   "cell_type": "markdown",
   "metadata": {},
   "source": [
    "# 3.load and process"
   ]
  },
  {
   "cell_type": "code",
   "execution_count": 12,
   "metadata": {},
   "outputs": [
    {
     "data": {
      "text/plain": [
       "'./tmp/sacCer3_tss_with_annot.bed'"
      ]
     },
     "execution_count": 12,
     "metadata": {},
     "output_type": "execute_result"
    }
   ],
   "source": [
    "out_bed"
   ]
  },
  {
   "cell_type": "code",
   "execution_count": 13,
   "metadata": {},
   "outputs": [],
   "source": [
    "def process_tss_info():\n",
    "\n",
    "    # load file\n",
    "    tss_with_annot = pd.read_csv(out_bed, delimiter=\"\\t\", index_col=0)\n",
    "\n",
    "    # process\n",
    "    tss_with_annot.Start = tss_with_annot.Start - 1\n",
    "    tss_with_annot.index.name = None\n",
    "    tss_with_annot = tss_with_annot.reset_index(drop=False)\n",
    "\n",
    "    # select info\n",
    "    tss_with_annot = tss_with_annot[[\"Chr\", \"Start\", \"End\", \"Gene Name\", 'Distance to TSS', \"Strand\"]]\n",
    "\n",
    "    return tss_with_annot\n"
   ]
  },
  {
   "cell_type": "code",
   "execution_count": 14,
   "metadata": {
    "scrolled": true
   },
   "outputs": [
    {
     "data": {
      "text/html": [
       "<div>\n",
       "<style scoped>\n",
       "    .dataframe tbody tr th:only-of-type {\n",
       "        vertical-align: middle;\n",
       "    }\n",
       "\n",
       "    .dataframe tbody tr th {\n",
       "        vertical-align: top;\n",
       "    }\n",
       "\n",
       "    .dataframe thead th {\n",
       "        text-align: right;\n",
       "    }\n",
       "</style>\n",
       "<table border=\"1\" class=\"dataframe\">\n",
       "  <thead>\n",
       "    <tr style=\"text-align: right;\">\n",
       "      <th></th>\n",
       "      <th>Chr</th>\n",
       "      <th>Start</th>\n",
       "      <th>End</th>\n",
       "      <th>Gene Name</th>\n",
       "      <th>Distance to TSS</th>\n",
       "      <th>Strand</th>\n",
       "    </tr>\n",
       "  </thead>\n",
       "  <tbody>\n",
       "    <tr>\n",
       "      <th>0</th>\n",
       "      <td>chrXII</td>\n",
       "      <td>1012246</td>\n",
       "      <td>1013023</td>\n",
       "      <td>NaN</td>\n",
       "      <td>51</td>\n",
       "      <td>-</td>\n",
       "    </tr>\n",
       "    <tr>\n",
       "      <th>1</th>\n",
       "      <td>chrXII</td>\n",
       "      <td>789676</td>\n",
       "      <td>790776</td>\n",
       "      <td>MID2</td>\n",
       "      <td>-450</td>\n",
       "      <td>+</td>\n",
       "    </tr>\n",
       "    <tr>\n",
       "      <th>2</th>\n",
       "      <td>chrVII</td>\n",
       "      <td>196303</td>\n",
       "      <td>197403</td>\n",
       "      <td>RAD54</td>\n",
       "      <td>-450</td>\n",
       "      <td>-</td>\n",
       "    </tr>\n",
       "    <tr>\n",
       "      <th>3</th>\n",
       "      <td>chrI</td>\n",
       "      <td>189193</td>\n",
       "      <td>190293</td>\n",
       "      <td>YAT1</td>\n",
       "      <td>-450</td>\n",
       "      <td>+</td>\n",
       "    </tr>\n",
       "    <tr>\n",
       "      <th>4</th>\n",
       "      <td>chrX</td>\n",
       "      <td>531062</td>\n",
       "      <td>532162</td>\n",
       "      <td>RAD7</td>\n",
       "      <td>-450</td>\n",
       "      <td>+</td>\n",
       "    </tr>\n",
       "  </tbody>\n",
       "</table>\n",
       "</div>"
      ],
      "text/plain": [
       "      Chr    Start      End Gene Name  Distance to TSS Strand\n",
       "0  chrXII  1012246  1013023       NaN               51      -\n",
       "1  chrXII   789676   790776      MID2             -450      +\n",
       "2  chrVII   196303   197403     RAD54             -450      -\n",
       "3    chrI   189193   190293      YAT1             -450      +\n",
       "4    chrX   531062   532162      RAD7             -450      +"
      ]
     },
     "execution_count": 14,
     "metadata": {},
     "output_type": "execute_result"
    }
   ],
   "source": [
    "tss_ref = process_tss_info()\n",
    "tss_ref.head()"
   ]
  },
  {
   "cell_type": "code",
   "execution_count": 18,
   "metadata": {},
   "outputs": [
    {
     "data": {
      "text/html": [
       "<div>\n",
       "<style scoped>\n",
       "    .dataframe tbody tr th:only-of-type {\n",
       "        vertical-align: middle;\n",
       "    }\n",
       "\n",
       "    .dataframe tbody tr th {\n",
       "        vertical-align: top;\n",
       "    }\n",
       "\n",
       "    .dataframe thead th {\n",
       "        text-align: right;\n",
       "    }\n",
       "</style>\n",
       "<table border=\"1\" class=\"dataframe\">\n",
       "  <thead>\n",
       "    <tr style=\"text-align: right;\">\n",
       "      <th></th>\n",
       "      <th>Chr</th>\n",
       "      <th>Start</th>\n",
       "      <th>End</th>\n",
       "      <th>Gene Name</th>\n",
       "      <th>Distance to TSS</th>\n",
       "      <th>Strand</th>\n",
       "    </tr>\n",
       "  </thead>\n",
       "  <tbody>\n",
       "    <tr>\n",
       "      <th>0</th>\n",
       "      <td>chrXIV</td>\n",
       "      <td>224369</td>\n",
       "      <td>225469</td>\n",
       "      <td>CNM67</td>\n",
       "      <td>-450</td>\n",
       "      <td>-</td>\n",
       "    </tr>\n",
       "    <tr>\n",
       "      <th>1</th>\n",
       "      <td>chrIV</td>\n",
       "      <td>500100</td>\n",
       "      <td>500778</td>\n",
       "      <td>REG1</td>\n",
       "      <td>440</td>\n",
       "      <td>+</td>\n",
       "    </tr>\n",
       "    <tr>\n",
       "      <th>2</th>\n",
       "      <td>chrIX</td>\n",
       "      <td>307829</td>\n",
       "      <td>308929</td>\n",
       "      <td>NaN</td>\n",
       "      <td>196</td>\n",
       "      <td>-</td>\n",
       "    </tr>\n",
       "    <tr>\n",
       "      <th>3</th>\n",
       "      <td>chrII</td>\n",
       "      <td>28199</td>\n",
       "      <td>29299</td>\n",
       "      <td>YBL100W-C</td>\n",
       "      <td>322</td>\n",
       "      <td>-</td>\n",
       "    </tr>\n",
       "    <tr>\n",
       "      <th>4</th>\n",
       "      <td>chrXIV</td>\n",
       "      <td>470377</td>\n",
       "      <td>471001</td>\n",
       "      <td>END3</td>\n",
       "      <td>413</td>\n",
       "      <td>+</td>\n",
       "    </tr>\n",
       "    <tr>\n",
       "      <th>...</th>\n",
       "      <td>...</td>\n",
       "      <td>...</td>\n",
       "      <td>...</td>\n",
       "      <td>...</td>\n",
       "      <td>...</td>\n",
       "      <td>...</td>\n",
       "    </tr>\n",
       "    <tr>\n",
       "      <th>6366</th>\n",
       "      <td>chrIX</td>\n",
       "      <td>201120</td>\n",
       "      <td>201461</td>\n",
       "      <td>KTR7</td>\n",
       "      <td>752</td>\n",
       "      <td>-</td>\n",
       "    </tr>\n",
       "    <tr>\n",
       "      <th>6367</th>\n",
       "      <td>chrXII</td>\n",
       "      <td>159405</td>\n",
       "      <td>160505</td>\n",
       "      <td>SSL1</td>\n",
       "      <td>-94</td>\n",
       "      <td>-</td>\n",
       "    </tr>\n",
       "    <tr>\n",
       "      <th>6368</th>\n",
       "      <td>chrXI</td>\n",
       "      <td>345520</td>\n",
       "      <td>346620</td>\n",
       "      <td>YKL050C</td>\n",
       "      <td>-450</td>\n",
       "      <td>-</td>\n",
       "    </tr>\n",
       "    <tr>\n",
       "      <th>6369</th>\n",
       "      <td>chrIV</td>\n",
       "      <td>2762</td>\n",
       "      <td>3862</td>\n",
       "      <td>NaN</td>\n",
       "      <td>-450</td>\n",
       "      <td>+</td>\n",
       "    </tr>\n",
       "    <tr>\n",
       "      <th>6370</th>\n",
       "      <td>chrIV</td>\n",
       "      <td>666670</td>\n",
       "      <td>667770</td>\n",
       "      <td>ARP10</td>\n",
       "      <td>216</td>\n",
       "      <td>-</td>\n",
       "    </tr>\n",
       "  </tbody>\n",
       "</table>\n",
       "<p>6371 rows × 6 columns</p>\n",
       "</div>"
      ],
      "text/plain": [
       "         Chr   Start     End  Gene Name  Distance to TSS Strand\n",
       "0     chrXIV  224369  225469      CNM67             -450      -\n",
       "1      chrIV  500100  500778       REG1              440      +\n",
       "2      chrIX  307829  308929        NaN              196      -\n",
       "3      chrII   28199   29299  YBL100W-C              322      -\n",
       "4     chrXIV  470377  471001       END3              413      +\n",
       "...      ...     ...     ...        ...              ...    ...\n",
       "6366   chrIX  201120  201461       KTR7              752      -\n",
       "6367  chrXII  159405  160505       SSL1              -94      -\n",
       "6368   chrXI  345520  346620    YKL050C             -450      -\n",
       "6369   chrIV    2762    3862        NaN             -450      +\n",
       "6370   chrIV  666670  667770      ARP10              216      -\n",
       "\n",
       "[6371 rows x 6 columns]"
      ]
     },
     "execution_count": 18,
     "metadata": {},
     "output_type": "execute_result"
    }
   ],
   "source": [
    "tss_ref"
   ]
  },
  {
   "cell_type": "code",
   "execution_count": 19,
   "metadata": {},
   "outputs": [],
   "source": [
    "tss_ref.to_csv(os.path.join(output, f\"{ref_genome}_tss_info.bed\"),  sep='\\t', header=False, index=False)\n",
    "\n",
    "\n"
   ]
  },
  {
   "cell_type": "code",
   "execution_count": null,
   "metadata": {},
   "outputs": [],
   "source": []
  }
 ],
 "metadata": {
  "kernelspec": {
   "display_name": "Python 3",
   "language": "python",
   "name": "python3"
  },
  "language_info": {
   "codemirror_mode": {
    "name": "ipython",
    "version": 3
   },
   "file_extension": ".py",
   "mimetype": "text/x-python",
   "name": "python",
   "nbconvert_exporter": "python",
   "pygments_lexer": "ipython3",
   "version": "3.6.10"
  }
 },
 "nbformat": 4,
 "nbformat_minor": 2
}
