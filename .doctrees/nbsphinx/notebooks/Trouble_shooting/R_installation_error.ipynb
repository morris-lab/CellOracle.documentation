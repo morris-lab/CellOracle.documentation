{
 "cells": [
  {
   "cell_type": "code",
   "execution_count": 1,
   "metadata": {},
   "outputs": [],
   "source": [
    "import celloracle as co"
   ]
  },
  {
   "cell_type": "markdown",
   "metadata": {},
   "source": [
    "## Set R path"
   ]
  },
  {
   "cell_type": "code",
   "execution_count": 2,
   "metadata": {},
   "outputs": [
    {
     "name": "stdout",
     "output_type": "stream",
     "text": [
      "Testing R...\n",
      "\n",
      "R version 3.6.3 (2020-02-29) -- \"Holding the Windsock\"\n",
      "Copyright (C) 2020 The R Foundation for Statistical Computing\n",
      "Platform: x86_64-pc-linux-gnu (64-bit)\n",
      "\n",
      "R is free software and comes with ABSOLUTELY NO WARRANTY.\n",
      "You are welcome to redistribute it under the terms of the\n",
      "GNU General Public License versions 2 or 3.\n",
      "For more information about these matters see\n",
      "https://www.gnu.org/licenses/.\n",
      "\n"
     ]
    }
   ],
   "source": [
    "# Ser R path\n",
    "co.network_analysis.set_R_path(\"/usr/bin/R\") # Change the path."
   ]
  },
  {
   "cell_type": "code",
   "execution_count": 3,
   "metadata": {},
   "outputs": [
    {
     "data": {
      "text/plain": [
       "'/usr/bin/R'"
      ]
     },
     "execution_count": 3,
     "metadata": {},
     "output_type": "execute_result"
    }
   ],
   "source": [
    "# Pleaes confirm YOUR R path\n",
    "co.network_analysis.config[\"R_path\"]"
   ]
  },
  {
   "cell_type": "markdown",
   "metadata": {},
   "source": [
    "## This script below generate test command to check R library installation"
   ]
  },
  {
   "cell_type": "code",
   "execution_count": 4,
   "metadata": {},
   "outputs": [
    {
     "name": "stdout",
     "output_type": "stream",
     "text": [
      "!/usr/bin/R --file=/home/k/Dropbox/NGS/180416_PS1/CellOracle/celloracle/network_analysis/rscripts_for_network_analysis/test_linkcomm.R\n"
     ]
    }
   ],
   "source": [
    "\n",
    "import os \n",
    "R_path = co.network_analysis.config[\"R_path\"]\n",
    "celloracle_path = os.path.dirname(co.network_analysis.__file__)\n",
    "R_testfile_path = os.path.join(celloracle_path, \"rscripts_for_network_analysis/test_linkcomm.R\")\n",
    "\n",
    "test_command = f\"!{R_path} --file={R_testfile_path}\"\n",
    "\n",
    "print(test_command)"
   ]
  },
  {
   "cell_type": "markdown",
   "metadata": {},
   "source": [
    "### Please copy, paste, and run the command printed above."
   ]
  },
  {
   "cell_type": "code",
   "execution_count": 5,
   "metadata": {},
   "outputs": [
    {
     "name": "stdout",
     "output_type": "stream",
     "text": [
      "\n",
      "R version 3.6.3 (2020-02-29) -- \"Holding the Windsock\"\n",
      "Copyright (C) 2020 The R Foundation for Statistical Computing\n",
      "Platform: x86_64-pc-linux-gnu (64-bit)\n",
      "\n",
      "R is free software and comes with ABSOLUTELY NO WARRANTY.\n",
      "You are welcome to redistribute it under certain conditions.\n",
      "Type 'license()' or 'licence()' for distribution details.\n",
      "\n",
      "R is a collaborative project with many contributors.\n",
      "Type 'contributors()' for more information and\n",
      "'citation()' on how to cite R or R packages in publications.\n",
      "\n",
      "Type 'demo()' for some demos, 'help()' for on-line help, or\n",
      "'help.start()' for an HTML browser interface to help.\n",
      "Type 'q()' to quit R.\n",
      "\n",
      "> \n",
      "> library(linkcomm)\n",
      "Loading required package: igraph\n",
      "\n",
      "Attaching package: ‘igraph’\n",
      "\n",
      "The following objects are masked from ‘package:stats’:\n",
      "\n",
      "    decompose, spectrum\n",
      "\n",
      "The following object is masked from ‘package:base’:\n",
      "\n",
      "    union\n",
      "\n",
      "Loading required package: RColorBrewer\n",
      "\n",
      "Welcome to linkcomm version 1.0-12\n",
      "\n",
      "For a step-by-step guide to using linkcomm functions:\n",
      "   > vignette(topic = \"linkcomm\", package = \"linkcomm\")\n",
      "To run an interactive demo:\n",
      "   > demo(topic = \"linkcomm\", package = \"linkcomm\")\n",
      "To cite, see:\n",
      "   > citation(\"linkcomm\")\n",
      "NOTE: To use linkcomm, you require read and write permissions in the current directory (see: help(\"getwd\"), help(\"setwd\"))\n",
      "\n",
      "> \n",
      "> \n"
     ]
    }
   ],
   "source": [
    "!/usr/bin/R --file=/home/k/Dropbox/NGS/180416_PS1/CellOracle/celloracle/network_analysis/rscripts_for_network_analysis/test_linkcomm.R"
   ]
  },
  {
   "cell_type": "code",
   "execution_count": null,
   "metadata": {},
   "outputs": [],
   "source": []
  }
 ],
 "metadata": {
  "finalized": {
   "timestamp": 1626107046240,
   "trusted": true
  },
  "kernelspec": {
   "display_name": "Python 3",
   "language": "python",
   "name": "python3"
  },
  "language_info": {
   "codemirror_mode": {
    "name": "ipython",
    "version": 3
   },
   "file_extension": ".py",
   "mimetype": "text/x-python",
   "name": "python",
   "nbconvert_exporter": "python",
   "pygments_lexer": "ipython3",
   "version": "3.6.10"
  }
 },
 "nbformat": 4,
 "nbformat_minor": 4
}
