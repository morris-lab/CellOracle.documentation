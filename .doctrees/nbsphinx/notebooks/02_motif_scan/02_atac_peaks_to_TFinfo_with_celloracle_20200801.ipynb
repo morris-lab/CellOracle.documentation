{
 "cells": [
  {
   "cell_type": "markdown",
   "metadata": {},
   "source": [
    "# 0. Import libraries"
   ]
  },
  {
   "cell_type": "code",
   "execution_count": 1,
   "metadata": {},
   "outputs": [],
   "source": [
    "import pandas as pd\n",
    "import numpy as np\n",
    "import matplotlib.pyplot as plt\n",
    "\n",
    "\n",
    "import seaborn as sns\n",
    "\n",
    "import os, sys, shutil, importlib, glob\n",
    "from tqdm.notebook import tqdm"
   ]
  },
  {
   "cell_type": "code",
   "execution_count": 2,
   "metadata": {},
   "outputs": [],
   "source": [
    "from celloracle import motif_analysis as ma\n",
    "from celloracle.utility import save_as_pickled_object"
   ]
  },
  {
   "cell_type": "code",
   "execution_count": 3,
   "metadata": {},
   "outputs": [],
   "source": [
    "%config InlineBackend.figure_format = 'retina'\n",
    "%matplotlib inline\n",
    "\n",
    "plt.rcParams['figure.figsize'] = (15,7)\n",
    "plt.rcParams[\"savefig.dpi\"] = 600"
   ]
  },
  {
   "cell_type": "markdown",
   "metadata": {},
   "source": [
    "# 1. Rerefence genome data preparation\n",
    "## 1.1. Check reference genome installation\n",
    "\n",
    "Celloracle uses genomepy to get DNA sequence data. Before starting celloracle analysis, we need to make sure that the reference genome is correctly installed in your computational environment. If not, please install reference genome."
   ]
  },
  {
   "cell_type": "code",
   "execution_count": 4,
   "metadata": {},
   "outputs": [
    {
     "name": "stdout",
     "output_type": "stream",
     "text": [
      "mm10 installation:  True\n"
     ]
    }
   ],
   "source": [
    "# PLEASE make sure that you are setting correct ref genome.\n",
    "ref_genome = \"mm10\"\n",
    "\n",
    "genome_installation = ma.is_genome_installed(ref_genome=ref_genome)\n",
    "print(ref_genome, \"installation: \", genome_installation)"
   ]
  },
  {
   "cell_type": "markdown",
   "metadata": {},
   "source": [
    "## 1.2. Install reference genome (if refgenome is not installed)"
   ]
  },
  {
   "cell_type": "code",
   "execution_count": 5,
   "metadata": {},
   "outputs": [
    {
     "name": "stdout",
     "output_type": "stream",
     "text": [
      "mm10 is installed.\n"
     ]
    }
   ],
   "source": [
    "if not genome_installation:\n",
    "    import genomepy\n",
    "    genomepy.install_genome(ref_genome, \"UCSC\")\n",
    "else:\n",
    "    print(ref_genome, \"is installed.\")"
   ]
  },
  {
   "cell_type": "markdown",
   "metadata": {},
   "source": [
    "# 2. Load data\n",
    "\n",
    "## 2.1. Load processed peak data "
   ]
  },
  {
   "cell_type": "code",
   "execution_count": 6,
   "metadata": {
    "scrolled": true
   },
   "outputs": [
    {
     "data": {
      "text/html": [
       "<div>\n",
       "<style scoped>\n",
       "    .dataframe tbody tr th:only-of-type {\n",
       "        vertical-align: middle;\n",
       "    }\n",
       "\n",
       "    .dataframe tbody tr th {\n",
       "        vertical-align: top;\n",
       "    }\n",
       "\n",
       "    .dataframe thead th {\n",
       "        text-align: right;\n",
       "    }\n",
       "</style>\n",
       "<table border=\"1\" class=\"dataframe\">\n",
       "  <thead>\n",
       "    <tr style=\"text-align: right;\">\n",
       "      <th></th>\n",
       "      <th>peak_id</th>\n",
       "      <th>gene_short_name</th>\n",
       "    </tr>\n",
       "  </thead>\n",
       "  <tbody>\n",
       "    <tr>\n",
       "      <th>0</th>\n",
       "      <td>chr10_100015291_100017830</td>\n",
       "      <td>Kitl</td>\n",
       "    </tr>\n",
       "    <tr>\n",
       "      <th>1</th>\n",
       "      <td>chr10_100486534_100488209</td>\n",
       "      <td>Tmtc3</td>\n",
       "    </tr>\n",
       "    <tr>\n",
       "      <th>2</th>\n",
       "      <td>chr10_100588641_100589556</td>\n",
       "      <td>4930430F08Rik</td>\n",
       "    </tr>\n",
       "    <tr>\n",
       "      <th>3</th>\n",
       "      <td>chr10_100741247_100742505</td>\n",
       "      <td>Gm35722</td>\n",
       "    </tr>\n",
       "    <tr>\n",
       "      <th>4</th>\n",
       "      <td>chr10_101681379_101682124</td>\n",
       "      <td>Mgat4c</td>\n",
       "    </tr>\n",
       "  </tbody>\n",
       "</table>\n",
       "</div>"
      ],
      "text/plain": [
       "                     peak_id gene_short_name\n",
       "0  chr10_100015291_100017830            Kitl\n",
       "1  chr10_100486534_100488209           Tmtc3\n",
       "2  chr10_100588641_100589556   4930430F08Rik\n",
       "3  chr10_100741247_100742505         Gm35722\n",
       "4  chr10_101681379_101682124          Mgat4c"
      ]
     },
     "execution_count": 6,
     "metadata": {},
     "output_type": "execute_result"
    }
   ],
   "source": [
    "# Load annotated peak data.\n",
    "peaks = pd.read_parquet(\"../01_ATAC-seq_data_processing/option1_scATAC-seq_data_analysis_with_cicero/peak_file.parquet\")\n",
    "peaks.head()"
   ]
  },
  {
   "cell_type": "markdown",
   "metadata": {},
   "source": [
    "## 2.1. Check data"
   ]
  },
  {
   "cell_type": "code",
   "execution_count": 7,
   "metadata": {},
   "outputs": [],
   "source": [
    "# Define function for quality check\n",
    "def decompose_chrstr(peak_str):\n",
    "    \"\"\"\n",
    "    Args:\n",
    "        peak_str (str): peak_str. e.g. 'chr1_3094484_3095479'\n",
    "        \n",
    "    Returns:\n",
    "        tuple: chromosome name, start position, end position\n",
    "    \"\"\"\n",
    "    \n",
    "    *chr_, start, end = peak_str.split(\"_\")\n",
    "    chr_ = \"_\".join(chr_)\n",
    "    return chr_, start, end\n",
    "\n",
    "from genomepy import Genome\n",
    "\n",
    "def check_peak_foamat(peaks_df, ref_genome):\n",
    "    \"\"\"\n",
    "    Check peak fomat. \n",
    "     (1) Check chromosome name. \n",
    "     (2) Check peak size (length) and remove sort DNAs (<5bp)\n",
    "    \n",
    "    \"\"\"\n",
    "    \n",
    "    df = peaks_df.copy()\n",
    "    \n",
    "    n_peaks_before = df.shape[0]\n",
    "    \n",
    "    # Decompose peaks and make df\n",
    "    decomposed = [decompose_chrstr(peak_str) for peak_str in df[\"peak_id\"]]\n",
    "    df_decomposed = pd.DataFrame(np.array(decomposed))\n",
    "    df_decomposed.columns = [\"chr\", \"start\", \"end\"]\n",
    "    df_decomposed[\"start\"] = df_decomposed[\"start\"].astype(np.int)\n",
    "    df_decomposed[\"end\"] = df_decomposed[\"end\"].astype(np.int)\n",
    "    \n",
    "    # Load genome data\n",
    "    genome_data = Genome(ref_genome)\n",
    "    all_chr_list = list(genome_data.keys())\n",
    "    \n",
    "    \n",
    "    # DNA length check\n",
    "    lengths = np.abs(df_decomposed[\"end\"] - df_decomposed[\"start\"])\n",
    "    \n",
    "    \n",
    "    # Filter peaks with invalid chromosome name\n",
    "    n_threshold = 5\n",
    "    df = df[(lengths >= n_threshold) & df_decomposed.chr.isin(all_chr_list)]\n",
    "    \n",
    "    # DNA length check\n",
    "    lengths = np.abs(df_decomposed[\"end\"] - df_decomposed[\"start\"])\n",
    "    \n",
    "    # Data counting\n",
    "    n_invalid_length = len(lengths[lengths < n_threshold])\n",
    "    n_peaks_invalid_chr = n_peaks_before - df_decomposed.chr.isin(all_chr_list).sum()\n",
    "    n_peaks_after = df.shape[0]\n",
    "    \n",
    "    #\n",
    "    print(\"Peaks before filtering: \", n_peaks_before)\n",
    "    print(\"Peaks with invalid chr_name: \", n_peaks_invalid_chr)\n",
    "    print(\"Peaks with invalid length: \", n_invalid_length)\n",
    "    print(\"Peaks after filtering: \", n_peaks_after)\n",
    "    \n",
    "    return df"
   ]
  },
  {
   "cell_type": "code",
   "execution_count": 8,
   "metadata": {},
   "outputs": [
    {
     "name": "stdout",
     "output_type": "stream",
     "text": [
      "Peaks before filtering:  15680\n",
      "Peaks with invalid chr_name:  0\n",
      "Peaks with invalid length:  0\n",
      "Peaks after filtering:  15680\n"
     ]
    }
   ],
   "source": [
    "peaks = check_peak_foamat(peaks, ref_genome)"
   ]
  },
  {
   "cell_type": "markdown",
   "metadata": {},
   "source": [
    "## 2.2. [Optional step] Load motifs\n",
    "You can select TF binding motif data for Celloracle motif analysis.\n",
    "If you have no preference and just want to use a default motif, you can skip this step.\n",
    "If you want to use a non-default motif dataset, please prepare motif data as a list of motif class in gimmemotifs.\n",
    "We have several option for loading motif database as below.\n",
    "    \n",
    "### 2.2.1. [Optional step] Load motif data from gimmemotifs dataset\n",
    "\n",
    "Many motif databases are included with GimmeMotifs. https://gimmemotifs.readthedocs.io/en/master/overview.html\n",
    "You can load them as follows."
   ]
  },
  {
   "cell_type": "code",
   "execution_count": 9,
   "metadata": {},
   "outputs": [
    {
     "data": {
      "text/plain": [
       "['CIS-BP.pfm',\n",
       " 'ENCODE.pfm',\n",
       " 'HOCOMOCOv10_HUMAN.pfm',\n",
       " 'HOCOMOCOv10_MOUSE.pfm',\n",
       " 'HOCOMOCOv11_HUMAN.pfm',\n",
       " 'HOCOMOCOv11_MOUSE.pfm',\n",
       " 'HOMER.pfm',\n",
       " 'IMAGE.pfm',\n",
       " 'JASPAR2018.pfm',\n",
       " 'JASPAR2018_fungi.pfm',\n",
       " 'JASPAR2018_insects.pfm',\n",
       " 'JASPAR2018_nematodes.pfm',\n",
       " 'JASPAR2018_plants.pfm',\n",
       " 'JASPAR2018_urochordates.pfm',\n",
       " 'JASPAR2018_vertebrates.pfm',\n",
       " 'JASPAR2020.pfm',\n",
       " 'JASPAR2020_fungi.pfm',\n",
       " 'JASPAR2020_insects.pfm',\n",
       " 'JASPAR2020_nematodes.pfm',\n",
       " 'JASPAR2020_plants.pfm',\n",
       " 'JASPAR2020_urochordates.pfm',\n",
       " 'JASPAR2020_vertebrates.pfm',\n",
       " 'RSAT_insects.pfm',\n",
       " 'RSAT_plants.pfm',\n",
       " 'RSAT_vertebrates.pfm',\n",
       " 'SwissRegulon.pfm',\n",
       " 'factorbook.pfm',\n",
       " 'gimme.vertebrate.v5.0.pfm']"
      ]
     },
     "execution_count": 9,
     "metadata": {},
     "output_type": "execute_result"
    }
   ],
   "source": [
    "# First, we need to pick up motifs for your dataset. We can get a list.\n",
    "\n",
    "# Get folder path that stores motif data.\n",
    "import os, glob\n",
    "from gimmemotifs.motif import MotifConfig\n",
    "config = MotifConfig()\n",
    "motif_dir = config.get_motif_dir()\n",
    "\n",
    "# Get list for motif data name\n",
    "motifs_data_name = [i for i in os.listdir(motif_dir) if i.endswith(\".pfm\")]\n",
    "motifs_data_name.sort()\n",
    "motifs_data_name"
   ]
  },
  {
   "cell_type": "code",
   "execution_count": 10,
   "metadata": {},
   "outputs": [
    {
     "data": {
      "text/plain": [
       "[MA0020.1_Dof2_AAAGCn,\n",
       " MA0021.1_Dof3_AAAGyn,\n",
       " MA0034.1_Gam1_nnyAACCGmC,\n",
       " MA0044.1_HMG-1_sTTGTnyTy,\n",
       " MA0045.1_HMG-I/Y_nwAnAAAnrnmrAmAy,\n",
       " MA0053.1_MNB1A_AAAGC,\n",
       " MA0054.1_myb.Ph3_TAACnGTTw,\n",
       " MA0064.1_PBF_AAAGy,\n",
       " MA0082.1_squamosa_mCAwAwATrGwAAn,\n",
       " MA0096.1_bZIP910_mTGACGT]"
      ]
     },
     "execution_count": 10,
     "metadata": {},
     "output_type": "execute_result"
    }
   ],
   "source": [
    "# Once you picked up motifs, you can load the motif files with \"read_motifs\"\n",
    "from gimmemotifs.motif import read_motifs\n",
    "\n",
    "path = os.path.join(motif_dir, \"JASPAR2018_plants.pfm\")# Please enter motifs name here \n",
    "motifs = read_motifs(path)\n",
    "\n",
    "# Check first 10 motifs\n",
    "motifs[:10]"
   ]
  },
  {
   "cell_type": "markdown",
   "metadata": {},
   "source": [
    "### 2.2.2 [Optional step] Load motif data from celloracle motif dataset\n",
    "\n",
    "Celloracle also provides many motif dataset that was generated from CisBP. http://cisbp.ccbr.utoronto.ca/\n",
    "\n",
    "These motifs were organized by each species. Please select motifs for your species.\n",
    "\n",
    "If you have a request for motifs for a new species, you can ask us to add new motifs through github issue page."
   ]
  },
  {
   "cell_type": "code",
   "execution_count": 11,
   "metadata": {},
   "outputs": [
    {
     "data": {
      "text/plain": [
       "['CisBP_ver2_Arabidopsis_thaliana.pfm',\n",
       " 'CisBP_ver2_Caenorhabditis_elegans.pfm',\n",
       " 'CisBP_ver2_Danio_rerio.pfm',\n",
       " 'CisBP_ver2_Drosophila_ananassae.pfm',\n",
       " 'CisBP_ver2_Drosophila_erecta.pfm',\n",
       " 'CisBP_ver2_Drosophila_grimshawi.pfm',\n",
       " 'CisBP_ver2_Drosophila_melanogaster.pfm',\n",
       " 'CisBP_ver2_Drosophila_mix.pfm',\n",
       " 'CisBP_ver2_Drosophila_mojavensis.pfm',\n",
       " 'CisBP_ver2_Drosophila_persimilis.pfm',\n",
       " 'CisBP_ver2_Drosophila_pseudoobscura.pfm',\n",
       " 'CisBP_ver2_Drosophila_sechellia.pfm',\n",
       " 'CisBP_ver2_Drosophila_simulans.pfm',\n",
       " 'CisBP_ver2_Drosophila_virilis.pfm',\n",
       " 'CisBP_ver2_Drosophila_willistoni.pfm',\n",
       " 'CisBP_ver2_Drosophila_yakuba.pfm',\n",
       " 'CisBP_ver2_Homo_sapiens.pfm',\n",
       " 'CisBP_ver2_Mus_musculus.pfm',\n",
       " 'CisBP_ver2_Rattus_norvegicus.pfm',\n",
       " 'CisBP_ver2_Saccharomyces_cerevisiae.pfm',\n",
       " 'CisBP_ver2_Xenopus_laevis.pfm',\n",
       " 'CisBP_ver2_Xenopus_tropicalis.pfm',\n",
       " 'CisBP_ver2_Xenopus_tropicalis_and_Xenopus_laevis.pfm']"
      ]
     },
     "execution_count": 11,
     "metadata": {},
     "output_type": "execute_result"
    }
   ],
   "source": [
    "# Check available motifs\n",
    "ma.MOTIFS_LIST"
   ]
  },
  {
   "cell_type": "code",
   "execution_count": 12,
   "metadata": {},
   "outputs": [
    {
     "data": {
      "text/plain": [
       "[M00008_2.00_nnnAAww,\n",
       " M00044_2.00_nrTAAACAn,\n",
       " M00056_2.00_TAATAAAT,\n",
       " M00060_2.00_nnnTTCnnn,\n",
       " M00111_2.00_nGCCynnGGs,\n",
       " M00112_2.00_CCTsrGGCnA,\n",
       " M00113_2.00_nsCCnnAGGs,\n",
       " M00114_2.00_nnGCCynnGG,\n",
       " M00115_2.00_nnATnAAAn,\n",
       " M00116_2.00_nnAATATTAnn]"
      ]
     },
     "execution_count": 12,
     "metadata": {},
     "output_type": "execute_result"
    }
   ],
   "source": [
    "# Load motifs from celloracle dataset.\n",
    "motifs = ma.load_motifs(\"CisBP_ver2_Mus_musculus.pfm\")\n",
    "\n",
    "# Check first 10 motifs\n",
    "motifs[:10]"
   ]
  },
  {
   "cell_type": "markdown",
   "metadata": {},
   "source": [
    "# 3. Instantiate TFinfo object and search for TF binding motifs\n",
    "The motif analysis module has a custom class; TFinfo. The TFinfo object converts a peak data into a DNA sequences and scans the DNA sequences searching for TF binding motifs. Then, the results of motif scan will be filtered and converted into either a python dictionary or a depending on your preference. This TF information is necessary for GRN inference."
   ]
  },
  {
   "cell_type": "markdown",
   "metadata": {},
   "source": [
    "## 3.1. Instantiate TFinfo object"
   ]
  },
  {
   "cell_type": "code",
   "execution_count": 16,
   "metadata": {},
   "outputs": [],
   "source": [
    "# Instantiate TFinfo object\n",
    "tfi = ma.TFinfo(peak_data_frame=peaks, # peak info calculated from ATAC-seq data\n",
    "                       ref_genome=ref_genome) "
   ]
  },
  {
   "cell_type": "markdown",
   "metadata": {},
   "source": [
    "## 3.2. Motif scan\n",
    "\n",
    "\n",
    "!!You can set TF binding motif information as an argument: \n",
    "\n",
    "tfi.scan(motifs=motifs)\n",
    "\n",
    "If you don't set motifs or set None, default motifs will be loaded automatically.\n",
    "\n",
    "- For mouse and human, \"gimme.vertebrate.v5.0.\" will be used as a default motifs. \n",
    "- For another species, a species specific TF binding motif data extracted from CisBP ver2.0 will be used.\n",
    "\n"
   ]
  },
  {
   "cell_type": "code",
   "execution_count": null,
   "metadata": {
    "scrolled": false
   },
   "outputs": [],
   "source": [
    "%%time\n",
    "# Scan motifs. !!CAUTION!! This step may take several hours if you have many peaks!\n",
    "tfi.scan(fpr=0.02, \n",
    "            motifs=None,  # If you enter None, default motifs will be loaded.\n",
    "            verbose=True)\n",
    "\n",
    "# Save tfinfo object\n",
    "tfi.to_hdf5(file_path=\"test1.celloracle.tfinfo\")"
   ]
  },
  {
   "cell_type": "code",
   "execution_count": 16,
   "metadata": {},
   "outputs": [
    {
     "data": {
      "text/html": [
       "<div>\n",
       "<style scoped>\n",
       "    .dataframe tbody tr th:only-of-type {\n",
       "        vertical-align: middle;\n",
       "    }\n",
       "\n",
       "    .dataframe tbody tr th {\n",
       "        vertical-align: top;\n",
       "    }\n",
       "\n",
       "    .dataframe thead th {\n",
       "        text-align: right;\n",
       "    }\n",
       "</style>\n",
       "<table border=\"1\" class=\"dataframe\">\n",
       "  <thead>\n",
       "    <tr style=\"text-align: right;\">\n",
       "      <th></th>\n",
       "      <th>seqname</th>\n",
       "      <th>motif_id</th>\n",
       "      <th>factors_direct</th>\n",
       "      <th>factors_indirect</th>\n",
       "      <th>score</th>\n",
       "      <th>pos</th>\n",
       "      <th>strand</th>\n",
       "    </tr>\n",
       "  </thead>\n",
       "  <tbody>\n",
       "    <tr>\n",
       "      <td>0</td>\n",
       "      <td>chr10_100015291_100017830</td>\n",
       "      <td>GM.5.0.Homeodomain.0001</td>\n",
       "      <td>TGIF1</td>\n",
       "      <td>ENSG00000234254, TGIF1</td>\n",
       "      <td>10.311002</td>\n",
       "      <td>1003</td>\n",
       "      <td>1</td>\n",
       "    </tr>\n",
       "    <tr>\n",
       "      <td>1</td>\n",
       "      <td>chr10_100015291_100017830</td>\n",
       "      <td>GM.5.0.Mixed.0001</td>\n",
       "      <td></td>\n",
       "      <td>SRF, EGR1</td>\n",
       "      <td>7.925873</td>\n",
       "      <td>481</td>\n",
       "      <td>1</td>\n",
       "    </tr>\n",
       "    <tr>\n",
       "      <td>2</td>\n",
       "      <td>chr10_100015291_100017830</td>\n",
       "      <td>GM.5.0.Mixed.0001</td>\n",
       "      <td></td>\n",
       "      <td>SRF, EGR1</td>\n",
       "      <td>7.321375</td>\n",
       "      <td>911</td>\n",
       "      <td>-1</td>\n",
       "    </tr>\n",
       "    <tr>\n",
       "      <td>3</td>\n",
       "      <td>chr10_100015291_100017830</td>\n",
       "      <td>GM.5.0.Mixed.0001</td>\n",
       "      <td></td>\n",
       "      <td>SRF, EGR1</td>\n",
       "      <td>7.276585</td>\n",
       "      <td>811</td>\n",
       "      <td>-1</td>\n",
       "    </tr>\n",
       "    <tr>\n",
       "      <td>4</td>\n",
       "      <td>chr10_100015291_100017830</td>\n",
       "      <td>GM.5.0.Nuclear_receptor.0002</td>\n",
       "      <td>NR2C2</td>\n",
       "      <td>NR2C2, Nr2c2</td>\n",
       "      <td>9.067331</td>\n",
       "      <td>449</td>\n",
       "      <td>-1</td>\n",
       "    </tr>\n",
       "  </tbody>\n",
       "</table>\n",
       "</div>"
      ],
      "text/plain": [
       "                     seqname                      motif_id factors_direct  \\\n",
       "0  chr10_100015291_100017830       GM.5.0.Homeodomain.0001          TGIF1   \n",
       "1  chr10_100015291_100017830             GM.5.0.Mixed.0001                  \n",
       "2  chr10_100015291_100017830             GM.5.0.Mixed.0001                  \n",
       "3  chr10_100015291_100017830             GM.5.0.Mixed.0001                  \n",
       "4  chr10_100015291_100017830  GM.5.0.Nuclear_receptor.0002          NR2C2   \n",
       "\n",
       "         factors_indirect      score   pos  strand  \n",
       "0  ENSG00000234254, TGIF1  10.311002  1003       1  \n",
       "1               SRF, EGR1   7.925873   481       1  \n",
       "2               SRF, EGR1   7.321375   911      -1  \n",
       "3               SRF, EGR1   7.276585   811      -1  \n",
       "4            NR2C2, Nr2c2   9.067331   449      -1  "
      ]
     },
     "execution_count": 16,
     "metadata": {},
     "output_type": "execute_result"
    }
   ],
   "source": [
    "# Check motif scan results\n",
    "tfi.scanned_df.head()"
   ]
  },
  {
   "cell_type": "markdown",
   "metadata": {},
   "source": [
    "We have the score for each sequence and motif_id pair.\n",
    "In the next step we will filter the motifs with low score."
   ]
  },
  {
   "cell_type": "markdown",
   "metadata": {},
   "source": [
    "# 4. Filtering motifs"
   ]
  },
  {
   "cell_type": "code",
   "execution_count": 15,
   "metadata": {},
   "outputs": [
    {
     "name": "stdout",
     "output_type": "stream",
     "text": [
      "peaks were filtered: 12952283 -> 2288874\n",
      "1. converting scanned results into one-hot encoded dataframe.\n"
     ]
    },
    {
     "data": {
      "application/vnd.jupyter.widget-view+json": {
       "model_id": "d4f5cfb59ff04daabcd23a5bf12e557c",
       "version_major": 2,
       "version_minor": 0
      },
      "text/plain": [
       "HBox(children=(FloatProgress(value=0.0, max=14142.0), HTML(value='')))"
      ]
     },
     "metadata": {},
     "output_type": "display_data"
    },
    {
     "name": "stdout",
     "output_type": "stream",
     "text": [
      "\n",
      "2. converting results into dictionaries.\n",
      "converting scan results into dictionaries...\n"
     ]
    },
    {
     "data": {
      "application/vnd.jupyter.widget-view+json": {
       "model_id": "81d283cff9864e8da048554a7d8afdfd",
       "version_major": 2,
       "version_minor": 0
      },
      "text/plain": [
       "HBox(children=(FloatProgress(value=0.0, max=15006.0), HTML(value='')))"
      ]
     },
     "metadata": {},
     "output_type": "display_data"
    },
    {
     "name": "stdout",
     "output_type": "stream",
     "text": [
      "\n"
     ]
    },
    {
     "data": {
      "application/vnd.jupyter.widget-view+json": {
       "model_id": "b496e9f51545423c9f72100f22ba2ab7",
       "version_major": 2,
       "version_minor": 0
      },
      "text/plain": [
       "HBox(children=(FloatProgress(value=0.0, max=1090.0), HTML(value='')))"
      ]
     },
     "metadata": {},
     "output_type": "display_data"
    },
    {
     "name": "stdout",
     "output_type": "stream",
     "text": [
      "\n"
     ]
    }
   ],
   "source": [
    "# Reset filtering \n",
    "tfi.reset_filtering()\n",
    "\n",
    "# Do filtering\n",
    "tfi.filter_motifs_by_score(threshold=10.5)\n",
    "\n",
    "# Do post filtering process. Convert results into several file format.\n",
    "tfi.make_TFinfo_dataframe_and_dictionary(verbose=True)\n",
    "\n"
   ]
  },
  {
   "cell_type": "markdown",
   "metadata": {},
   "source": [
    "# 5. Get Final results"
   ]
  },
  {
   "cell_type": "markdown",
   "metadata": {},
   "source": [
    "## 5.1. Get resutls as a dictionary"
   ]
  },
  {
   "cell_type": "code",
   "execution_count": 23,
   "metadata": {
    "scrolled": false
   },
   "outputs": [],
   "source": [
    "td = tfi.to_dictionary(dictionary_type=\"targetgene2TFs\")\n"
   ]
  },
  {
   "cell_type": "markdown",
   "metadata": {},
   "source": [
    "## 5.2. Get results as a dataframe"
   ]
  },
  {
   "cell_type": "code",
   "execution_count": 17,
   "metadata": {},
   "outputs": [
    {
     "data": {
      "text/html": [
       "<div>\n",
       "<style scoped>\n",
       "    .dataframe tbody tr th:only-of-type {\n",
       "        vertical-align: middle;\n",
       "    }\n",
       "\n",
       "    .dataframe tbody tr th {\n",
       "        vertical-align: top;\n",
       "    }\n",
       "\n",
       "    .dataframe thead th {\n",
       "        text-align: right;\n",
       "    }\n",
       "</style>\n",
       "<table border=\"1\" class=\"dataframe\">\n",
       "  <thead>\n",
       "    <tr style=\"text-align: right;\">\n",
       "      <th></th>\n",
       "      <th>peak_id</th>\n",
       "      <th>gene_short_name</th>\n",
       "      <th>9430076c15rik</th>\n",
       "      <th>Ac002126.6</th>\n",
       "      <th>Ac012531.1</th>\n",
       "      <th>Ac226150.2</th>\n",
       "      <th>Afp</th>\n",
       "      <th>Ahr</th>\n",
       "      <th>Ahrr</th>\n",
       "      <th>Aire</th>\n",
       "      <th>...</th>\n",
       "      <th>Znf784</th>\n",
       "      <th>Znf8</th>\n",
       "      <th>Znf816</th>\n",
       "      <th>Znf85</th>\n",
       "      <th>Zscan10</th>\n",
       "      <th>Zscan16</th>\n",
       "      <th>Zscan22</th>\n",
       "      <th>Zscan26</th>\n",
       "      <th>Zscan31</th>\n",
       "      <th>Zscan4</th>\n",
       "    </tr>\n",
       "  </thead>\n",
       "  <tbody>\n",
       "    <tr>\n",
       "      <th>0</th>\n",
       "      <td>chr10_100015291_100017830</td>\n",
       "      <td>Kitl</td>\n",
       "      <td>0.0</td>\n",
       "      <td>0.0</td>\n",
       "      <td>0.0</td>\n",
       "      <td>0.0</td>\n",
       "      <td>0.0</td>\n",
       "      <td>1.0</td>\n",
       "      <td>1.0</td>\n",
       "      <td>0.0</td>\n",
       "      <td>...</td>\n",
       "      <td>0.0</td>\n",
       "      <td>0.0</td>\n",
       "      <td>0.0</td>\n",
       "      <td>0.0</td>\n",
       "      <td>0.0</td>\n",
       "      <td>0.0</td>\n",
       "      <td>0.0</td>\n",
       "      <td>0.0</td>\n",
       "      <td>1.0</td>\n",
       "      <td>0.0</td>\n",
       "    </tr>\n",
       "    <tr>\n",
       "      <th>1</th>\n",
       "      <td>chr10_100486534_100488209</td>\n",
       "      <td>Tmtc3</td>\n",
       "      <td>0.0</td>\n",
       "      <td>0.0</td>\n",
       "      <td>0.0</td>\n",
       "      <td>0.0</td>\n",
       "      <td>0.0</td>\n",
       "      <td>0.0</td>\n",
       "      <td>0.0</td>\n",
       "      <td>0.0</td>\n",
       "      <td>...</td>\n",
       "      <td>1.0</td>\n",
       "      <td>0.0</td>\n",
       "      <td>0.0</td>\n",
       "      <td>0.0</td>\n",
       "      <td>0.0</td>\n",
       "      <td>0.0</td>\n",
       "      <td>1.0</td>\n",
       "      <td>0.0</td>\n",
       "      <td>0.0</td>\n",
       "      <td>0.0</td>\n",
       "    </tr>\n",
       "    <tr>\n",
       "      <th>2</th>\n",
       "      <td>chr10_100588641_100589556</td>\n",
       "      <td>4930430F08Rik</td>\n",
       "      <td>0.0</td>\n",
       "      <td>0.0</td>\n",
       "      <td>1.0</td>\n",
       "      <td>0.0</td>\n",
       "      <td>0.0</td>\n",
       "      <td>1.0</td>\n",
       "      <td>1.0</td>\n",
       "      <td>0.0</td>\n",
       "      <td>...</td>\n",
       "      <td>0.0</td>\n",
       "      <td>0.0</td>\n",
       "      <td>0.0</td>\n",
       "      <td>0.0</td>\n",
       "      <td>0.0</td>\n",
       "      <td>0.0</td>\n",
       "      <td>0.0</td>\n",
       "      <td>0.0</td>\n",
       "      <td>0.0</td>\n",
       "      <td>0.0</td>\n",
       "    </tr>\n",
       "    <tr>\n",
       "      <th>3</th>\n",
       "      <td>chr10_100741247_100742505</td>\n",
       "      <td>Gm35722</td>\n",
       "      <td>0.0</td>\n",
       "      <td>0.0</td>\n",
       "      <td>0.0</td>\n",
       "      <td>0.0</td>\n",
       "      <td>0.0</td>\n",
       "      <td>0.0</td>\n",
       "      <td>0.0</td>\n",
       "      <td>0.0</td>\n",
       "      <td>...</td>\n",
       "      <td>0.0</td>\n",
       "      <td>0.0</td>\n",
       "      <td>0.0</td>\n",
       "      <td>0.0</td>\n",
       "      <td>0.0</td>\n",
       "      <td>0.0</td>\n",
       "      <td>0.0</td>\n",
       "      <td>0.0</td>\n",
       "      <td>0.0</td>\n",
       "      <td>0.0</td>\n",
       "    </tr>\n",
       "    <tr>\n",
       "      <th>4</th>\n",
       "      <td>chr10_101681379_101682124</td>\n",
       "      <td>Mgat4c</td>\n",
       "      <td>0.0</td>\n",
       "      <td>0.0</td>\n",
       "      <td>0.0</td>\n",
       "      <td>0.0</td>\n",
       "      <td>0.0</td>\n",
       "      <td>0.0</td>\n",
       "      <td>0.0</td>\n",
       "      <td>0.0</td>\n",
       "      <td>...</td>\n",
       "      <td>0.0</td>\n",
       "      <td>0.0</td>\n",
       "      <td>0.0</td>\n",
       "      <td>0.0</td>\n",
       "      <td>0.0</td>\n",
       "      <td>0.0</td>\n",
       "      <td>0.0</td>\n",
       "      <td>0.0</td>\n",
       "      <td>0.0</td>\n",
       "      <td>1.0</td>\n",
       "    </tr>\n",
       "  </tbody>\n",
       "</table>\n",
       "<p>5 rows × 1092 columns</p>\n",
       "</div>"
      ],
      "text/plain": [
       "                     peak_id gene_short_name  9430076c15rik  Ac002126.6  \\\n",
       "0  chr10_100015291_100017830            Kitl            0.0         0.0   \n",
       "1  chr10_100486534_100488209           Tmtc3            0.0         0.0   \n",
       "2  chr10_100588641_100589556   4930430F08Rik            0.0         0.0   \n",
       "3  chr10_100741247_100742505         Gm35722            0.0         0.0   \n",
       "4  chr10_101681379_101682124          Mgat4c            0.0         0.0   \n",
       "\n",
       "   Ac012531.1  Ac226150.2  Afp  Ahr  Ahrr  Aire  ...  Znf784  Znf8  Znf816  \\\n",
       "0         0.0         0.0  0.0  1.0   1.0   0.0  ...     0.0   0.0     0.0   \n",
       "1         0.0         0.0  0.0  0.0   0.0   0.0  ...     1.0   0.0     0.0   \n",
       "2         1.0         0.0  0.0  1.0   1.0   0.0  ...     0.0   0.0     0.0   \n",
       "3         0.0         0.0  0.0  0.0   0.0   0.0  ...     0.0   0.0     0.0   \n",
       "4         0.0         0.0  0.0  0.0   0.0   0.0  ...     0.0   0.0     0.0   \n",
       "\n",
       "   Znf85  Zscan10  Zscan16  Zscan22  Zscan26  Zscan31  Zscan4  \n",
       "0    0.0      0.0      0.0      0.0      0.0      1.0     0.0  \n",
       "1    0.0      0.0      0.0      1.0      0.0      0.0     0.0  \n",
       "2    0.0      0.0      0.0      0.0      0.0      0.0     0.0  \n",
       "3    0.0      0.0      0.0      0.0      0.0      0.0     0.0  \n",
       "4    0.0      0.0      0.0      0.0      0.0      0.0     1.0  \n",
       "\n",
       "[5 rows x 1092 columns]"
      ]
     },
     "execution_count": 17,
     "metadata": {},
     "output_type": "execute_result"
    }
   ],
   "source": [
    "df = tfi.to_dataframe()\n",
    "df.head()"
   ]
  },
  {
   "cell_type": "markdown",
   "metadata": {},
   "source": [
    "# 6. Save TFinfo as dictionary or dataframe\n",
    "We'll use this information when making the GRNs. Save the results."
   ]
  },
  {
   "cell_type": "code",
   "execution_count": 19,
   "metadata": {},
   "outputs": [],
   "source": [
    "folder = \"TFinfo_outputs\"\n",
    "os.makedirs(folder, exist_ok=True)\n",
    "\n",
    "# save TFinfo as a dictionary\n",
    "td = tfi.to_dictionary(dictionary_type=\"targetgene2TFs\")\n",
    "save_as_pickled_object(td, os.path.join(folder, \"TFinfo_targetgene2TFs.pickled\"))\n",
    "\n",
    "# save TFinfo as a dataframe\n",
    "df = tfi.to_dataframe()\n",
    "df.to_parquet(os.path.join(folder, \"TFinfo_dataframe.parquet\"))"
   ]
  }
 ],
 "metadata": {
  "kernelspec": {
   "display_name": "Python 3",
   "language": "python",
   "name": "python3"
  },
  "language_info": {
   "codemirror_mode": {
    "name": "ipython",
    "version": 3
   },
   "file_extension": ".py",
   "mimetype": "text/x-python",
   "name": "python",
   "nbconvert_exporter": "python",
   "pygments_lexer": "ipython3",
   "version": "3.6.10"
  },
  "varInspector": {
   "cols": {
    "lenName": 16,
    "lenType": 16,
    "lenVar": 40
   },
   "kernels_config": {
    "python": {
     "delete_cmd_postfix": "",
     "delete_cmd_prefix": "del ",
     "library": "var_list.py",
     "varRefreshCmd": "print(var_dic_list())"
    },
    "r": {
     "delete_cmd_postfix": ") ",
     "delete_cmd_prefix": "rm(",
     "library": "var_list.r",
     "varRefreshCmd": "cat(var_dic_list()) "
    }
   },
   "types_to_exclude": [
    "module",
    "function",
    "builtin_function_or_method",
    "instance",
    "_Feature"
   ],
   "window_display": false
  }
 },
 "nbformat": 4,
 "nbformat_minor": 2
}
