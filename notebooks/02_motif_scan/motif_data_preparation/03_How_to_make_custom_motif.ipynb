{
 "cells": [
  {
   "cell_type": "markdown",
   "metadata": {},
   "source": [
    "# 1. Prepare input data\n",
    "\n",
    "If you want to use another motif data source, you need to make a list of `motif` class in gimmemotifs.\n",
    "The easiest way to make such object is to use `read_motifs` function provided by gimmemotifs package.\n",
    "\n",
    "This function can load motif data text file. \n",
    "You need to prepare two files, XXX.motif2factors.txt and XXX.pfm.\n",
    "\n"
   ]
  },
  {
   "cell_type": "markdown",
   "metadata": {},
   "source": [
    "## 3.1 XXX.motif2factors.txt\n",
    "The text file, XXX.motif2factors.txt includes TF factor annotation for each motifs.\n",
    "The file should be like a tsv file like below. \n",
    "\n",
    "- The first column should be motif name, the motif name should match with motif name in pfm file.\n",
    "- The second column is gene symbol, the thrid column is datasource. This column is not important.\n",
    "- The third column is data sorce name. Don't include space in the data source name.\n",
    "- The forth column is additional information for this factor. Please enter \"Y\" if the factor information was confirmed by some experimental evidence. Otherwise, please enter \"N\"."
   ]
  },
  {
   "cell_type": "code",
   "execution_count": 1,
   "metadata": {},
   "outputs": [
    {
     "name": "stdout",
     "output_type": "stream",
     "text": [
      "--2021-07-16 14:22:51--  https://raw.githubusercontent.com/morris-lab/CellOracle/master/docs/demo_data/CisBP_ver2_Danio_rerio.motif2factors.txt\n",
      "Resolving raw.githubusercontent.com (raw.githubusercontent.com)... 185.199.111.133, 185.199.108.133, 185.199.109.133, ...\n",
      "Connecting to raw.githubusercontent.com (raw.githubusercontent.com)|185.199.111.133|:443... connected.\n",
      "HTTP request sent, awaiting response... 200 OK\n",
      "Length: 2813285 (2.7M) [text/plain]\n",
      "Saving to: ‘CisBP_ver2_Danio_rerio.motif2factors.txt’\n",
      "\n",
      "CisBP_ver2_Danio_re 100%[===================>]   2.68M  --.-KB/s    in 0.04s   \n",
      "\n",
      "2021-07-16 14:22:52 (72.3 MB/s) - ‘CisBP_ver2_Danio_rerio.motif2factors.txt’ saved [2813285/2813285]\n",
      "\n"
     ]
    }
   ],
   "source": [
    "# Download example XXX.motif2factors.txt data\n",
    "!wget https://raw.githubusercontent.com/morris-lab/CellOracle/master/docs/demo_data/CisBP_ver2_Danio_rerio.motif2factors.txt\n",
    "\n",
    "# If you are using macOS, please try the following command.\n",
    "#!curl -O https://raw.githubusercontent.com/morris-lab/CellOracle/master/docs/demo_data/CisBP_ver2_Danio_rerio.motif2factors.txt"
   ]
  },
  {
   "cell_type": "code",
   "execution_count": 2,
   "metadata": {
    "scrolled": false
   },
   "outputs": [
    {
     "name": "stdout",
     "output_type": "stream",
     "text": [
      "Motif\tFactor\tEvidence\tCurated\n",
      "\n",
      "M00008_2.00\thmga1a\tPBM\tN\n",
      "\n",
      "M00008_2.00\thmga2\tPBM\tN\n",
      "\n",
      "M00045_2.00\tfoxj2\tPBM\tN\n",
      "\n",
      "M00056_2.00\ten2a\tPBM\tN\n",
      "\n",
      "M00056_2.00\tgbx2\tPBM\tN\n",
      "\n",
      "M00056_2.00\tuncx4.1\tPBM\tN\n",
      "\n"
     ]
    }
   ],
   "source": [
    "path_motif2factors = \"CisBP_ver2_Danio_rerio.motif2factors.txt\"\n",
    "\n",
    "# Print the contents.\n",
    "with open(path_motif2factors, \"r\") as f:\n",
    "    for i, j in enumerate(f):\n",
    "        print(j)\n",
    "        if i>5:\n",
    "            break"
   ]
  },
  {
   "cell_type": "markdown",
   "metadata": {},
   "source": [
    "## 3.2 XXX.pfm\n",
    "The second file, XXX.pfm. should includes motif pwm information.\n",
    "The file shoud be like below.\n",
    "\n",
    "The motif name in this pfm file should exactly match with the motif name in motif2factor.txt file."
   ]
  },
  {
   "cell_type": "code",
   "execution_count": 3,
   "metadata": {},
   "outputs": [
    {
     "name": "stdout",
     "output_type": "stream",
     "text": [
      "--2021-07-16 14:23:50--  https://raw.githubusercontent.com/morris-lab/CellOracle/master/docs/demo_data/CisBP_ver2_Danio_rerio.pfm\n",
      "Resolving raw.githubusercontent.com (raw.githubusercontent.com)... 185.199.110.133, 185.199.109.133, 185.199.108.133, ...\n",
      "Connecting to raw.githubusercontent.com (raw.githubusercontent.com)|185.199.110.133|:443... connected.\n",
      "HTTP request sent, awaiting response... 200 OK\n",
      "Length: 3796293 (3.6M) [text/plain]\n",
      "Saving to: ‘CisBP_ver2_Danio_rerio.pfm’\n",
      "\n",
      "CisBP_ver2_Danio_re 100%[===================>]   3.62M  --.-KB/s    in 0.05s   \n",
      "\n",
      "2021-07-16 14:23:50 (70.8 MB/s) - ‘CisBP_ver2_Danio_rerio.pfm’ saved [3796293/3796293]\n",
      "\n"
     ]
    }
   ],
   "source": [
    "# Download example XXX.motif2factors.txt data\n",
    "!wget https://raw.githubusercontent.com/morris-lab/CellOracle/master/docs/demo_data/CisBP_ver2_Danio_rerio.pfm\n",
    "    \n",
    "# If you are using macOS, please try the following command.\n",
    "#!curl -O https://raw.githubusercontent.com/morris-lab/CellOracle/master/docs/demo_data/CisBP_ver2_Danio_rerio.pfm"
   ]
  },
  {
   "cell_type": "code",
   "execution_count": 5,
   "metadata": {},
   "outputs": [
    {
     "name": "stdout",
     "output_type": "stream",
     "text": [
      ">M00008_2.00\n",
      "\n",
      "0.28295895050258896\t0.248464961579856\t0.24599269390504502\t0.22258339401250998\n",
      "\n",
      "0.31665902396267703\t0.18453249282953102\t0.236944410987863\t0.261864072219928\n",
      "\n",
      "0.377777871501523\t0.11265233353358699\t0.20941258176308603\t0.300157213201805\n",
      "\n",
      "0.6163930334523089\t0.0689847041998677\t0.11148441459121801\t0.203137847756605\n",
      "\n",
      "0.675764369206464\t0.0427703219414491\t0.0631709440515372\t0.21829436480055\n",
      "\n",
      "0.326032179952778\t0.133886990300119\t0.0820227041025529\t0.458058125644551\n",
      "\n",
      "0.321153050529938\t0.137265609257083\t0.11238357564255498\t0.429197764570424\n",
      "\n",
      ">M00045_2.00\n",
      "\n",
      "0.222345132743363\t0.00110619469026549\t0.7754424778761059\t0.00110619469026549\n",
      "\n",
      "0.00110619469026549\t0.00110619469026549\t0.00110619469026549\t0.9966814159292041\n",
      "\n",
      "0.9966814159292041\t0.00110619469026549\t0.00110619469026549\t0.00110619469026549\n",
      "\n"
     ]
    }
   ],
   "source": [
    "path_pfm = \"CisBP_ver2_Danio_rerio.pfm\"\n",
    "\n",
    "with open(path_pfm, \"r\") as f:\n",
    "    for i, j in enumerate(f):\n",
    "        print(j)\n",
    "        if i>10:\n",
    "            break"
   ]
  },
  {
   "cell_type": "markdown",
   "metadata": {},
   "source": [
    "## 3.3 Load files as motif list\n",
    "We can load files using read_motifs function in gimmemotifs.\n",
    "\n",
    "First, please prepare two files, XXX.motif2factors.txt and XXX.pfm. in the same directly.\n",
    "If you have theses two file in a different place, we cannot use the read_motifs function.\n",
    "\n"
   ]
  },
  {
   "cell_type": "code",
   "execution_count": 7,
   "metadata": {},
   "outputs": [
    {
     "name": "stdout",
     "output_type": "stream",
     "text": [
      "CisBP_ver2_Danio_rerio.pfm\n"
     ]
    },
    {
     "data": {
      "text/plain": [
       "[M00008_2.00_nnnAAww,\n",
       " M00045_2.00_GTAAACAA,\n",
       " M00056_2.00_TAATAAAT,\n",
       " M00066_2.00_nsGTTGCyAn,\n",
       " M00070_2.00_nrAACAATAnn,\n",
       " M00111_2.00_nGCCynnGGs,\n",
       " M00112_2.00_CCTsrGGCnA,\n",
       " M00113_2.00_nsCCnnAGGs,\n",
       " M00114_2.00_nnGCCynnGG,\n",
       " M00115_2.00_nnATnAAAn]"
      ]
     },
     "execution_count": 7,
     "metadata": {},
     "output_type": "execute_result"
    }
   ],
   "source": [
    "from gimmemotifs.motif import read_motifs\n",
    "\n",
    "# Check path for pfm file\n",
    "print(path_pfm)\n",
    "\n",
    "# Read motifs\n",
    "motifs = read_motifs(path_pfm)\n",
    "\n",
    "# Check first 10 motifs\n",
    "motifs[:10]"
   ]
  },
  {
   "cell_type": "markdown",
   "metadata": {},
   "source": []
  }
 ],
 "metadata": {
  "finalized": {
   "timestamp": 1626463560002,
   "trusted": true
  },
  "kernelspec": {
   "display_name": "Python 3",
   "language": "python",
   "name": "python3"
  },
  "language_info": {
   "codemirror_mode": {
    "name": "ipython",
    "version": 3
   },
   "file_extension": ".py",
   "mimetype": "text/x-python",
   "name": "python",
   "nbconvert_exporter": "python",
   "pygments_lexer": "ipython3",
   "version": "3.6.10"
  }
 },
 "nbformat": 4,
 "nbformat_minor": 2
}
