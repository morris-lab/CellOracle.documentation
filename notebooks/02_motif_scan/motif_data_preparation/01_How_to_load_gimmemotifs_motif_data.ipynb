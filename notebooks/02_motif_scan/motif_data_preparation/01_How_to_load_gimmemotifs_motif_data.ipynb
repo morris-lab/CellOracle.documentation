{
 "cells": [
  {
   "cell_type": "markdown",
   "metadata": {},
   "source": [
    "# 1 Import motifs from gimmemotifs dataset.\n",
    "\n",
    "Gimmemotifs provides many motif dataset that was generated from public motif database including CisDB, ENCODE, HOMER, and JASPAR.\n",
    "https://gimmemotifs.readthedocs.io/en/master/overview.html\n",
    "\n"
   ]
  },
  {
   "cell_type": "markdown",
   "metadata": {},
   "source": [
    "## 1.1 gimme.vertebrate.v5.0.\n",
    "\n",
    "By default GimmeMotifs uses a non-redundant, clustered database of known vertebrate motifs. \n",
    "These motifs come from CIS-BP (http://cisbp.ccbr.utoronto.ca/) and other sources. \n",
    "This motif dataset can be easily loaded with the following command.\n",
    "\n",
    "If your dataset is Mouse or Human, this one will be a good default choice."
   ]
  },
  {
   "cell_type": "code",
   "execution_count": 1,
   "metadata": {},
   "outputs": [
    {
     "data": {
      "text/plain": [
       "[GM.5.0.Sox.0001_AACAAT,\n",
       " GM.5.0.Homeodomain.0001_AGCTGTCAnnA,\n",
       " GM.5.0.Mixed.0001_snnGGsssGGs,\n",
       " GM.5.0.Nuclear_receptor.0001_TAwsTrGGTCAsTrGGTCA,\n",
       " GM.5.0.Mixed.0002_GCTAATTA,\n",
       " GM.5.0.Nuclear_receptor.0002_wnyrCTTCCGGGkC,\n",
       " GM.5.0.bHLH.0001_ACGTG,\n",
       " GM.5.0.Myb_SANT.0001_rrCCGTTAAACnGyy,\n",
       " GM.5.0.C2H2_ZF.0001_GCGkGGGCGG,\n",
       " GM.5.0.GATA.0001_TTATCTsnnnnnnnCA]"
      ]
     },
     "execution_count": 1,
     "metadata": {},
     "output_type": "execute_result"
    }
   ],
   "source": [
    "# Compare with default motifs in gimmemotifs\n",
    "from gimmemotifs.motif import default_motifs\n",
    "motifs =  default_motifs()\n",
    "\n",
    "# Check first 10 motifs\n",
    "motifs[:10]"
   ]
  },
  {
   "cell_type": "markdown",
   "metadata": {},
   "source": [
    "## 1.2 Another motif that is provided with gimmemotifs package\n",
    "\n",
    "Many other motifs are provided by GimmeMotifs\n",
    "\n",
    "You can load them as follows."
   ]
  },
  {
   "cell_type": "markdown",
   "metadata": {},
   "source": [
    "### 1.2.1. Get motif data list"
   ]
  },
  {
   "cell_type": "code",
   "execution_count": 2,
   "metadata": {},
   "outputs": [
    {
     "data": {
      "text/plain": [
       "['CIS-BP.pfm',\n",
       " 'ENCODE.pfm',\n",
       " 'HOCOMOCOv10_HUMAN.pfm',\n",
       " 'HOCOMOCOv10_MOUSE.pfm',\n",
       " 'HOCOMOCOv11_HUMAN.pfm',\n",
       " 'HOCOMOCOv11_MOUSE.pfm',\n",
       " 'HOMER.pfm',\n",
       " 'IMAGE.pfm',\n",
       " 'JASPAR2018.pfm',\n",
       " 'JASPAR2018_fungi.pfm',\n",
       " 'JASPAR2018_insects.pfm',\n",
       " 'JASPAR2018_nematodes.pfm',\n",
       " 'JASPAR2018_plants.pfm',\n",
       " 'JASPAR2018_urochordates.pfm',\n",
       " 'JASPAR2018_vertebrates.pfm',\n",
       " 'JASPAR2020.pfm',\n",
       " 'JASPAR2020_fungi.pfm',\n",
       " 'JASPAR2020_insects.pfm',\n",
       " 'JASPAR2020_nematodes.pfm',\n",
       " 'JASPAR2020_plants.pfm',\n",
       " 'JASPAR2020_urochordates.pfm',\n",
       " 'JASPAR2020_vertebrates.pfm',\n",
       " 'RSAT_insects.pfm',\n",
       " 'RSAT_plants.pfm',\n",
       " 'RSAT_vertebrates.pfm',\n",
       " 'SwissRegulon.pfm',\n",
       " 'factorbook.pfm',\n",
       " 'gimme.vertebrate.v5.0.pfm']"
      ]
     },
     "execution_count": 2,
     "metadata": {},
     "output_type": "execute_result"
    }
   ],
   "source": [
    "# Get folder path that stores motif data.\n",
    "import os, glob\n",
    "from gimmemotifs.motif import MotifConfig\n",
    "config = MotifConfig()\n",
    "motif_dir = config.get_motif_dir()\n",
    "\n",
    "# Get motif data names\n",
    "motifs_data_name = [i for i in os.listdir(motif_dir) if i.endswith(\".pfm\")]\n",
    "motifs_data_name.sort()\n",
    "motifs_data_name"
   ]
  },
  {
   "cell_type": "markdown",
   "metadata": {},
   "source": [
    "## 1.2.2. Load motifs"
   ]
  },
  {
   "cell_type": "code",
   "execution_count": 3,
   "metadata": {
    "scrolled": true
   },
   "outputs": [
    {
     "data": {
      "text/plain": [
       "[MA0006.1_Ahr::Arnt_yGCGTG,\n",
       " MA0854.1_Alx1_nGnnyTAATTArTnnnn,\n",
       " MA0634.1_ALX3_nnyAATTAnn,\n",
       " MA0853.1_Alx4_CGnnyTAATTArnnnnn,\n",
       " MA0007.3_Ar_rGGwACAynGTGTwCyn,\n",
       " MA1463.1_ARGFX_nCTAATTArn,\n",
       " MA0151.1_Arid3a_ATyAAA,\n",
       " MA0601.1_Arid3b_nTATTAATwnn,\n",
       " MA0602.1_Arid5a_nyAATATTGnnAnn,\n",
       " MA0004.1_Arnt_CACGTG]"
      ]
     },
     "execution_count": 3,
     "metadata": {},
     "output_type": "execute_result"
    }
   ],
   "source": [
    "# You can load motif files with \"read_motifs\"\n",
    "from gimmemotifs.motif import read_motifs\n",
    "\n",
    "path = os.path.join(motif_dir, \"JASPAR2020_vertebrates.pfm\")\n",
    "motifs = read_motifs(path)\n",
    "\n",
    "# Check first 10 motifs\n",
    "motifs[:10]"
   ]
  },
  {
   "cell_type": "markdown",
   "metadata": {},
   "source": [
    "You can use this motif data for CallOracle motif analysis."
   ]
  },
  {
   "cell_type": "code",
   "execution_count": 4,
   "metadata": {},
   "outputs": [],
   "source": [
    "m = motifs[0]"
   ]
  },
  {
   "cell_type": "code",
   "execution_count": 6,
   "metadata": {},
   "outputs": [
    {
     "data": {
      "text/plain": [
       "{'direct': ['Arnt', 'Ahr'], 'indirect\\nor predicted': []}"
      ]
     },
     "execution_count": 6,
     "metadata": {},
     "output_type": "execute_result"
    }
   ],
   "source": [
    "m.factors"
   ]
  },
  {
   "cell_type": "code",
   "execution_count": null,
   "metadata": {},
   "outputs": [],
   "source": []
  }
 ],
 "metadata": {
  "finalized": {
   "timestamp": 1677514897161,
   "trusted": true
  },
  "kernelspec": {
   "display_name": "Python 3",
   "language": "python",
   "name": "python3"
  },
  "language_info": {
   "codemirror_mode": {
    "name": "ipython",
    "version": 3
   },
   "file_extension": ".py",
   "mimetype": "text/x-python",
   "name": "python",
   "nbconvert_exporter": "python",
   "pygments_lexer": "ipython3",
   "version": "3.6.10"
  }
 },
 "nbformat": 4,
 "nbformat_minor": 2
}
