{
 "cells": [
  {
   "cell_type": "markdown",
   "metadata": {},
   "source": [
    "# 1. Import motifs from Celloracle dataset.\n",
    "\n",
    "Celloracle provides many motif dataset that was generated from CisDB version2. http://cisbp.ccbr.utoronto.ca/\n",
    "\n",
    "These motifs were divided by species. Please select motifs for your species.\n"
   ]
  },
  {
   "cell_type": "markdown",
   "metadata": {},
   "source": [
    "## 1.1. Show available motif data list"
   ]
  },
  {
   "cell_type": "code",
   "execution_count": 1,
   "metadata": {},
   "outputs": [
    {
     "data": {
      "text/plain": [
       "['CisBP_ver2_Arabidopsis_thaliana.pfm',\n",
       " 'CisBP_ver2_Arabidopsis_thaliana_GENE_ID.pfm',\n",
       " 'CisBP_ver2_Caenorhabditis_elegans.pfm',\n",
       " 'CisBP_ver2_Cavia_porcellus.pfm',\n",
       " 'CisBP_ver2_Danio_rerio.pfm',\n",
       " 'CisBP_ver2_Drosophila_ananassae.pfm',\n",
       " 'CisBP_ver2_Drosophila_erecta.pfm',\n",
       " 'CisBP_ver2_Drosophila_grimshawi.pfm',\n",
       " 'CisBP_ver2_Drosophila_melanogaster.pfm',\n",
       " 'CisBP_ver2_Drosophila_mix.pfm',\n",
       " 'CisBP_ver2_Drosophila_mojavensis.pfm',\n",
       " 'CisBP_ver2_Drosophila_persimilis.pfm',\n",
       " 'CisBP_ver2_Drosophila_pseudoobscura.pfm',\n",
       " 'CisBP_ver2_Drosophila_sechellia.pfm',\n",
       " 'CisBP_ver2_Drosophila_simulans.pfm',\n",
       " 'CisBP_ver2_Drosophila_virilis.pfm',\n",
       " 'CisBP_ver2_Drosophila_willistoni.pfm',\n",
       " 'CisBP_ver2_Drosophila_yakuba.pfm',\n",
       " 'CisBP_ver2_Gallus_gallus.pfm',\n",
       " 'CisBP_ver2_Homo_sapiens.pfm',\n",
       " 'CisBP_ver2_Mus_musculus.pfm',\n",
       " 'CisBP_ver2_Rattus_norvegicus.pfm',\n",
       " 'CisBP_ver2_Saccharomyces_cerevisiae.pfm',\n",
       " 'CisBP_ver2_Xenopus_laevis.pfm',\n",
       " 'CisBP_ver2_Xenopus_tropicalis.pfm',\n",
       " 'CisBP_ver2_Xenopus_tropicalis_and_Xenopus_laevis.pfm']"
      ]
     },
     "execution_count": 1,
     "metadata": {},
     "output_type": "execute_result"
    }
   ],
   "source": [
    "from celloracle import motif_analysis as ma\n",
    "\n",
    "# Check available motifs\n",
    "ma.MOTIFS_LIST"
   ]
  },
  {
   "cell_type": "markdown",
   "metadata": {},
   "source": [
    "## 1.2. Select and Load motif data "
   ]
  },
  {
   "cell_type": "code",
   "execution_count": 4,
   "metadata": {
    "scrolled": true
   },
   "outputs": [
    {
     "data": {
      "text/plain": [
       "[M00056_2.00_TAATAAAT,\n",
       " M00070_2.00_nrAACAATAnn,\n",
       " M00111_2.00_nGCCynnGGs,\n",
       " M00112_2.00_CCTsrGGCnA,\n",
       " M00113_2.00_nsCCnnAGGs,\n",
       " M00114_2.00_nnGCCynnGG,\n",
       " M00115_2.00_nnATnAAAn,\n",
       " M00116_2.00_nnAATATTAnn,\n",
       " M00130_2.00_nnnGCCCCnn,\n",
       " M00142_2.00_GTrCTCmy]"
      ]
     },
     "execution_count": 4,
     "metadata": {},
     "output_type": "execute_result"
    }
   ],
   "source": [
    "# Load motifs from celloracle dataset.\n",
    "motifs = ma.load_motifs(\"CisBP_ver2_Homo_sapiens.pfm\")\n",
    "\n",
    "# Check first 10 motifs\n",
    "motifs[:10]"
   ]
  },
  {
   "cell_type": "markdown",
   "metadata": {},
   "source": [
    "You can use this motif data for CallOracle motif analysis."
   ]
  },
  {
   "cell_type": "code",
   "execution_count": null,
   "metadata": {},
   "outputs": [],
   "source": []
  }
 ],
 "metadata": {
  "finalized": {
   "timestamp": 1627244866545,
   "trusted": true
  },
  "kernelspec": {
   "display_name": "Python 3",
   "language": "python",
   "name": "python3"
  },
  "language_info": {
   "codemirror_mode": {
    "name": "ipython",
    "version": 3
   },
   "file_extension": ".py",
   "mimetype": "text/x-python",
   "name": "python",
   "nbconvert_exporter": "python",
   "pygments_lexer": "ipython3",
   "version": "3.6.10"
  }
 },
 "nbformat": 4,
 "nbformat_minor": 2
}
