{
 "cells": [
  {
   "cell_type": "code",
   "execution_count": 39,
   "metadata": {},
   "outputs": [],
   "source": [
    "import pandas as pd\n",
    "import numpy as np\n",
    "import matplotlib.pyplot as plt\n",
    "%matplotlib inline\n",
    "\n",
    "import seaborn as sns\n",
    "#import time\n",
    "\n",
    "import os, sys, shutil, importlib, glob, subprocess\n",
    "from tqdm.notebook import  tqdm\n",
    "\n",
    "%config InlineBackend.figure_format = 'retina'\n",
    "\n",
    "plt.rcParams['figure.figsize'] = (15,7)\n",
    "plt.rcParams[\"savefig.dpi\"] = 200\n"
   ]
  },
  {
   "cell_type": "code",
   "execution_count": 40,
   "metadata": {},
   "outputs": [],
   "source": [
    "tmp = \"./tmp\"\n",
    "output = \"./output\"\n",
    "\n",
    "os.makedirs(tmp, exist_ok=True)\n",
    "os.makedirs(output, exist_ok=True)"
   ]
  },
  {
   "cell_type": "code",
   "execution_count": 41,
   "metadata": {},
   "outputs": [],
   "source": [
    "# Please set reference genome name\n",
    "ref_genome = \"danRer7\""
   ]
  },
  {
   "cell_type": "markdown",
   "metadata": {},
   "source": [
    "# 1. Download and unzip annotation data "
   ]
  },
  {
   "cell_type": "code",
   "execution_count": 42,
   "metadata": {},
   "outputs": [],
   "source": [
    "# URLs for genome annotation data\n",
    "url_dictionary = {\"mm10\": \"http://homer.ucsd.edu/homer/data/genomes/mm10.v6.0.zip\",\n",
    "                  \"mm9\": \"http://homer.ucsd.edu/homer/data/genomes/mm9.v6.0.zip\",\n",
    "                  \"hg19\": \"http://homer.ucsd.edu/homer/data/genomes/hg19.v6.0.zip\",\n",
    "                  \"hg38\": \"http://homer.ucsd.edu/homer/data/genomes/hg38.v6.0.zip\",\n",
    "                  \"sacCer2\": \"http://homer.ucsd.edu/homer/data/genomes/sacCer2.v6.4.zip\",\n",
    "                  \"sacCer3\": \"http://homer.ucsd.edu/homer/data/genomes/sacCer3.v6.4.zip\", #S.cerevisiae\n",
    "                  \"danRer10\": \"http://homer.ucsd.edu/homer/data/genomes/danRer10.v6.4.zip\", # Zebrafish\n",
    "                  \"danRer11\": \"http://homer.ucsd.edu/homer/data/genomes/danRer11.v6.4.zip\", # Zebrafish\n",
    "                  \"danRer7\": \"http://homer.ucsd.edu/homer/data/genomes/danRer7.v6.4.zip\" # Zebrafish\n",
    "                 }\n"
   ]
  },
  {
   "cell_type": "code",
   "execution_count": 43,
   "metadata": {},
   "outputs": [
    {
     "name": "stdout",
     "output_type": "stream",
     "text": [
      " 0.592361685195105.clean.pos\r\n",
      " 0.592361685195105.pos\r\n",
      " make_tss_referenece_from_homer_data.ipynb\r\n",
      "'make_tss_referenece_from_homer_data-S cerevisiae.ipynb'\r\n",
      " make_tss_referenece_from_homer_data_zebrafish_danRer7.ipynb\r\n",
      " \u001b[0m\u001b[01;34moutput\u001b[0m/\r\n",
      " \u001b[01;34mtmp\u001b[0m/\r\n"
     ]
    }
   ],
   "source": [
    "ls"
   ]
  },
  {
   "cell_type": "code",
   "execution_count": 44,
   "metadata": {
    "scrolled": true
   },
   "outputs": [
    {
     "data": {
      "text/plain": [
       "'http://homer.ucsd.edu/homer/data/genomes/danRer7.v6.4.zip'"
      ]
     },
     "execution_count": 44,
     "metadata": {},
     "output_type": "execute_result"
    }
   ],
   "source": [
    "url_dictionary[ref_genome]"
   ]
  },
  {
   "cell_type": "code",
   "execution_count": 45,
   "metadata": {
    "scrolled": true
   },
   "outputs": [
    {
     "data": {
      "text/plain": [
       "0"
      ]
     },
     "execution_count": 45,
     "metadata": {},
     "output_type": "execute_result"
    }
   ],
   "source": [
    "# download data\n",
    "cmd = f\"wget {url_dictionary[ref_genome]}\"\n",
    "os.system(cmd)"
   ]
  },
  {
   "cell_type": "code",
   "execution_count": 46,
   "metadata": {},
   "outputs": [
    {
     "name": "stdout",
     "output_type": "stream",
     "text": [
      " 0.592361685195105.clean.pos\r\n",
      " 0.592361685195105.pos\r\n",
      " \u001b[0m\u001b[01;31mdanRer7.v6.4.zip\u001b[0m\r\n",
      " make_tss_referenece_from_homer_data.ipynb\r\n",
      "'make_tss_referenece_from_homer_data-S cerevisiae.ipynb'\r\n",
      " make_tss_referenece_from_homer_data_zebrafish_danRer7.ipynb\r\n",
      " \u001b[01;34moutput\u001b[0m/\r\n",
      " \u001b[01;34mtmp\u001b[0m/\r\n"
     ]
    }
   ],
   "source": [
    "ls"
   ]
  },
  {
   "cell_type": "code",
   "execution_count": 47,
   "metadata": {
    "scrolled": true
   },
   "outputs": [
    {
     "data": {
      "text/plain": [
       "0"
      ]
     },
     "execution_count": 47,
     "metadata": {},
     "output_type": "execute_result"
    }
   ],
   "source": [
    "# Unzip data\n",
    "cmd = \"unzip \" + url_dictionary[ref_genome].split(\"/\")[-1]\n",
    "os.system(cmd)\n",
    "#! unzip sacCer3.v6.4.zip"
   ]
  },
  {
   "cell_type": "code",
   "execution_count": 48,
   "metadata": {},
   "outputs": [
    {
     "name": "stdout",
     "output_type": "stream",
     "text": [
      " 0.592361685195105.clean.pos\r\n",
      " 0.592361685195105.pos\r\n",
      " \u001b[0m\u001b[01;31mdanRer7.v6.4.zip\u001b[0m\r\n",
      " \u001b[01;34mdata\u001b[0m/\r\n",
      " make_tss_referenece_from_homer_data.ipynb\r\n",
      "'make_tss_referenece_from_homer_data-S cerevisiae.ipynb'\r\n",
      " make_tss_referenece_from_homer_data_zebrafish_danRer7.ipynb\r\n",
      " \u001b[01;34moutput\u001b[0m/\r\n",
      " \u001b[01;34mtmp\u001b[0m/\r\n"
     ]
    }
   ],
   "source": [
    "ls"
   ]
  },
  {
   "cell_type": "markdown",
   "metadata": {},
   "source": [
    "# 2. Make tss bed file"
   ]
  },
  {
   "cell_type": "code",
   "execution_count": 49,
   "metadata": {},
   "outputs": [
    {
     "name": "stdout",
     "output_type": "stream",
     "text": [
      "1. raw_tss_data\n",
      "                              0     1      2      3  4  5      6\n",
      "1   promoter-TSS (NM_001089558)  chr1   2800   3900  +  P   3534\n",
      "18     promoter-TSS (NM_131819)  chr1  14962  16062  +  P  14002\n",
      "36     promoter-TSS (NM_173228)  chr1  22260  23360  +  P  15479\n",
      "53     promoter-TSS (NM_201462)  chr1  31022  32122  +  P  12147\n",
      "72  promoter-TSS (NM_001326520)  chr1  39293  40393  +  P   6695\n",
      "2. save tss info as a bed file\n",
      " tss bed file was saved as ./tmp/danRer7_tss.bed\n"
     ]
    }
   ],
   "source": [
    "def make_tss_bed_file(ref_genome):\n",
    "\n",
    "    tss = pd.read_csv(f\"data/genomes/{ref_genome}/{ref_genome}.basic.annotation\",\n",
    "                      header=None, delimiter=\"\\t\")\n",
    "    tss = tss[tss[5] == \"P\"]\n",
    "    print(\"1. raw_tss_data\")\n",
    "    print(tss.head())\n",
    "\n",
    "\n",
    "    print(\"2. save tss info as a bed file\")\n",
    "    tss = tss.reset_index(drop=False)\n",
    "    tss[[1, 2, 3, \"index\", 5, 4]].to_csv(os.path.join(tmp, f\"{ref_genome}_tss.bed\"), \n",
    "                                         sep='\\t', header=False, index=False)\n",
    "    \n",
    "    print(\" tss bed file was saved as \" + os.path.join(tmp, f\"{ref_genome}_tss.bed\"))\n",
    "\n",
    "\n",
    "make_tss_bed_file(ref_genome=ref_genome)"
   ]
  },
  {
   "cell_type": "markdown",
   "metadata": {},
   "source": [
    "# 2. Process peaks with homer"
   ]
  },
  {
   "cell_type": "code",
   "execution_count": 50,
   "metadata": {},
   "outputs": [
    {
     "name": "stdout",
     "output_type": "stream",
     "text": [
      "annotatePeaks.pl ./tmp/danRer7_tss.bed danRer7 >./tmp/danRer7_tss_with_annot.bed\n"
     ]
    }
   ],
   "source": [
    "# command\n",
    "input_bed = os.path.join(tmp, f\"{ref_genome}_tss.bed\")\n",
    "out_bed = os.path.join(tmp, f\"{ref_genome}_tss_with_annot.bed\")\n",
    "command = f'annotatePeaks.pl {input_bed} {ref_genome} >{out_bed}'\n",
    "\n",
    "print(command)"
   ]
  },
  {
   "cell_type": "code",
   "execution_count": 51,
   "metadata": {},
   "outputs": [
    {
     "data": {
      "text/plain": [
       "'danRer7'"
      ]
     },
     "execution_count": 51,
     "metadata": {},
     "output_type": "execute_result"
    }
   ],
   "source": [
    "# Install genome data\n",
    "ref_genome"
   ]
  },
  {
   "cell_type": "code",
   "execution_count": 52,
   "metadata": {
    "scrolled": true
   },
   "outputs": [
    {
     "name": "stdout",
     "output_type": "stream",
     "text": [
      "\n",
      "\tCurrent base directory for HOMER is /home/k/anaconda3/envs/pandas1/share/homer-4.11-1/.//\n",
      "\n",
      "\tWill install danRer7\n",
      "--2020-07-14 17:47:00--  http://homer.ucsd.edu/homer/update.txt\n",
      "Resolving homer.ucsd.edu (homer.ucsd.edu)... 169.228.63.226\n",
      "Connecting to homer.ucsd.edu (homer.ucsd.edu)|169.228.63.226|:80... connected.\n",
      "HTTP request sent, awaiting response... 200 OK\n",
      "Length: 17859 (17K) [text/plain]\n",
      "Saving to: ‘/home/k/anaconda3/envs/pandas1/share/homer-4.11-1/.///update.txt’\n",
      "\n",
      "/home/k/anaconda3/e 100%[===================>]  17.44K  --.-KB/s    in 0.05s   \n",
      "\n",
      "2020-07-14 17:47:00 (339 KB/s) - ‘/home/k/anaconda3/envs/pandas1/share/homer-4.11-1/.///update.txt’ saved [17859/17859]\n",
      "\n",
      "\tUpdating Settings...\n",
      "`wget -O 0.0543408597159249.tmp http://homer.ucsd.edu/homer/configureHomer.pl`;\n",
      "--2020-07-14 17:47:00--  http://homer.ucsd.edu/homer/configureHomer.pl\n",
      "Resolving homer.ucsd.edu (homer.ucsd.edu)... 169.228.63.226\n",
      "Connecting to homer.ucsd.edu (homer.ucsd.edu)|169.228.63.226|:80... connected.\n",
      "HTTP request sent, awaiting response... 200 OK\n",
      "Length: 27477 (27K) [application/x-perl]\n",
      "Saving to: ‘0.0543408597159249.tmp’\n",
      "\n",
      "0.0543408597159249. 100%[===================>]  26.83K  --.-KB/s    in 0.05s   \n",
      "\n",
      "2020-07-14 17:47:00 (521 KB/s) - ‘0.0543408597159249.tmp’ saved [27477/27477]\n",
      "\n",
      "\tconfigureHomer.pl script is up-to-date\n",
      "\t\tInstalling/Updating Organism zebrafish (v6.3) for package danRer7\n",
      "\tPackages to Install...\n",
      "\t\tzebrafish -> v6.3\n",
      "\t\tdanRer7 -> \n",
      "\tPausing for 3 seconds (hit ctrl-C to stop)\n",
      "\tInstalling: zebrafish\n",
      "\t\tDownloading...\n",
      "--2020-07-14 17:47:03--  http://homer.ucsd.edu/homer/data/organisms/zebrafish.v6.3.zip\n",
      "Resolving homer.ucsd.edu (homer.ucsd.edu)... 169.228.63.226\n",
      "Connecting to homer.ucsd.edu (homer.ucsd.edu)|169.228.63.226|:80... connected.\n",
      "HTTP request sent, awaiting response... 200 OK\n",
      "Length: 22784368 (22M) [application/zip]\n",
      "Saving to: ‘homer.package.zip’\n",
      "\n",
      "homer.package.zip   100%[===================>]  21.73M  14.4MB/s    in 1.5s    \n",
      "\n",
      "2020-07-14 17:47:05 (14.4 MB/s) - ‘homer.package.zip’ saved [22784368/22784368]\n",
      "\n",
      "\t\tUnzipping...\n",
      "\t\tFinished Installing zebrafish\n",
      "\n",
      "\tInstalling: danRer7\n",
      "\t\tDownloading...\n",
      "--2020-07-14 17:47:05--  http://homer.ucsd.edu/homer/data/genomes/danRer7.v6.4.zip\n",
      "Resolving homer.ucsd.edu (homer.ucsd.edu)... 169.228.63.226\n",
      "Connecting to homer.ucsd.edu (homer.ucsd.edu)|169.228.63.226|:80... connected.\n",
      "HTTP request sent, awaiting response... 200 OK\n",
      "Length: 784477196 (748M) [application/zip]\n",
      "Saving to: ‘homer.package.zip’\n",
      "\n",
      "homer.package.zip   100%[===================>] 748.14M  16.4MB/s    in 80s     \n",
      "\n",
      "2020-07-14 17:48:26 (9.30 MB/s) - ‘homer.package.zip’ saved [784477196/784477196]\n",
      "\n",
      "\t\tUnzipping...\n",
      "\t\tFinished Installing danRer7\n",
      "\n"
     ]
    }
   ],
   "source": [
    "! perl /home/k/anaconda3/envs/pandas1/share/homer-4.11-1/.//configureHomer.pl -install danRer7"
   ]
  },
  {
   "cell_type": "code",
   "execution_count": 53,
   "metadata": {},
   "outputs": [
    {
     "name": "stdout",
     "output_type": "stream",
     "text": [
      "\n",
      "\tPeak file = ./tmp/danRer7_tss.bed\n",
      "\tGenome = danRer7\n",
      "\tOrganism = zebrafish\n",
      "\tPeak/BED file conversion summary:\n",
      "\t\tBED/Header formatted lines: 16180\n",
      "\t\tpeakfile formatted lines: 0\n",
      "\t\tDuplicated Peak IDs: 0\n",
      "\n",
      "\tPeak File Statistics:\n",
      "\t\tTotal Peaks: 16180\n",
      "\t\tRedundant Peak IDs: 0\n",
      "\t\tPeaks lacking information: 0 (need at least 5 columns per peak)\n",
      "\t\tPeaks with misformatted coordinates: 0 (should be integer)\n",
      "\t\tPeaks with misformatted strand: 0 (should be either +/- or 0/1)\n",
      "\n",
      "\tPeak file looks good!\n",
      "\n",
      "\tReading Positions...\n",
      "\t-----------------------\n",
      "\tFinding Closest TSS...\n",
      "\tAnnotating:..............................................................................................................................................................................................\n",
      "\t\tAnnotation\tNumber of peaks\tTotal size (bp)\tLog2 Ratio (obs/exp)\tLogP enrichment (+values depleted)\n",
      "\t\t3UTR\t0.0\t7084442\t-6.414\t84.066\n",
      "\t\tncRNA\t0.0\t61348\t-0.788\t0.726\n",
      "\t\tTTS\t0.0\t16480804\t-7.633\t196.245\n",
      "\t\tpseudo\t0.0\t20182\t-0.309\t0.239\n",
      "\t\tExon\t0.0\t20763277\t-7.969\t247.630\n",
      "\t\tIntron\t0.0\t387958153\t-12.647\t5400.555\n",
      "\t\tIntergenic\t0.0\t916670031\t-15.007\t17964.519\n",
      "\t\tPromoter\t16180.0\t17099213\t6.321\t-70890.912\n",
      "\t\t5UTR\t0.0\t926894\t-3.582\t10.974\n",
      "\t\tsnRNA\t0.0\t120\t-0.002\t0.001\n",
      "\t\trRNA\t0.0\t3795\t-0.063\t0.045\n",
      "\tNOTE: If this part takes more than 2 minutes, there is a good chance\n",
      "\t\tyour machine ran out of memory: consider hitting ctrl+C and rerunning\n",
      "\t\tthe command with \"-noann\"\n",
      "\tTo capture annotation stats in a file, use \"-annStats <filename>\" next time\n",
      "\tAnnotating:..............................................................................................................................................................................................\n",
      "\t\tAnnotation\tNumber of peaks\tTotal size (bp)\tLog2 Ratio (obs/exp)\tLogP enrichment (+values depleted)\n",
      "\t\t3UTR\t0.0\t7084442\t-6.407\t83.660\n",
      "\t\tncRNA\t0.0\t61348\t-0.785\t0.723\n",
      "\t\tTTS\t0.0\t16480804\t-7.626\t195.294\n",
      "\t\tLINE\t0.0\t35479567\t-8.748\t423.389\n",
      "\t\tSINE\t0.0\t30782809\t-8.539\t366.701\n",
      "\t\ttRNA\t0.0\t1323236\t-4.053\t15.593\n",
      "\t\tDNA?\t0.0\t591594\t-2.995\t6.970\n",
      "\t\tpseudo\t0.0\t20182\t-0.308\t0.238\n",
      "\t\tDNA\t0.0\t472575456\t-13.051\t6821.903\n",
      "\t\tExon\t0.0\t20763277\t-7.962\t246.428\n",
      "\t\tIntron\t0.0\t182868159\t-11.279\t2311.434\n",
      "\t\tIntergenic\t0.0\t425011699\t-12.824\t5989.641\n",
      "\t\tPromoter\t16180.0\t17099213\t6.328\t-70969.026\n",
      "\t\t5UTR\t0.0\t926894\t-3.576\t10.921\n",
      "\t\tCpG-Island\t0.0\t3266072\t-5.306\t38.515\n",
      "\t\tLow_complexity\t0.0\t19753603\t-7.889\t234.358\n",
      "\t\tLTR\t0.0\t68263230\t-9.726\t824.707\n",
      "\t\tSimple_repeat\t0.0\t41539455\t-8.982\t496.825\n",
      "\t\tARTEFACT\t0.0\t254\t-0.004\t0.003\n",
      "\t\tsnRNA\t0.0\t132840\t-1.359\t1.565\n",
      "\t\tUnknown\t0.0\t4010842\t-5.596\t47.311\n",
      "\t\tSatellite\t0.0\t24497836\t-8.204\t291.153\n",
      "\t\trRNA\t0.0\t494395\t-2.771\t5.824\n",
      "\t\tSatellite?\t0.0\t656983\t-3.128\t7.740\n",
      "\tCounting Tags in Peaks from each directory...\n",
      "\tOrganism: zebrafish\n",
      "\tLoading Gene Informaiton...\n",
      "\tOutputing Annotation File...\n",
      "\tDone annotating peaks file\n",
      "\n"
     ]
    }
   ],
   "source": [
    "# process tss file with homer\n",
    "!annotatePeaks.pl ./tmp/danRer7_tss.bed danRer7 >./tmp/danRer7_tss_with_annot.bed"
   ]
  },
  {
   "cell_type": "markdown",
   "metadata": {},
   "source": [
    "# 3.load and process"
   ]
  },
  {
   "cell_type": "code",
   "execution_count": 54,
   "metadata": {},
   "outputs": [
    {
     "data": {
      "text/plain": [
       "'./tmp/danRer7_tss_with_annot.bed'"
      ]
     },
     "execution_count": 54,
     "metadata": {},
     "output_type": "execute_result"
    }
   ],
   "source": [
    "out_bed"
   ]
  },
  {
   "cell_type": "code",
   "execution_count": 55,
   "metadata": {},
   "outputs": [],
   "source": [
    "def process_tss_info():\n",
    "\n",
    "    # load file\n",
    "    tss_with_annot = pd.read_csv(out_bed, delimiter=\"\\t\", index_col=0)\n",
    "\n",
    "    # process\n",
    "    tss_with_annot.Start = tss_with_annot.Start - 1\n",
    "    tss_with_annot.index.name = None\n",
    "    tss_with_annot = tss_with_annot.reset_index(drop=False)\n",
    "\n",
    "    # select info\n",
    "    tss_with_annot = tss_with_annot[[\"Chr\", \"Start\", \"End\", \"Gene Name\", 'Distance to TSS', \"Strand\"]]\n",
    "\n",
    "    return tss_with_annot\n"
   ]
  },
  {
   "cell_type": "code",
   "execution_count": 56,
   "metadata": {
    "scrolled": true
   },
   "outputs": [
    {
     "data": {
      "text/html": [
       "<div>\n",
       "<style scoped>\n",
       "    .dataframe tbody tr th:only-of-type {\n",
       "        vertical-align: middle;\n",
       "    }\n",
       "\n",
       "    .dataframe tbody tr th {\n",
       "        vertical-align: top;\n",
       "    }\n",
       "\n",
       "    .dataframe thead th {\n",
       "        text-align: right;\n",
       "    }\n",
       "</style>\n",
       "<table border=\"1\" class=\"dataframe\">\n",
       "  <thead>\n",
       "    <tr style=\"text-align: right;\">\n",
       "      <th></th>\n",
       "      <th>Chr</th>\n",
       "      <th>Start</th>\n",
       "      <th>End</th>\n",
       "      <th>Gene Name</th>\n",
       "      <th>Distance to TSS</th>\n",
       "      <th>Strand</th>\n",
       "    </tr>\n",
       "  </thead>\n",
       "  <tbody>\n",
       "    <tr>\n",
       "      <th>0</th>\n",
       "      <td>chr24</td>\n",
       "      <td>37835285</td>\n",
       "      <td>37836385</td>\n",
       "      <td>grnb</td>\n",
       "      <td>-450</td>\n",
       "      <td>+</td>\n",
       "    </tr>\n",
       "    <tr>\n",
       "      <th>1</th>\n",
       "      <td>chr9</td>\n",
       "      <td>10228462</td>\n",
       "      <td>10229562</td>\n",
       "      <td>ugt1a7</td>\n",
       "      <td>-450</td>\n",
       "      <td>-</td>\n",
       "    </tr>\n",
       "    <tr>\n",
       "      <th>2</th>\n",
       "      <td>chr1</td>\n",
       "      <td>51145499</td>\n",
       "      <td>51146599</td>\n",
       "      <td>herc3</td>\n",
       "      <td>-450</td>\n",
       "      <td>+</td>\n",
       "    </tr>\n",
       "    <tr>\n",
       "      <th>3</th>\n",
       "      <td>chr3</td>\n",
       "      <td>42958733</td>\n",
       "      <td>42959833</td>\n",
       "      <td>axin1</td>\n",
       "      <td>-450</td>\n",
       "      <td>+</td>\n",
       "    </tr>\n",
       "    <tr>\n",
       "      <th>4</th>\n",
       "      <td>chr20</td>\n",
       "      <td>36844613</td>\n",
       "      <td>36845713</td>\n",
       "      <td>heca</td>\n",
       "      <td>-450</td>\n",
       "      <td>+</td>\n",
       "    </tr>\n",
       "  </tbody>\n",
       "</table>\n",
       "</div>"
      ],
      "text/plain": [
       "     Chr     Start       End Gene Name  Distance to TSS Strand\n",
       "0  chr24  37835285  37836385      grnb             -450      +\n",
       "1   chr9  10228462  10229562    ugt1a7             -450      -\n",
       "2   chr1  51145499  51146599     herc3             -450      +\n",
       "3   chr3  42958733  42959833     axin1             -450      +\n",
       "4  chr20  36844613  36845713      heca             -450      +"
      ]
     },
     "execution_count": 56,
     "metadata": {},
     "output_type": "execute_result"
    }
   ],
   "source": [
    "tss_ref = process_tss_info()\n",
    "tss_ref.head()"
   ]
  },
  {
   "cell_type": "code",
   "execution_count": 57,
   "metadata": {},
   "outputs": [],
   "source": [
    "path = os.path.join(output, f\"{ref_genome}_tss_info.bed\")\n",
    "tss_ref.to_csv(path,  sep='\\t', header=False, index=False)\n",
    "\n",
    "\n"
   ]
  },
  {
   "cell_type": "code",
   "execution_count": 65,
   "metadata": {},
   "outputs": [
    {
     "name": "stdout",
     "output_type": "stream",
     "text": [
      " make_tss_referenece_from_homer_data.ipynb\r\n",
      "'make_tss_referenece_from_homer_data-S cerevisiae.ipynb'\r\n",
      " make_tss_referenece_from_homer_data_zebrafish_danRer7.ipynb\r\n",
      " \u001b[0m\u001b[01;34moutput\u001b[0m/\r\n"
     ]
    }
   ],
   "source": [
    "ls"
   ]
  },
  {
   "cell_type": "code",
   "execution_count": 59,
   "metadata": {},
   "outputs": [
    {
     "name": "stdout",
     "output_type": "stream",
     "text": [
      "0\n",
      "0\n",
      "0\n"
     ]
    }
   ],
   "source": [
    "for i in [ref_genome + \"*\", \"data\", \"tmp\"]:\n",
    "    cmd = \"rm -r \" + i\n",
    "    print(os.system(cmd))"
   ]
  },
  {
   "cell_type": "code",
   "execution_count": 60,
   "metadata": {},
   "outputs": [
    {
     "name": "stdout",
     "output_type": "stream",
     "text": [
      "danRer7_tss_info.bed\r\n"
     ]
    }
   ],
   "source": [
    "ls output/"
   ]
  },
  {
   "cell_type": "code",
   "execution_count": 61,
   "metadata": {},
   "outputs": [
    {
     "data": {
      "text/plain": [
       "0"
      ]
     },
     "execution_count": 61,
     "metadata": {},
     "output_type": "execute_result"
    }
   ],
   "source": [
    "# move data\n",
    "cmd = f\"mv {path} ../../../../../celloracle/motif_analysis/tss_ref_data/\"\n",
    "os.system(cmd)"
   ]
  },
  {
   "cell_type": "code",
   "execution_count": 62,
   "metadata": {},
   "outputs": [
    {
     "name": "stdout",
     "output_type": "stream",
     "text": [
      "danRer10_tss_info.bed  hg19_tss_info.bed  mm9_tss_info.bed\r\n",
      "danRer11_tss_info.bed  hg38_tss_info.bed  sacCer2_tss_info.bed\r\n",
      "danRer7_tss_info.bed   mm10_tss_info.bed  sacCer3_tss_info.bed\r\n"
     ]
    }
   ],
   "source": [
    "ls ../../../../../celloracle/motif_analysis/tss_ref_data/"
   ]
  },
  {
   "cell_type": "code",
   "execution_count": null,
   "metadata": {},
   "outputs": [],
   "source": []
  }
 ],
 "metadata": {
  "kernelspec": {
   "display_name": "Python 3",
   "language": "python",
   "name": "python3"
  },
  "language_info": {
   "codemirror_mode": {
    "name": "ipython",
    "version": 3
   },
   "file_extension": ".py",
   "mimetype": "text/x-python",
   "name": "python",
   "nbconvert_exporter": "python",
   "pygments_lexer": "ipython3",
   "version": "3.6.10"
  }
 },
 "nbformat": 4,
 "nbformat_minor": 2
}
