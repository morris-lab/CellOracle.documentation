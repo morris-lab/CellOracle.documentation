{
 "cells": [
  {
   "cell_type": "markdown",
   "metadata": {},
   "source": [
    "In this notebook, we process the results of cicero analysis to get active promoter/enhancer DNA peaks.\n",
    "First, we pick up peaks around the transcription starting site (TSS).\n",
    "Second, we merge cicero data with the peaks around TSS.\n",
    "Then we remove peaks that have a weak connection to TSS peak so that the final product includes TSS peaks and peaks that have a strong connection with the TSS peaks. We use this information as an active promoter/enhancer elements."
   ]
  },
  {
   "cell_type": "markdown",
   "metadata": {},
   "source": [
    "# 0. Import libraries"
   ]
  },
  {
   "cell_type": "code",
   "execution_count": 1,
   "metadata": {},
   "outputs": [],
   "source": [
    "import pandas as pd\n",
    "import numpy as np\n",
    "import matplotlib.pyplot as plt\n",
    "%matplotlib inline\n",
    "\n",
    "import seaborn as sns\n",
    "\n",
    "\n",
    "import os, sys, shutil, importlib, glob\n",
    "from tqdm.notebook import tqdm\n",
    "\n",
    "from celloracle import motif_analysis as ma"
   ]
  },
  {
   "cell_type": "code",
   "execution_count": 2,
   "metadata": {},
   "outputs": [],
   "source": [
    "%config InlineBackend.figure_format = 'retina'\n",
    "\n",
    "plt.rcParams['figure.figsize'] = [6, 4.5]\n",
    "plt.rcParams[\"savefig.dpi\"] = 300"
   ]
  },
  {
   "cell_type": "markdown",
   "metadata": {},
   "source": [
    "# 1. Load data made with cicero"
   ]
  },
  {
   "cell_type": "code",
   "execution_count": 3,
   "metadata": {},
   "outputs": [
    {
     "data": {
      "text/plain": [
       "array(['chr1_3094484_3095479', 'chr1_3113499_3113979',\n",
       "       'chr1_3119478_3121690', ..., 'chrY_90804622_90805450',\n",
       "       'chrY_90808626_90809117', 'chrY_90810560_90811167'], dtype=object)"
      ]
     },
     "execution_count": 3,
     "metadata": {},
     "output_type": "execute_result"
    }
   ],
   "source": [
    "# Load all peaks\n",
    "peaks = pd.read_csv(\"cicero_output/all_peaks.csv\", index_col=0)\n",
    "peaks = peaks.x.values\n",
    "peaks"
   ]
  },
  {
   "cell_type": "code",
   "execution_count": 4,
   "metadata": {},
   "outputs": [
    {
     "name": "stderr",
     "output_type": "stream",
     "text": [
      "/home/k/anaconda3/envs/test/lib/python3.6/site-packages/numpy/lib/arraysetops.py:568: FutureWarning: elementwise comparison failed; returning scalar instead, but in the future will perform elementwise comparison\n",
      "  mask |= (ar1 == a)\n"
     ]
    },
    {
     "data": {
      "text/html": [
       "<div>\n",
       "<style scoped>\n",
       "    .dataframe tbody tr th:only-of-type {\n",
       "        vertical-align: middle;\n",
       "    }\n",
       "\n",
       "    .dataframe tbody tr th {\n",
       "        vertical-align: top;\n",
       "    }\n",
       "\n",
       "    .dataframe thead th {\n",
       "        text-align: right;\n",
       "    }\n",
       "</style>\n",
       "<table border=\"1\" class=\"dataframe\">\n",
       "  <thead>\n",
       "    <tr style=\"text-align: right;\">\n",
       "      <th></th>\n",
       "      <th>Peak1</th>\n",
       "      <th>Peak2</th>\n",
       "      <th>coaccess</th>\n",
       "    </tr>\n",
       "  </thead>\n",
       "  <tbody>\n",
       "    <tr>\n",
       "      <td>2</td>\n",
       "      <td>chr1_3094484_3095479</td>\n",
       "      <td>chr1_3113499_3113979</td>\n",
       "      <td>-0.316289</td>\n",
       "    </tr>\n",
       "    <tr>\n",
       "      <td>3</td>\n",
       "      <td>chr1_3094484_3095479</td>\n",
       "      <td>chr1_3119478_3121690</td>\n",
       "      <td>-0.419241</td>\n",
       "    </tr>\n",
       "    <tr>\n",
       "      <td>4</td>\n",
       "      <td>chr1_3094484_3095479</td>\n",
       "      <td>chr1_3399730_3400368</td>\n",
       "      <td>-0.050867</td>\n",
       "    </tr>\n",
       "    <tr>\n",
       "      <td>5</td>\n",
       "      <td>chr1_3113499_3113979</td>\n",
       "      <td>chr1_3094484_3095479</td>\n",
       "      <td>-0.316289</td>\n",
       "    </tr>\n",
       "    <tr>\n",
       "      <td>7</td>\n",
       "      <td>chr1_3113499_3113979</td>\n",
       "      <td>chr1_3119478_3121690</td>\n",
       "      <td>0.370343</td>\n",
       "    </tr>\n",
       "  </tbody>\n",
       "</table>\n",
       "</div>"
      ],
      "text/plain": [
       "                  Peak1                 Peak2  coaccess\n",
       "2  chr1_3094484_3095479  chr1_3113499_3113979 -0.316289\n",
       "3  chr1_3094484_3095479  chr1_3119478_3121690 -0.419241\n",
       "4  chr1_3094484_3095479  chr1_3399730_3400368 -0.050867\n",
       "5  chr1_3113499_3113979  chr1_3094484_3095479 -0.316289\n",
       "7  chr1_3113499_3113979  chr1_3119478_3121690  0.370343"
      ]
     },
     "execution_count": 4,
     "metadata": {},
     "output_type": "execute_result"
    }
   ],
   "source": [
    "# Load cicero results\n",
    "cicero_connections = pd.read_csv(\"cicero_output/cicero_connections.csv\", index_col=0)\n",
    "cicero_connections.head()"
   ]
  },
  {
   "cell_type": "markdown",
   "metadata": {},
   "source": [
    "# 2. Make TSS annotation\n",
    "## IMPORTANT: Please make sure that you are setting correct reference genoms.\n",
    " If your scATAC-seq data was generated with mm10 reference genome, you can set ref_genome=\"mm10\".\n",
    " If you used hg19 human reference genome, please set ref_genome==\"hg19\"\n",
    " \n",
    " Currently we support refgenomes below.\n",
    "{\"Human\": ['hg38', 'hg19'], \n",
    " \"Mouse\": ['mm10', 'mm9'], \n",
    " \"S.cerevisiae\": [\"sacCer2\", \"sacCer3\"]}\n",
    " \n",
    " If your reference genome is not in the list, please send a request through github issue page."
   ]
  },
  {
   "cell_type": "code",
   "execution_count": 5,
   "metadata": {},
   "outputs": [
    {
     "name": "stdout",
     "output_type": "stream",
     "text": [
      "que bed peaks: 72402\n",
      "tss peaks in que: 16987\n"
     ]
    },
    {
     "data": {
      "text/html": [
       "<div>\n",
       "<style scoped>\n",
       "    .dataframe tbody tr th:only-of-type {\n",
       "        vertical-align: middle;\n",
       "    }\n",
       "\n",
       "    .dataframe tbody tr th {\n",
       "        vertical-align: top;\n",
       "    }\n",
       "\n",
       "    .dataframe thead th {\n",
       "        text-align: right;\n",
       "    }\n",
       "</style>\n",
       "<table border=\"1\" class=\"dataframe\">\n",
       "  <thead>\n",
       "    <tr style=\"text-align: right;\">\n",
       "      <th></th>\n",
       "      <th>chr</th>\n",
       "      <th>start</th>\n",
       "      <th>end</th>\n",
       "      <th>gene_short_name</th>\n",
       "      <th>strand</th>\n",
       "    </tr>\n",
       "  </thead>\n",
       "  <tbody>\n",
       "    <tr>\n",
       "      <td>16982</td>\n",
       "      <td>chr1</td>\n",
       "      <td>55130650</td>\n",
       "      <td>55132118</td>\n",
       "      <td>Mob4</td>\n",
       "      <td>+</td>\n",
       "    </tr>\n",
       "    <tr>\n",
       "      <td>16983</td>\n",
       "      <td>chr6</td>\n",
       "      <td>94499875</td>\n",
       "      <td>94500767</td>\n",
       "      <td>Slc25a26</td>\n",
       "      <td>+</td>\n",
       "    </tr>\n",
       "    <tr>\n",
       "      <td>16984</td>\n",
       "      <td>chr19</td>\n",
       "      <td>45659222</td>\n",
       "      <td>45660823</td>\n",
       "      <td>Fbxw4</td>\n",
       "      <td>-</td>\n",
       "    </tr>\n",
       "    <tr>\n",
       "      <td>16985</td>\n",
       "      <td>chr12</td>\n",
       "      <td>100898848</td>\n",
       "      <td>100899597</td>\n",
       "      <td>Gpr68</td>\n",
       "      <td>-</td>\n",
       "    </tr>\n",
       "    <tr>\n",
       "      <td>16986</td>\n",
       "      <td>chr4</td>\n",
       "      <td>129491262</td>\n",
       "      <td>129492047</td>\n",
       "      <td>Fam229a</td>\n",
       "      <td>-</td>\n",
       "    </tr>\n",
       "  </tbody>\n",
       "</table>\n",
       "</div>"
      ],
      "text/plain": [
       "         chr      start        end gene_short_name strand\n",
       "16982   chr1   55130650   55132118            Mob4      +\n",
       "16983   chr6   94499875   94500767        Slc25a26      +\n",
       "16984  chr19   45659222   45660823           Fbxw4      -\n",
       "16985  chr12  100898848  100899597           Gpr68      -\n",
       "16986   chr4  129491262  129492047         Fam229a      -"
      ]
     },
     "execution_count": 5,
     "metadata": {},
     "output_type": "execute_result"
    }
   ],
   "source": [
    "\n",
    "tss_annotated = ma.get_tss_info(peak_str_list=peaks, ref_genome= ) ##!! Set reference genome here\n",
    "\n",
    "\n",
    "# Check results\n",
    "tss_annotated.tail()"
   ]
  },
  {
   "cell_type": "markdown",
   "metadata": {},
   "source": [
    "# 3. Integrate TSS info and cicero connections\n",
    "The output file after the integration process has three columns; \"peak_id\", \"gene_short_name\", and \"coaccess\".\n",
    "\"peak_id\" is either the TSS peak or the peaks that have a connection with the TSS peak.\n",
    "\"gene_short_name\" is the gene name that associated with the TSS site. \n",
    "\"coaccess\" is the co-access score between a peak and TSS peak. Note, the TSS peak is indicated by a score of 1."
   ]
  },
  {
   "cell_type": "code",
   "execution_count": 8,
   "metadata": {
    "scrolled": true
   },
   "outputs": [
    {
     "name": "stdout",
     "output_type": "stream",
     "text": [
      "(263279, 3)\n"
     ]
    },
    {
     "data": {
      "text/html": [
       "<div>\n",
       "<style scoped>\n",
       "    .dataframe tbody tr th:only-of-type {\n",
       "        vertical-align: middle;\n",
       "    }\n",
       "\n",
       "    .dataframe tbody tr th {\n",
       "        vertical-align: top;\n",
       "    }\n",
       "\n",
       "    .dataframe thead th {\n",
       "        text-align: right;\n",
       "    }\n",
       "</style>\n",
       "<table border=\"1\" class=\"dataframe\">\n",
       "  <thead>\n",
       "    <tr style=\"text-align: right;\">\n",
       "      <th></th>\n",
       "      <th>peak_id</th>\n",
       "      <th>gene_short_name</th>\n",
       "      <th>coaccess</th>\n",
       "    </tr>\n",
       "  </thead>\n",
       "  <tbody>\n",
       "    <tr>\n",
       "      <td>0</td>\n",
       "      <td>chr10_100015291_100017830</td>\n",
       "      <td>Kitl</td>\n",
       "      <td>1.000000</td>\n",
       "    </tr>\n",
       "    <tr>\n",
       "      <td>1</td>\n",
       "      <td>chr10_100018677_100020384</td>\n",
       "      <td>Kitl</td>\n",
       "      <td>0.086299</td>\n",
       "    </tr>\n",
       "    <tr>\n",
       "      <td>2</td>\n",
       "      <td>chr10_100050858_100051762</td>\n",
       "      <td>Kitl</td>\n",
       "      <td>0.034558</td>\n",
       "    </tr>\n",
       "    <tr>\n",
       "      <td>3</td>\n",
       "      <td>chr10_100052829_100053395</td>\n",
       "      <td>Kitl</td>\n",
       "      <td>0.167188</td>\n",
       "    </tr>\n",
       "    <tr>\n",
       "      <td>4</td>\n",
       "      <td>chr10_100128086_100128882</td>\n",
       "      <td>Tmtc3</td>\n",
       "      <td>0.022341</td>\n",
       "    </tr>\n",
       "  </tbody>\n",
       "</table>\n",
       "</div>"
      ],
      "text/plain": [
       "                     peak_id gene_short_name  coaccess\n",
       "0  chr10_100015291_100017830            Kitl  1.000000\n",
       "1  chr10_100018677_100020384            Kitl  0.086299\n",
       "2  chr10_100050858_100051762            Kitl  0.034558\n",
       "3  chr10_100052829_100053395            Kitl  0.167188\n",
       "4  chr10_100128086_100128882           Tmtc3  0.022341"
      ]
     },
     "execution_count": 8,
     "metadata": {},
     "output_type": "execute_result"
    }
   ],
   "source": [
    "integrated = ma.integrate_tss_peak_with_cicero(tss_peak=tss_annotated, \n",
    "                                               cicero_connections=cicero_connections)\n",
    "print(integrated.shape)\n",
    "integrated.head()"
   ]
  },
  {
   "cell_type": "markdown",
   "metadata": {},
   "source": [
    "# 4. Filter peaks\n",
    "Remove peaks that have weak coaccess score."
   ]
  },
  {
   "cell_type": "code",
   "execution_count": 9,
   "metadata": {},
   "outputs": [],
   "source": [
    "peak = integrated[integrated.coaccess >= 0.8]\n",
    "peak = peak[[\"peak_id\", \"gene_short_name\"]].reset_index(drop=True)"
   ]
  },
  {
   "cell_type": "code",
   "execution_count": 10,
   "metadata": {},
   "outputs": [
    {
     "name": "stdout",
     "output_type": "stream",
     "text": [
      "(15680, 2)\n"
     ]
    },
    {
     "data": {
      "text/html": [
       "<div>\n",
       "<style scoped>\n",
       "    .dataframe tbody tr th:only-of-type {\n",
       "        vertical-align: middle;\n",
       "    }\n",
       "\n",
       "    .dataframe tbody tr th {\n",
       "        vertical-align: top;\n",
       "    }\n",
       "\n",
       "    .dataframe thead th {\n",
       "        text-align: right;\n",
       "    }\n",
       "</style>\n",
       "<table border=\"1\" class=\"dataframe\">\n",
       "  <thead>\n",
       "    <tr style=\"text-align: right;\">\n",
       "      <th></th>\n",
       "      <th>peak_id</th>\n",
       "      <th>gene_short_name</th>\n",
       "    </tr>\n",
       "  </thead>\n",
       "  <tbody>\n",
       "    <tr>\n",
       "      <td>0</td>\n",
       "      <td>chr10_100015291_100017830</td>\n",
       "      <td>Kitl</td>\n",
       "    </tr>\n",
       "    <tr>\n",
       "      <td>1</td>\n",
       "      <td>chr10_100486534_100488209</td>\n",
       "      <td>Tmtc3</td>\n",
       "    </tr>\n",
       "    <tr>\n",
       "      <td>2</td>\n",
       "      <td>chr10_100588641_100589556</td>\n",
       "      <td>4930430F08Rik</td>\n",
       "    </tr>\n",
       "    <tr>\n",
       "      <td>3</td>\n",
       "      <td>chr10_100741247_100742505</td>\n",
       "      <td>Gm35722</td>\n",
       "    </tr>\n",
       "    <tr>\n",
       "      <td>4</td>\n",
       "      <td>chr10_101681379_101682124</td>\n",
       "      <td>Mgat4c</td>\n",
       "    </tr>\n",
       "  </tbody>\n",
       "</table>\n",
       "</div>"
      ],
      "text/plain": [
       "                     peak_id gene_short_name\n",
       "0  chr10_100015291_100017830            Kitl\n",
       "1  chr10_100486534_100488209           Tmtc3\n",
       "2  chr10_100588641_100589556   4930430F08Rik\n",
       "3  chr10_100741247_100742505         Gm35722\n",
       "4  chr10_101681379_101682124          Mgat4c"
      ]
     },
     "execution_count": 10,
     "metadata": {},
     "output_type": "execute_result"
    }
   ],
   "source": [
    "print(peak.shape)\n",
    "peak.head()"
   ]
  },
  {
   "cell_type": "markdown",
   "metadata": {},
   "source": [
    "# 5. Save data\n",
    "Save the promoter/enhancer peak."
   ]
  },
  {
   "cell_type": "code",
   "execution_count": 11,
   "metadata": {},
   "outputs": [],
   "source": [
    "peak.to_parquet(\"peak_file.parquet\")"
   ]
  },
  {
   "cell_type": "markdown",
   "metadata": {},
   "source": [
    "-> go to next notebook"
   ]
  }
 ],
 "metadata": {
  "kernelspec": {
   "display_name": "Python 3",
   "language": "python",
   "name": "python3"
  },
  "language_info": {
   "codemirror_mode": {
    "name": "ipython",
    "version": 3
   },
   "file_extension": ".py",
   "mimetype": "text/x-python",
   "name": "python",
   "nbconvert_exporter": "python",
   "pygments_lexer": "ipython3",
   "version": "3.6.10"
  }
 },
 "nbformat": 4,
 "nbformat_minor": 2
}
